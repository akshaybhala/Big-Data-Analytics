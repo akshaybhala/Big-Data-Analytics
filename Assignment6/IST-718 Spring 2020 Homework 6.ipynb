{
 "cells": [
  {
   "cell_type": "markdown",
   "metadata": {},
   "source": [
    "##### Grading Feedback\n",
    "89%"
   ]
  },
  {
   "cell_type": "code",
   "execution_count": 1,
   "metadata": {},
   "outputs": [],
   "source": [
    "from pyspark.ml import feature, regression, evaluation, Pipeline\n",
    "from pyspark.sql import functions as fn, Row\n",
    "from pyspark.ml.classification import GBTClassifier\n",
    "import pandas as pd\n",
    "import numpy as np\n",
    "import matplotlib.pyplot as plt\n",
    "import seaborn as sns\n",
    "import plotly.express as px\n",
    "from pyspark.sql.functions import when\n",
    "from pyspark.ml.feature import VectorAssembler\n",
    "from pyspark.ml.classification import LogisticRegression, RandomForestClassifier, GBTClassifier\n",
    "from pyspark.ml import Pipeline\n",
    "from pyspark.ml.evaluation import BinaryClassificationEvaluator\n",
    "from pyspark.ml.tuning import ParamGridBuilder, CrossValidator"
   ]
  },
  {
   "cell_type": "markdown",
   "metadata": {
    "deletable": false,
    "editable": false,
    "nbgrader": {
     "checksum": "c51f80b694da894627ba37be28c86055",
     "grade": false,
     "grade_id": "cell-b038e38b5e3072a9",
     "locked": true,
     "schema_version": 1,
     "solution": false
    }
   },
   "source": [
    "# IST 718: Big Data Analytics\n",
    "\n",
    "- Professor: Willard Williamson <wewillia@syr.edu>\n",
    "- Faculty Assistant: Yash Pasar <yspasar@syr.edu>\n",
    "## General instructions:\n",
    "\n",
    "- You are welcome to discuss the problems with your classmates but __you are not allowed to copy any part of your answers from your classmates.  Short code snippets are allowed from the internet.  Code from the class text books or class provided code can be copied in its entirety.__\n",
    "- There could be tests in some cells (i.e., `assert` and `np.testing.` statements). These tests (if present) are used to grade your answers. **However, the professor and FAs could use __additional__ test for your answer. Think about cases where your code should run even if it passess all the tests you see.**\n",
    "- Before submitting your work, remember to check for run time errors with the following procedure:\n",
    "`Kernel`$\\rightarrow$`Restart and Run All`.  All runtime errors will result in a minimum penalty of half off.\n",
    "- Data Bricks is the official class runtime environment so you should test your code on Data Bricks before submission.  If there is a runtime problem in the grading environment, we will try your code on Data Bricks before making a final grading decision.\n",
    "- All plots shall include a title, and axis labels.\n",
    "- Grading feedback cells are there for graders to provide feedback to students.  Don't change or remove grading feedback cells.\n",
    "- Don't add or remove files from your git repo.\n",
    "- Do not change file names in your repo.  This also means don't change the title of the ipython notebook.\n",
    "- You are free to add additional code cells around the cells marked `your code here`.\n",
    "- Students may use toPandas() to print the head of data frames.\n",
    "- Students are responsible for reading the usage comments and understanding how to properly use the get_training_filename() function.  Runtime errors which result from incorrect usage of get_training_filename() shall result in a  point reduction.  \n",
    "- __Only use spark, spark machine learning, spark data frames, RDD's, and map reduce to solve all problems unless instructed otherwise.  Heavy weight operations that convert data to pandas or spark (like collect()) will result in a point reduction.__"
   ]
  },
  {
   "cell_type": "markdown",
   "metadata": {
    "deletable": false,
    "nbgrader": {
     "checksum": "c51f80b694da894627ba37be28c86055",
     "grade": false,
     "grade_id": "cell-b038e38b5e3072a9",
     "locked": true,
     "schema_version": 1,
     "solution": false
    }
   },
   "source": [
    "### Wine Analysis\n",
    "I'm a big fan of wine and would love to use visualizations, machine learning, and inference to learn more about the characteristics of a good wine and predict good wines.  Unfortunately I'm too busy (and lazy) to do the analysis myself but I do have just under 60 trained data scientests at my disposal to do the research for me.  The data set contains the following columns:<br>\n",
    "\n",
    "Input variables (based on physicochemical tests):\n",
    "\n",
    "1. fixed acidity\n",
    "2. volatile acidity\n",
    "3. citric acid\n",
    "4. residual sugar\n",
    "5. chlorides\n",
    "6. free sulfur dioxide\n",
    "7. total sulfur dioxide\n",
    "8. density\n",
    "9. pH\n",
    "10. sulphates\n",
    "11. alcohol\n",
    "\n",
    "Output variable (based on sensory data):\n",
    "12. quality (score between 0 and 10)"
   ]
  },
  {
   "cell_type": "code",
   "execution_count": 2,
   "metadata": {
    "deletable": false,
    "editable": false,
    "nbgrader": {
     "checksum": "c51f80b694da894627ba37be28c86055",
     "grade": false,
     "grade_id": "cell-b038e38b5e3072a9",
     "locked": true,
     "schema_version": 1,
     "solution": false
    }
   },
   "outputs": [],
   "source": [
    "# Do not delete or change this cell\n",
    "\n",
    "# grading import statements\n",
    "from pyspark.sql import SparkSession\n",
    "from pyspark.sql import SQLContext\n",
    "spark = SparkSession.builder.getOrCreate()\n",
    "sc = spark.sparkContext\n",
    "sqlContext = SQLContext(sc)\n",
    "import os\n",
    "\n",
    "# Define a function to determine if we are running on data bricks\n",
    "# Return true if running in the data bricks environment, false otherwise\n",
    "def is_databricks():\n",
    "    # get the databricks runtime version\n",
    "    db_env = os.getenv(\"DATABRICKS_RUNTIME_VERSION\")\n",
    "    \n",
    "    # if running on data bricks\n",
    "    if db_env != None:\n",
    "        return True\n",
    "    else:\n",
    "        return False\n",
    "\n",
    "# Define a function to read the data file.  The full path data file name is constructed\n",
    "# by checking runtime environment variables to determine if the runtime environment is \n",
    "# databricks, or a student's personal computer.  The full path file name is then\n",
    "# constructed based on the runtime env.\n",
    "# \n",
    "# Params\n",
    "#   data_file_name: The base name of the data file to load\n",
    "# \n",
    "# Returns the full path file name based on the runtime env\n",
    "#\n",
    "# Correct Usage Example (pass ONLY the full file name):\n",
    "#   file_name_to_load = get_training_filename(\"sms_spam.csv\") # correct - pass ONLY the full file name  \n",
    "#   \n",
    "# Incorrect Usage Example\n",
    "#   file_name_to_load = get_training_filename(\"/sms_spam.csv\") # incorrect - pass ONLY the full file name\n",
    "#   file_name_to_load = get_training_filename(\"sms_spam.csv/\") # incorrect - pass ONLY the full file name\n",
    "#   file_name_to_load = get_training_filename(\"c:/users/will/data/sms_spam.csv\") incorrect -pass ONLY the full file name\n",
    "def get_training_filename(data_file_name):    \n",
    "    # if running on data bricks\n",
    "    if is_databricks():\n",
    "        # build the full path file name assuming data brick env\n",
    "        full_path_name = \"/FileStore/tables/%s\" % data_file_name\n",
    "    # else the data is assumed to be in the same dir as this notebook\n",
    "    else:\n",
    "        # Assume the student is running on their own computer and load the data\n",
    "        # file from the same dir as this notebook\n",
    "        full_path_name = data_file_name\n",
    "    \n",
    "    # return the full path file name to the caller\n",
    "    return full_path_name"
   ]
  },
  {
   "cell_type": "markdown",
   "metadata": {},
   "source": [
    "# Question 1 Data Wrangling: (10 pts)\n",
    "Read the winequality-red.csv data set into a spark data frame named wine_df.  Use the get_training_filename function provided above to determine the appropriate file path based on the platform on which you are running. Check the resulting data frame for NA / NAN values and deal with these problems appropriately.  Note that the target variable has 10 classes.  Convert the 10 classes into 2 classes.  If the target variable is greater than or equal to 7, replace the label with a 1 indicating good wine.  If the target varible is less than 7, replace the label with a 0 indicating a lower quality wine."
   ]
  },
  {
   "cell_type": "code",
   "execution_count": 3,
   "metadata": {},
   "outputs": [],
   "source": [
    "# students shall create wine_df here\n",
    "wine_df = spark.read.csv(get_training_filename('winequality-red.csv'), header=True, inferSchema=True)\n",
    "wine_df = wine_df.withColumn(\"quality\", \\\n",
    "              when(wine_df [\"quality\"] < 7,0).otherwise(1))"
   ]
  },
  {
   "cell_type": "code",
   "execution_count": 4,
   "metadata": {},
   "outputs": [
    {
     "name": "stdout",
     "output_type": "stream",
     "text": [
      "Shape: (1599, 12)\n"
     ]
    },
    {
     "data": {
      "text/html": [
       "<div>\n",
       "<style scoped>\n",
       "    .dataframe tbody tr th:only-of-type {\n",
       "        vertical-align: middle;\n",
       "    }\n",
       "\n",
       "    .dataframe tbody tr th {\n",
       "        vertical-align: top;\n",
       "    }\n",
       "\n",
       "    .dataframe thead th {\n",
       "        text-align: right;\n",
       "    }\n",
       "</style>\n",
       "<table border=\"1\" class=\"dataframe\">\n",
       "  <thead>\n",
       "    <tr style=\"text-align: right;\">\n",
       "      <th></th>\n",
       "      <th>fixed acidity</th>\n",
       "      <th>volatile acidity</th>\n",
       "      <th>citric acid</th>\n",
       "      <th>residual sugar</th>\n",
       "      <th>chlorides</th>\n",
       "      <th>free sulfur dioxide</th>\n",
       "      <th>total sulfur dioxide</th>\n",
       "      <th>density</th>\n",
       "      <th>pH</th>\n",
       "      <th>sulphates</th>\n",
       "      <th>alcohol</th>\n",
       "      <th>quality</th>\n",
       "    </tr>\n",
       "  </thead>\n",
       "  <tbody>\n",
       "    <tr>\n",
       "      <td>0</td>\n",
       "      <td>7.4</td>\n",
       "      <td>0.70</td>\n",
       "      <td>0.00</td>\n",
       "      <td>1.9</td>\n",
       "      <td>0.076</td>\n",
       "      <td>11.0</td>\n",
       "      <td>34.0</td>\n",
       "      <td>0.9978</td>\n",
       "      <td>3.51</td>\n",
       "      <td>0.56</td>\n",
       "      <td>9.4</td>\n",
       "      <td>0</td>\n",
       "    </tr>\n",
       "    <tr>\n",
       "      <td>1</td>\n",
       "      <td>7.8</td>\n",
       "      <td>0.88</td>\n",
       "      <td>0.00</td>\n",
       "      <td>2.6</td>\n",
       "      <td>0.098</td>\n",
       "      <td>25.0</td>\n",
       "      <td>67.0</td>\n",
       "      <td>0.9968</td>\n",
       "      <td>3.20</td>\n",
       "      <td>0.68</td>\n",
       "      <td>9.8</td>\n",
       "      <td>0</td>\n",
       "    </tr>\n",
       "    <tr>\n",
       "      <td>2</td>\n",
       "      <td>7.8</td>\n",
       "      <td>0.76</td>\n",
       "      <td>0.04</td>\n",
       "      <td>2.3</td>\n",
       "      <td>0.092</td>\n",
       "      <td>15.0</td>\n",
       "      <td>54.0</td>\n",
       "      <td>0.9970</td>\n",
       "      <td>3.26</td>\n",
       "      <td>0.65</td>\n",
       "      <td>9.8</td>\n",
       "      <td>0</td>\n",
       "    </tr>\n",
       "    <tr>\n",
       "      <td>3</td>\n",
       "      <td>11.2</td>\n",
       "      <td>0.28</td>\n",
       "      <td>0.56</td>\n",
       "      <td>1.9</td>\n",
       "      <td>0.075</td>\n",
       "      <td>17.0</td>\n",
       "      <td>60.0</td>\n",
       "      <td>0.9980</td>\n",
       "      <td>3.16</td>\n",
       "      <td>0.58</td>\n",
       "      <td>9.8</td>\n",
       "      <td>0</td>\n",
       "    </tr>\n",
       "    <tr>\n",
       "      <td>4</td>\n",
       "      <td>7.4</td>\n",
       "      <td>0.70</td>\n",
       "      <td>0.00</td>\n",
       "      <td>1.9</td>\n",
       "      <td>0.076</td>\n",
       "      <td>11.0</td>\n",
       "      <td>34.0</td>\n",
       "      <td>0.9978</td>\n",
       "      <td>3.51</td>\n",
       "      <td>0.56</td>\n",
       "      <td>9.4</td>\n",
       "      <td>0</td>\n",
       "    </tr>\n",
       "  </tbody>\n",
       "</table>\n",
       "</div>"
      ],
      "text/plain": [
       "   fixed acidity  volatile acidity  citric acid  residual sugar  chlorides  \\\n",
       "0            7.4              0.70         0.00             1.9      0.076   \n",
       "1            7.8              0.88         0.00             2.6      0.098   \n",
       "2            7.8              0.76         0.04             2.3      0.092   \n",
       "3           11.2              0.28         0.56             1.9      0.075   \n",
       "4            7.4              0.70         0.00             1.9      0.076   \n",
       "\n",
       "   free sulfur dioxide  total sulfur dioxide  density    pH  sulphates  \\\n",
       "0                 11.0                  34.0   0.9978  3.51       0.56   \n",
       "1                 25.0                  67.0   0.9968  3.20       0.68   \n",
       "2                 15.0                  54.0   0.9970  3.26       0.65   \n",
       "3                 17.0                  60.0   0.9980  3.16       0.58   \n",
       "4                 11.0                  34.0   0.9978  3.51       0.56   \n",
       "\n",
       "   alcohol  quality  \n",
       "0      9.4        0  \n",
       "1      9.8        0  \n",
       "2      9.8        0  \n",
       "3      9.8        0  \n",
       "4      9.4        0  "
      ]
     },
     "execution_count": 4,
     "metadata": {},
     "output_type": "execute_result"
    }
   ],
   "source": [
    "# grading cell: students shall print the head and shape of wine_df here\n",
    "print(\"Shape:\",(wine_df.count(),len(wine_df.columns)))\n",
    "wine_df.toPandas().head(5)"
   ]
  },
  {
   "cell_type": "code",
   "execution_count": 5,
   "metadata": {},
   "outputs": [
    {
     "data": {
      "text/html": [
       "<div>\n",
       "<style scoped>\n",
       "    .dataframe tbody tr th:only-of-type {\n",
       "        vertical-align: middle;\n",
       "    }\n",
       "\n",
       "    .dataframe tbody tr th {\n",
       "        vertical-align: top;\n",
       "    }\n",
       "\n",
       "    .dataframe thead th {\n",
       "        text-align: right;\n",
       "    }\n",
       "</style>\n",
       "<table border=\"1\" class=\"dataframe\">\n",
       "  <thead>\n",
       "    <tr style=\"text-align: right;\">\n",
       "      <th></th>\n",
       "      <th>fixed acidity</th>\n",
       "      <th>volatile acidity</th>\n",
       "      <th>citric acid</th>\n",
       "      <th>residual sugar</th>\n",
       "      <th>chlorides</th>\n",
       "      <th>free sulfur dioxide</th>\n",
       "      <th>total sulfur dioxide</th>\n",
       "      <th>density</th>\n",
       "      <th>pH</th>\n",
       "      <th>sulphates</th>\n",
       "      <th>alcohol</th>\n",
       "      <th>quality</th>\n",
       "    </tr>\n",
       "  </thead>\n",
       "  <tbody>\n",
       "    <tr>\n",
       "      <td>0</td>\n",
       "      <td>0</td>\n",
       "      <td>0</td>\n",
       "      <td>0</td>\n",
       "      <td>0</td>\n",
       "      <td>0</td>\n",
       "      <td>0</td>\n",
       "      <td>0</td>\n",
       "      <td>0</td>\n",
       "      <td>0</td>\n",
       "      <td>0</td>\n",
       "      <td>0</td>\n",
       "      <td>0</td>\n",
       "    </tr>\n",
       "  </tbody>\n",
       "</table>\n",
       "</div>"
      ],
      "text/plain": [
       "   fixed acidity  volatile acidity  citric acid  residual sugar  chlorides  \\\n",
       "0              0                 0            0               0          0   \n",
       "\n",
       "   free sulfur dioxide  total sulfur dioxide  density  pH  sulphates  alcohol  \\\n",
       "0                    0                     0        0   0          0        0   \n",
       "\n",
       "   quality  \n",
       "0        0  "
      ]
     },
     "execution_count": 5,
     "metadata": {},
     "output_type": "execute_result"
    }
   ],
   "source": [
    "# grading cell: students shall prove that there are no NA / NAN values in the wine_df here\n",
    "from pyspark.sql.functions import isnan, when, count, col\n",
    "wine_df.select([(fn.count(fn.when(fn.isnan(c), c))).alias(c) for c in wine_df.columns]).toPandas().head()"
   ]
  },
  {
   "cell_type": "markdown",
   "metadata": {},
   "source": [
    "##### Grading feedback cell"
   ]
  },
  {
   "cell_type": "markdown",
   "metadata": {},
   "source": [
    "# Question 2 Visualizations (10 pts)\n",
    "I am interested to know more about the data set.  Create one or more visualizations that summarize the data.  Write a short description that helps me understand the visualizations.  Tell me something interesting or surprising about the data."
   ]
  },
  {
   "cell_type": "code",
   "execution_count": 6,
   "metadata": {},
   "outputs": [
    {
     "data": {
      "image/png": "[encoded data removed]",
      "text/plain": [
       "<Figure size 1008x288 with 2 Axes>"
      ]
     },
     "metadata": {
      "needs_background": "light"
     },
     "output_type": "display_data"
    }
   ],
   "source": [
    "# your code here\n",
    "\n",
    "import plotly.graph_objects as go\n",
    "wine_df1 = wine_df.toPandas()\n",
    "\n",
    "f, axes = plt.subplots(1,2,figsize=(14,4))\n",
    "\n",
    "sns.distplot(wine_df1['volatile acidity'], ax = axes[0])\n",
    "axes[0].set_xlabel('Volatile Acidity', fontsize=14)\n",
    "axes[0].set_ylabel('Count', fontsize=14)\n",
    "axes[0].yaxis.tick_left()\n",
    "\n",
    "sns.violinplot(x = 'quality', y = 'volatile acidity', data = wine_df1, hue = 'quality',ax = axes[1])\n",
    "axes[1].set_xlabel('Quality', fontsize=14)\n",
    "axes[1].set_ylabel('Volatile Acidity', fontsize=14)\n",
    "axes[1].yaxis.set_label_position(\"right\")\n",
    "axes[1].yaxis.tick_right()\n",
    "\n",
    "plt.show()"
   ]
  },
  {
   "cell_type": "markdown",
   "metadata": {},
   "source": [
    "Your short description here:<br> Here we see that high quality wines have less volatile acidity"
   ]
  },
  {
   "cell_type": "code",
   "execution_count": 7,
   "metadata": {},
   "outputs": [
    {
     "data": {
      "text/plain": [
       "[Text(0, 0.5, 'pH'),\n",
       " Text(0.5, 0, 'Wine Quality'),\n",
       " Text(0.5, 1.0, 'pH in different types of Wine quality')]"
      ]
     },
     "execution_count": 7,
     "metadata": {},
     "output_type": "execute_result"
    },
    {
     "data": {
      "image/png": "[encoded data removed]",
      "text/plain": [
       "<Figure size 432x288 with 1 Axes>"
      ]
     },
     "metadata": {
      "needs_background": "light"
     },
     "output_type": "display_data"
    }
   ],
   "source": [
    "bx = sns.swarmplot(x=\"quality\", y=\"pH\", data = wine_df1);\n",
    "bx.set(xlabel='Wine Quality', ylabel='pH', title='pH in different types of Wine quality')"
   ]
  },
  {
   "cell_type": "markdown",
   "metadata": {},
   "source": [
    "The above plot shows ph content is more in bad quality of wine as compared to good quality."
   ]
  },
  {
   "cell_type": "markdown",
   "metadata": {},
   "source": [
    "##### Grading Feedback\n",
    "-3 No plot title"
   ]
  },
  {
   "cell_type": "markdown",
   "metadata": {},
   "source": [
    "# Random Forest"
   ]
  },
  {
   "cell_type": "code",
   "execution_count": 8,
   "metadata": {},
   "outputs": [],
   "source": [
    "x_train, x_test = wine_df.randomSplit([0.7, 0.3],seed=50)\n",
    "va = VectorAssembler().setInputCols(x_train.columns[:-1]).setOutputCol('features')\n",
    "evaluator = BinaryClassificationEvaluator(labelCol='quality')"
   ]
  },
  {
   "cell_type": "markdown",
   "metadata": {},
   "source": [
    "# Question 3: (10 pts)\n",
    "Create a spark RandomForestClassifier using all default parameters.  Train the model and calculate the AUC using a BinaryClassificationEvaluator."
   ]
  },
  {
   "cell_type": "code",
   "execution_count": 9,
   "metadata": {},
   "outputs": [
    {
     "data": {
      "text/plain": [
       "0.9218647911141847"
      ]
     },
     "execution_count": 9,
     "metadata": {},
     "output_type": "execute_result"
    }
   ],
   "source": [
    "# Your code here\n",
    "random_f = RandomForestClassifier(featuresCol='features',labelCol='quality')\n",
    "random_f_pipe = Pipeline(stages=[va, random_f])\n",
    "random_f_pipeline = random_f_pipe.fit(x_train)\n",
    "evaluator.evaluate(random_f_pipeline.transform(x_test))"
   ]
  },
  {
   "cell_type": "markdown",
   "metadata": {},
   "source": [
    "##### Grading Feedback"
   ]
  },
  {
   "cell_type": "markdown",
   "metadata": {},
   "source": [
    "# Question 4: (10 pts)\n",
    "Use spark RandomForestClassifier, ParamGridBuilder, and CrossValidator objects to perform a random forest grid search.  Use 3 fold cross validation and a BinaryClassificationEvaluator to evaluate the results.  The goal is to see if you can improve upon the AUC score produced by the default random forest model above.  You are free to choose any hyper parameters you want in your grid search.  You should be able to achieve an AUC score around / above 88%. "
   ]
  },
  {
   "cell_type": "code",
   "execution_count": 10,
   "metadata": {
    "deletable": false,
    "nbgrader": {
     "checksum": "2912f0aa0562283b8c2b9b8d330a9e8c",
     "grade": false,
     "grade_id": "cell-5d34f31b40350198",
     "locked": false,
     "schema_version": 1,
     "solution": true
    }
   },
   "outputs": [
    {
     "data": {
      "text/plain": [
       "0.9435796917637093"
      ]
     },
     "execution_count": 10,
     "metadata": {},
     "output_type": "execute_result"
    }
   ],
   "source": [
    "# Your grid search code here\n",
    "rfparamGrid = (ParamGridBuilder().addGrid(random_f.maxDepth, [3,6,9]).addGrid(random_f.numTrees, [100,150]).addGrid(random_f.impurity, ['gini','entropy']).build())\n",
    "crossval = CrossValidator(estimator = random_f_pipe ,estimatorParamMaps = rfparamGrid, evaluator = evaluator, numFolds = 3)\n",
    "random_f_cross = crossval.fit(x_train)\n",
    "evaluator.evaluate(random_f_cross.transform(x_test))"
   ]
  },
  {
   "cell_type": "code",
   "execution_count": 11,
   "metadata": {},
   "outputs": [],
   "source": [
    "roc = evaluator.evaluate(random_f_cross.transform(x_test))"
   ]
  },
  {
   "cell_type": "code",
   "execution_count": 12,
   "metadata": {},
   "outputs": [],
   "source": [
    "bestPipeline = random_f_cross.bestModel.stages[1]\n",
    "bestParams = bestPipeline.extractParamMap()\n",
    "\n",
    "column_names = ['maxDepth','numTrees','impurity','AUC Score']\n",
    "values = [bestParams[bestPipeline.getParam('maxDepth')],bestParams[bestPipeline.getParam('numTrees')],\n",
    "            bestParams[bestPipeline.getParam('impurity')],roc]"
   ]
  },
  {
   "cell_type": "markdown",
   "metadata": {},
   "source": [
    "##### Grading Feedback"
   ]
  },
  {
   "cell_type": "markdown",
   "metadata": {},
   "source": [
    "# Question 5 (10 pts)\n",
    "Extract the cross validation AUC score and specific hyper parameters used from the grid search above.  Create a pandas dataframe where the first column is the grid parameter name and the 2nd colum is the grid parameter value.  Make the last row of the pandas data frame the resulting AUC score.  Print the pandas data frame.  Describe in words in the markdown cell below what specific parameters you used in your grid and what those parameters do in the model.  For example, if you specified impurity in your grid, describe what impurity does in the random forest.  Keep the descriptions brief and at a high level, I'm just trying to see if you understand the high level concept of what the tuning parameter does."
   ]
  },
  {
   "cell_type": "code",
   "execution_count": 13,
   "metadata": {},
   "outputs": [
    {
     "data": {
      "text/html": [
       "<div>\n",
       "<style scoped>\n",
       "    .dataframe tbody tr th:only-of-type {\n",
       "        vertical-align: middle;\n",
       "    }\n",
       "\n",
       "    .dataframe tbody tr th {\n",
       "        vertical-align: top;\n",
       "    }\n",
       "\n",
       "    .dataframe thead th {\n",
       "        text-align: right;\n",
       "    }\n",
       "</style>\n",
       "<table border=\"1\" class=\"dataframe\">\n",
       "  <thead>\n",
       "    <tr style=\"text-align: right;\">\n",
       "      <th></th>\n",
       "      <th>Hyper_Parameters</th>\n",
       "      <th>Best_values</th>\n",
       "    </tr>\n",
       "  </thead>\n",
       "  <tbody>\n",
       "    <tr>\n",
       "      <td>0</td>\n",
       "      <td>maxDepth</td>\n",
       "      <td>9</td>\n",
       "    </tr>\n",
       "    <tr>\n",
       "      <td>1</td>\n",
       "      <td>numTrees</td>\n",
       "      <td>150</td>\n",
       "    </tr>\n",
       "    <tr>\n",
       "      <td>2</td>\n",
       "      <td>impurity</td>\n",
       "      <td>entropy</td>\n",
       "    </tr>\n",
       "    <tr>\n",
       "      <td>3</td>\n",
       "      <td>AUC Score</td>\n",
       "      <td>0.94358</td>\n",
       "    </tr>\n",
       "  </tbody>\n",
       "</table>\n",
       "</div>"
      ],
      "text/plain": [
       "  Hyper_Parameters Best_values\n",
       "0         maxDepth           9\n",
       "1         numTrees         150\n",
       "2         impurity     entropy\n",
       "3        AUC Score     0.94358"
      ]
     },
     "execution_count": 13,
     "metadata": {},
     "output_type": "execute_result"
    }
   ],
   "source": [
    "# Print the pandas data frame here\n",
    "pd.DataFrame(list(zip(column_names,values)),columns=['Hyper_Parameters','Best_values'])\n"
   ]
  },
  {
   "cell_type": "markdown",
   "metadata": {},
   "source": [
    "Write your grid search parameter descriptions here:<br>\n",
    "maxDepth : It represents the depth of each tree in the forest. The deeper the tree, the more splits it has and it captures more information about the data. As Depth increases there is a chance of overfitting.<br>\n",
    "numTrees :  Number of trees in the forest.Increasing the number of trees will decrease the variance in predictions, improving the model’s test-time accuracy.Training time increases roughly linearly in the number of trees.<br>\n",
    "impurity : The measure based on which the (locally) optimal condition is chosen is called impurity.For a forest, the impurity decrease from each feature can be averaged and the features are ranked according to this measure. Gini impurity is a measure of how often a randomly chosen element from the set would be incorrectly labeled if it was randomly labeled according to the distribution of labels in the subset. These metrics measure the quality of a split. Entropy can be roughly thought of as how much variance the data has.<br>\n",
    "Auc Score : AUC provides an aggregate measure of performance across all possible classification thresholds. One way of interpreting AUC is as the probability that the model ranks a random positive example more highly than a random negative example"
   ]
  },
  {
   "cell_type": "markdown",
   "metadata": {},
   "source": [
    "##### Grading Feedback\n",
    "-3 We asked for cross validation AUC and you provided test AUC"
   ]
  },
  {
   "cell_type": "markdown",
   "metadata": {},
   "source": [
    "# Question 6: 5 pts\n",
    "Create a pandas dataframe containing 2 columns: `feature` and `importance`.  Load the feature column with the dataset feature names and the 2nd column with the feature importances as determined by the best model produced by the grid search above.  Sort the dataframe by `importance` in descending order. In the markdown cell, tell me the 3 features that are most important to predicting a good wine."
   ]
  },
  {
   "cell_type": "code",
   "execution_count": 14,
   "metadata": {
    "deletable": false,
    "nbgrader": {
     "checksum": "89dc0c52dff983147af006f48049dd3e",
     "grade": false,
     "grade_id": "cell-5b666b921af5a375",
     "locked": false,
     "schema_version": 1,
     "solution": true
    }
   },
   "outputs": [
    {
     "data": {
      "text/html": [
       "<div>\n",
       "<style scoped>\n",
       "    .dataframe tbody tr th:only-of-type {\n",
       "        vertical-align: middle;\n",
       "    }\n",
       "\n",
       "    .dataframe tbody tr th {\n",
       "        vertical-align: top;\n",
       "    }\n",
       "\n",
       "    .dataframe thead th {\n",
       "        text-align: right;\n",
       "    }\n",
       "</style>\n",
       "<table border=\"1\" class=\"dataframe\">\n",
       "  <thead>\n",
       "    <tr style=\"text-align: right;\">\n",
       "      <th></th>\n",
       "      <th>feature</th>\n",
       "      <th>importance</th>\n",
       "    </tr>\n",
       "  </thead>\n",
       "  <tbody>\n",
       "    <tr>\n",
       "      <td>10</td>\n",
       "      <td>alcohol</td>\n",
       "      <td>0.217946</td>\n",
       "    </tr>\n",
       "    <tr>\n",
       "      <td>9</td>\n",
       "      <td>sulphates</td>\n",
       "      <td>0.124529</td>\n",
       "    </tr>\n",
       "    <tr>\n",
       "      <td>1</td>\n",
       "      <td>volatile acidity</td>\n",
       "      <td>0.098280</td>\n",
       "    </tr>\n",
       "    <tr>\n",
       "      <td>6</td>\n",
       "      <td>total sulfur dioxide</td>\n",
       "      <td>0.088467</td>\n",
       "    </tr>\n",
       "    <tr>\n",
       "      <td>2</td>\n",
       "      <td>citric acid</td>\n",
       "      <td>0.086816</td>\n",
       "    </tr>\n",
       "    <tr>\n",
       "      <td>0</td>\n",
       "      <td>fixed acidity</td>\n",
       "      <td>0.079406</td>\n",
       "    </tr>\n",
       "    <tr>\n",
       "      <td>7</td>\n",
       "      <td>density</td>\n",
       "      <td>0.076100</td>\n",
       "    </tr>\n",
       "    <tr>\n",
       "      <td>4</td>\n",
       "      <td>chlorides</td>\n",
       "      <td>0.065894</td>\n",
       "    </tr>\n",
       "    <tr>\n",
       "      <td>5</td>\n",
       "      <td>free sulfur dioxide</td>\n",
       "      <td>0.061901</td>\n",
       "    </tr>\n",
       "    <tr>\n",
       "      <td>3</td>\n",
       "      <td>residual sugar</td>\n",
       "      <td>0.050432</td>\n",
       "    </tr>\n",
       "    <tr>\n",
       "      <td>8</td>\n",
       "      <td>pH</td>\n",
       "      <td>0.050229</td>\n",
       "    </tr>\n",
       "  </tbody>\n",
       "</table>\n",
       "</div>"
      ],
      "text/plain": [
       "                 feature  importance\n",
       "10               alcohol    0.217946\n",
       "9              sulphates    0.124529\n",
       "1       volatile acidity    0.098280\n",
       "6   total sulfur dioxide    0.088467\n",
       "2            citric acid    0.086816\n",
       "0          fixed acidity    0.079406\n",
       "7                density    0.076100\n",
       "4              chlorides    0.065894\n",
       "5    free sulfur dioxide    0.061901\n",
       "3         residual sugar    0.050432\n",
       "8                     pH    0.050229"
      ]
     },
     "execution_count": 14,
     "metadata": {},
     "output_type": "execute_result"
    }
   ],
   "source": [
    "# Your code here\n",
    "pd.DataFrame(list(zip(wine_df.columns[:-1], bestPipeline.featureImportances.toArray())),\n",
    "            columns = ['feature', 'importance']).sort_values('importance',ascending=False)"
   ]
  },
  {
   "cell_type": "markdown",
   "metadata": {},
   "source": [
    "Your feature importance comments here.<br>\n",
    "Alcohol, Sulphates and Volatile Acidity are the 3 features that are most important to predicting a good wine.\n"
   ]
  },
  {
   "cell_type": "markdown",
   "metadata": {},
   "source": [
    "# Question 7:  10 pts.\n",
    "Print any of the trees in the forest from the final model.  Copy the printed text to the tree printout markdown cell below and retain the same formatting and indentation as the printout so it's easy for the graders to view the data.  Add comments to the markdown cell below describing how the root node is split:  Describe 2 things in the markdown cells below.  1) What specific predictor variable is being split and what is the value that determines the left / right split.  2) The top level split indicates the most important predictor in the data set.  Explain why the top level predictor in your printed tree can be different that the top level predictor from the cross validated model above. <br>"
   ]
  },
  {
   "cell_type": "code",
   "execution_count": 15,
   "metadata": {
    "deletable": false,
    "nbgrader": {
     "checksum": "b212587e3d2f28ad35f04e2a6149e762",
     "grade": false,
     "grade_id": "cell-7476baa7ceb72c05",
     "locked": false,
     "schema_version": 1,
     "solution": true
    }
   },
   "outputs": [
    {
     "name": "stdout",
     "output_type": "stream",
     "text": [
      "DecisionTreeClassificationModel (uid=dtc_7203053ff707) of depth 9 with 95 nodes\n",
      "  If (feature 9 <= 0.675)\n",
      "   If (feature 2 <= 0.315)\n",
      "    If (feature 10 <= 9.975)\n",
      "     Predict: 0.0\n",
      "    Else (feature 10 > 9.975)\n",
      "     If (feature 1 <= 0.5825)\n",
      "      If (feature 9 <= 0.445)\n",
      "       Predict: 1.0\n",
      "      Else (feature 9 > 0.445)\n",
      "       Predict: 0.0\n",
      "     Else (feature 1 > 0.5825)\n",
      "      If (feature 6 <= 28.5)\n",
      "       If (feature 0 <= 7.75)\n",
      "        If (feature 9 <= 0.615)\n",
      "         If (feature 5 <= 7.5)\n",
      "          Predict: 0.0\n",
      "         Else (feature 5 > 7.5)\n",
      "          If (feature 1 <= 0.6525000000000001)\n",
      "           Predict: 1.0\n",
      "          Else (feature 1 > 0.6525000000000001)\n",
      "           Predict: 0.0\n",
      "        Else (feature 9 > 0.615)\n",
      "         If (feature 4 <= 0.08149999999999999)\n",
      "          If (feature 0 <= 6.95)\n",
      "           Predict: 0.0\n",
      "          Else (feature 0 > 6.95)\n",
      "           Predict: 1.0\n",
      "         Else (feature 4 > 0.08149999999999999)\n",
      "          Predict: 1.0\n",
      "       Else (feature 0 > 7.75)\n",
      "        Predict: 0.0\n",
      "      Else (feature 6 > 28.5)\n",
      "       Predict: 0.0\n",
      "   Else (feature 2 > 0.315)\n",
      "    If (feature 5 <= 4.5)\n",
      "     If (feature 8 <= 3.335)\n",
      "      If (feature 7 <= 0.99644)\n",
      "       If (feature 1 <= 0.3675)\n",
      "        Predict: 0.0\n",
      "       Else (feature 1 > 0.3675)\n",
      "        Predict: 1.0\n",
      "      Else (feature 7 > 0.99644)\n",
      "       Predict: 0.0\n",
      "     Else (feature 8 > 3.335)\n",
      "      Predict: 1.0\n",
      "    Else (feature 5 > 4.5)\n",
      "     If (feature 10 <= 9.649999999999999)\n",
      "      Predict: 0.0\n",
      "     Else (feature 10 > 9.649999999999999)\n",
      "      If (feature 8 <= 3.3049999999999997)\n",
      "       If (feature 6 <= 13.5)\n",
      "        Predict: 1.0\n",
      "       Else (feature 6 > 13.5)\n",
      "        If (feature 0 <= 7.35)\n",
      "         If (feature 10 <= 11.350000000000001)\n",
      "          Predict: 1.0\n",
      "         Else (feature 10 > 11.350000000000001)\n",
      "          Predict: 0.0\n",
      "        Else (feature 0 > 7.35)\n",
      "         If (feature 9 <= 0.595)\n",
      "          Predict: 0.0\n",
      "         Else (feature 9 > 0.595)\n",
      "          If (feature 6 <= 16.5)\n",
      "           Predict: 1.0\n",
      "          Else (feature 6 > 16.5)\n",
      "           Predict: 0.0\n",
      "      Else (feature 8 > 3.3049999999999997)\n",
      "       Predict: 0.0\n",
      "  Else (feature 9 > 0.675)\n",
      "   If (feature 10 <= 9.850000000000001)\n",
      "    If (feature 8 <= 3.075)\n",
      "     If (feature 1 <= 0.3125)\n",
      "      If (feature 0 <= 7.15)\n",
      "       Predict: 0.0\n",
      "      Else (feature 0 > 7.15)\n",
      "       If (feature 7 <= 1.0003199999999999)\n",
      "        Predict: 1.0\n",
      "       Else (feature 7 > 1.0003199999999999)\n",
      "        Predict: 0.0\n",
      "     Else (feature 1 > 0.3125)\n",
      "      Predict: 0.0\n",
      "    Else (feature 8 > 3.075)\n",
      "     Predict: 0.0\n",
      "   Else (feature 10 > 9.850000000000001)\n",
      "    If (feature 6 <= 53.5)\n",
      "     If (feature 10 <= 12.75)\n",
      "      If (feature 1 <= 0.425)\n",
      "       If (feature 3 <= 4.45)\n",
      "        If (feature 3 <= 3.8499999999999996)\n",
      "         If (feature 7 <= 0.9956100000000001)\n",
      "          Predict: 1.0\n",
      "         Else (feature 7 > 0.9956100000000001)\n",
      "          Predict: 0.0\n",
      "        Else (feature 3 > 3.8499999999999996)\n",
      "         Predict: 0.0\n",
      "       Else (feature 3 > 4.45)\n",
      "        Predict: 1.0\n",
      "      Else (feature 1 > 0.425)\n",
      "       If (feature 3 <= 2.8499999999999996)\n",
      "        If (feature 10 <= 11.55)\n",
      "         Predict: 0.0\n",
      "        Else (feature 10 > 11.55)\n",
      "         If (feature 7 <= 0.99335)\n",
      "          Predict: 0.0\n",
      "         Else (feature 7 > 0.99335)\n",
      "          If (feature 9 <= 0.855)\n",
      "           Predict: 1.0\n",
      "          Else (feature 9 > 0.855)\n",
      "           Predict: 0.0\n",
      "       Else (feature 3 > 2.8499999999999996)\n",
      "        If (feature 6 <= 44.5)\n",
      "         Predict: 1.0\n",
      "        Else (feature 6 > 44.5)\n",
      "         Predict: 0.0\n",
      "     Else (feature 10 > 12.75)\n",
      "      Predict: 1.0\n",
      "    Else (feature 6 > 53.5)\n",
      "     If (feature 10 <= 11.75)\n",
      "      If (feature 2 <= 0.325)\n",
      "       Predict: 0.0\n",
      "      Else (feature 2 > 0.325)\n",
      "       If (feature 1 <= 0.505)\n",
      "        If (feature 7 <= 0.99611)\n",
      "         If (feature 8 <= 3.455)\n",
      "          Predict: 0.0\n",
      "         Else (feature 8 > 3.455)\n",
      "          Predict: 1.0\n",
      "        Else (feature 7 > 0.99611)\n",
      "         Predict: 0.0\n",
      "       Else (feature 1 > 0.505)\n",
      "        Predict: 1.0\n",
      "     Else (feature 10 > 11.75)\n",
      "      If (feature 6 <= 80.5)\n",
      "       If (feature 5 <= 26.5)\n",
      "        Predict: 0.0\n",
      "       Else (feature 5 > 26.5)\n",
      "        If (feature 1 <= 0.425)\n",
      "         Predict: 0.0\n",
      "        Else (feature 1 > 0.425)\n",
      "         Predict: 1.0\n",
      "      Else (feature 6 > 80.5)\n",
      "       Predict: 1.0\n",
      "\n"
     ]
    }
   ],
   "source": [
    "# your code here\n",
    "tree = random_f_cross.bestModel.stages[-1]\n",
    "print(tree.trees[0].toDebugString)"
   ]
  },
  {
   "cell_type": "markdown",
   "metadata": {},
   "source": [
    "##### Grading Feedback"
   ]
  },
  {
   "cell_type": "markdown",
   "metadata": {},
   "source": [
    "Paste the tree printout in this cell:<br>\n",
    "DecisionTreeClassificationModel: uid=dtc_0d1497ebba54, depth=9, numNodes=147, numClasses=2, numFeatures=11\n",
    "  If (feature 1 <= 0.375)\n",
    "   If (feature 4 <= 0.0765)\n",
    "    If (feature 10 <= 10.45)\n",
    "     If (feature 6 <= 25.5)\n",
    "      If (feature 7 <= 1.00027)\n",
    "       If (feature 2 <= 0.485)\n",
    "        If (feature 10 <= 9.275)\n",
    "         Predict: 1.0\n",
    "        Else (feature 10 > 9.275)\n",
    "         If (feature 0 <= 7.25)\n",
    "          Predict: 1.0\n",
    "         Else (feature 0 > 7.25)\n",
    "          Predict: 0.0\n",
    "       Else (feature 2 > 0.485)\n",
    "        Predict: 1.0\n",
    "      Else (feature 7 > 1.00027)\n",
    "       Predict: 0.0\n",
    "     Else (feature 6 > 25.5)\n",
    "      Predict: 0.0\n",
    "    Else (feature 10 > 10.45)\n",
    "     If (feature 9 <= 0.635)\n",
    "      If (feature 6 <= 13.5)\n",
    "       If (feature 10 <= 10.775)\n",
    "        Predict: 0.0\n",
    "       Else (feature 10 > 10.775)\n",
    "        Predict: 1.0\n",
    "      Else (feature 6 > 13.5)\n",
    "       If (feature 5 <= 21.5)\n",
    "        Predict: 0.0\n",
    "       Else (feature 5 > 21.5)\n",
    "        If (feature 6 <= 121.5)\n",
    "         Predict: 0.0\n",
    "        Else (feature 6 > 121.5)\n",
    "         Predict: 1.0\n",
    "     Else (feature 9 > 0.635)\n",
    "      If (feature 0 <= 6.15)\n",
    "       Predict: 0.0\n",
    "      Else (feature 0 > 6.15)\n",
    "       If (feature 7 <= 0.9957550000000001)\n",
    "        If (feature 0 <= 8.850000000000001)\n",
    "         If (feature 6 <= 49.5)\n",
    "          Predict: 1.0\n",
    "         Else (feature 6 > 49.5)\n",
    "          If (feature 4 <= 0.0665)\n",
    "           Predict: 0.0\n",
    "          Else (feature 4 > 0.0665)\n",
    "           Predict: 1.0\n",
    "        Else (feature 0 > 8.850000000000001)\n",
    "         Predict: 1.0\n",
    "       Else (feature 7 > 0.9957550000000001)\n",
    "        If (feature 7 <= 0.9967550000000001)\n",
    "         If (feature 9 <= 0.825)\n",
    "          Predict: 0.0\n",
    "         Else (feature 9 > 0.825)\n",
    "          If (feature 3 <= 1.85)\n",
    "           Predict: 0.0\n",
    "          Else (feature 3 > 1.85)\n",
    "           Predict: 1.0\n",
    "        Else (feature 7 > 0.9967550000000001)\n",
    "         If (feature 0 <= 7.75)\n",
    "          Predict: 0.0\n",
    "         Else (feature 0 > 7.75)\n",
    "          Predict: 1.0\n",
    "   Else (feature 4 > 0.0765)\n",
    "    If (feature 9 <= 0.735)\n",
    "     If (feature 5 <= 9.5)\n",
    "      If (feature 2 <= 0.355)\n",
    "       If (feature 8 <= 3.175)\n",
    "        Predict: 1.0\n",
    "       Else (feature 8 > 3.175)\n",
    "        Predict: 0.0\n",
    "      Else (feature 2 > 0.355)\n",
    "       If (feature 5 <= 6.5)\n",
    "        Predict: 0.0\n",
    "       Else (feature 5 > 6.5)\n",
    "        Predict: 1.0\n",
    "     Else (feature 5 > 9.5)\n",
    "      Predict: 0.0\n",
    "    Else (feature 9 > 0.735)\n",
    "     If (feature 9 <= 0.775)\n",
    "      If (feature 0 <= 10.45)\n",
    "       Predict: 1.0\n",
    "      Else (feature 0 > 10.45)\n",
    "       If (feature 6 <= 28.5)\n",
    "        Predict: 1.0\n",
    "       Else (feature 6 > 28.5)\n",
    "        Predict: 0.0\n",
    "     Else (feature 9 > 0.775)\n",
    "      If (feature 5 <= 4.5)\n",
    "       Predict: 0.0\n",
    "      Else (feature 5 > 4.5)\n",
    "       If (feature 9 <= 0.805)\n",
    "        Predict: 0.0\n",
    "       Else (feature 9 > 0.805)\n",
    "        If (feature 8 <= 3.085)\n",
    "         Predict: 0.0\n",
    "        Else (feature 8 > 3.085)\n",
    "         If (feature 5 <= 16.5)\n",
    "          Predict: 1.0\n",
    "         Else (feature 5 > 16.5)\n",
    "          If (feature 4 <= 0.08149999999999999)\n",
    "           Predict: 1.0\n",
    "          Else (feature 4 > 0.08149999999999999)\n",
    "           Predict: 0.0\n",
    "  Else (feature 1 > 0.375)\n",
    "   If (feature 9 <= 0.675)\n",
    "    If (feature 5 <= 13.5)\n",
    "     If (feature 1 <= 0.6675)\n",
    "      If (feature 4 <= 0.08249999999999999)\n",
    "       If (feature 1 <= 0.4175)\n",
    "        If (feature 9 <= 0.495)\n",
    "         Predict: 1.0\n",
    "        Else (feature 9 > 0.495)\n",
    "         Predict: 0.0\n",
    "       Else (feature 1 > 0.4175)\n",
    "        Predict: 0.0\n",
    "      Else (feature 4 > 0.08249999999999999)\n",
    "       If (feature 10 <= 12.05)\n",
    "        If (feature 2 <= 0.175)\n",
    "         If (feature 4 <= 0.0895)\n",
    "          If (feature 9 <= 0.555)\n",
    "           Predict: 0.0\n",
    "          Else (feature 9 > 0.555)\n",
    "           Predict: 1.0\n",
    "         Else (feature 4 > 0.0895)\n",
    "          Predict: 0.0\n",
    "        Else (feature 2 > 0.175)\n",
    "         If (feature 1 <= 0.515)\n",
    "          If (feature 5 <= 9.5)\n",
    "           Predict: 0.0\n",
    "          Else (feature 5 > 9.5)\n",
    "           Predict: 1.0\n",
    "         Else (feature 1 > 0.515)\n",
    "          Predict: 0.0\n",
    "       Else (feature 10 > 12.05)\n",
    "        Predict: 1.0\n",
    "     Else (feature 1 > 0.6675)\n",
    "      Predict: 0.0\n",
    "    Else (feature 5 > 13.5)\n",
    "     Predict: 0.0\n",
    "   Else (feature 9 > 0.675)\n",
    "    If (feature 10 <= 10.525)\n",
    "     If (feature 0 <= 6.15)\n",
    "      If (feature 4 <= 0.07050000000000001)\n",
    "       Predict: 1.0\n",
    "      Else (feature 4 > 0.07050000000000001)\n",
    "       Predict: 0.0\n",
    "     Else (feature 0 > 6.15)\n",
    "      If (feature 6 <= 47.5)\n",
    "       If (feature 1 <= 0.4175)\n",
    "        If (feature 2 <= 0.325)\n",
    "         If (feature 9 <= 0.775)\n",
    "          Predict: 1.0\n",
    "         Else (feature 9 > 0.775)\n",
    "          Predict: 0.0\n",
    "        Else (feature 2 > 0.325)\n",
    "         If (feature 8 <= 3.035)\n",
    "          Predict: 1.0\n",
    "         Else (feature 8 > 3.035)\n",
    "          Predict: 0.0\n",
    "       Else (feature 1 > 0.4175)\n",
    "        Predict: 0.0\n",
    "      Else (feature 6 > 47.5)\n",
    "       Predict: 0.0\n",
    "    Else (feature 10 > 10.525)\n",
    "     If (feature 8 <= 3.335)\n",
    "      If (feature 7 <= 0.996995)\n",
    "       If (feature 4 <= 0.0685)\n",
    "        If (feature 1 <= 0.405)\n",
    "         Predict: 1.0\n",
    "        Else (feature 1 > 0.405)\n",
    "         Predict: 0.0\n",
    "       Else (feature 4 > 0.0685)\n",
    "        Predict: 0.0\n",
    "      Else (feature 7 > 0.996995)\n",
    "       If (feature 10 <= 11.649999999999999)\n",
    "        If (feature 5 <= 29.5)\n",
    "         If (feature 7 <= 0.998595)\n",
    "          If (feature 1 <= 0.405)\n",
    "           Predict: 1.0\n",
    "          Else (feature 1 > 0.405)\n",
    "           Predict: 0.0\n",
    "         Else (feature 7 > 0.998595)\n",
    "          Predict: 0.0\n",
    "        Else (feature 5 > 29.5)\n",
    "         Predict: 1.0\n",
    "       Else (feature 10 > 11.649999999999999)\n",
    "        If (feature 1 <= 0.425)\n",
    "         If (feature 0 <= 10.05)\n",
    "          Predict: 0.0\n",
    "         Else (feature 0 > 10.05)\n",
    "          Predict: 1.0\n",
    "        Else (feature 1 > 0.425)\n",
    "         Predict: 1.0\n",
    "     Else (feature 8 > 3.335)\n",
    "      If (feature 0 <= 7.35)\n",
    "       If (feature 7 <= 0.99375)\n",
    "        If (feature 5 <= 19.5)\n",
    "         Predict: 1.0\n",
    "        Else (feature 5 > 19.5)\n",
    "         Predict: 0.0\n",
    "       Else (feature 7 > 0.99375)\n",
    "        If (feature 4 <= 0.0845)\n",
    "         If (feature 10 <= 10.649999999999999)\n",
    "          If (feature 0 <= 6.45)\n",
    "           Predict: 0.0\n",
    "          Else (feature 0 > 6.45)\n",
    "           Predict: 1.0\n",
    "         Else (feature 10 > 10.649999999999999)\n",
    "          Predict: 0.0\n",
    "        Else (feature 4 > 0.0845)\n",
    "         Predict: 1.0\n",
    "      Else (feature 0 > 7.35)\n",
    "       If (feature 2 <= 0.11499999999999999)\n",
    "        Predict: 1.0\n",
    "       Else (feature 2 > 0.11499999999999999)\n",
    "        If (feature 2 <= 0.315)\n",
    "         Predict: 0.0\n",
    "        Else (feature 2 > 0.315)\n",
    "         Predict: 1.0\n",
    "\n",
    "\n",
    "\n"
   ]
  },
  {
   "cell_type": "markdown",
   "metadata": {},
   "source": [
    "##### Grading Feedback"
   ]
  },
  {
   "cell_type": "markdown",
   "metadata": {},
   "source": [
    "What specific predictor variable is being split and what is the value that determines the left / right split:<br>\n",
    "Volatile acidity having index 1 is the specific predictor that is being split at the top. The value that determines the left / right split will be information gain. Volatile acidity having informaton gain as 0.375 would be higher than any other variable at this node. Therefore feature 1 <= 0.375 will determine the split.\n",
    "\n",
    "\n"
   ]
  },
  {
   "cell_type": "markdown",
   "metadata": {},
   "source": [
    "##### Grading Feedback\n",
    "-2 We are not making a left / right decision on information gain, we are making the left / right decision based on the value of volatile acidity."
   ]
  },
  {
   "cell_type": "markdown",
   "metadata": {},
   "source": [
    "Explain why the top level predictor in your printed tree can be different that the top level predictor from the cross validated model above:<br>\n",
    "In Grid Search when we define featureSubsetStartegy, it samples the features to use as candidates for splitting at each tree node. It helps in reducing the correlation between the trees. So, the top level predictor from the cross validated model might not be selected for the top node in this tree. In this example, even if the most important variable is alcohol, still the first node is splitted for volatile acidity.\n",
    "In Detail Each tree is fed a bootstraped sample of same size as the original data but with replacement making it somewhat different for all the trees in the forest. This bootstrap sampling makes the trees highly correlated so to reduce the correlation we use only number of columns equal to square root of total columns for each tree to train on rather than on whole data. Randomly pick columns by taking square root of number of columns and train each tree on these randomly picked columns is done. So this makes the top level predictors to be different for each tree. This random selection of limited columns for training each tree makes the top level predictors to be different and at last we do the majority vote from the leaf nodes of all these trees to get final output to prevent overfitting and increase accuracy."
   ]
  },
  {
   "cell_type": "markdown",
   "metadata": {},
   "source": [
    "##### Grading Feedback\n",
    "Excellent description"
   ]
  },
  {
   "cell_type": "markdown",
   "metadata": {},
   "source": [
    "# Question 8:  10 pts.\n",
    "Create a spark GBTClassifier using all default parameters.  Train the model and calculate the AUC using a BinaryClassificationEvaluator."
   ]
  },
  {
   "cell_type": "code",
   "execution_count": 16,
   "metadata": {},
   "outputs": [
    {
     "data": {
      "text/plain": [
       "0.903166916484109"
      ]
     },
     "execution_count": 16,
     "metadata": {},
     "output_type": "execute_result"
    }
   ],
   "source": [
    "# Your Code Here\n",
    "gradient = GBTClassifier(featuresCol = 'features', labelCol = 'quality')\n",
    "gradient_pipe = Pipeline(stages=[va, gradient])\n",
    "gradient_pipeline = gradient_pipe.fit(x_train)\n",
    "evaluator.evaluate(gradient_pipeline.transform(x_test))"
   ]
  },
  {
   "cell_type": "markdown",
   "metadata": {},
   "source": [
    "##### Grading Feedback"
   ]
  },
  {
   "cell_type": "markdown",
   "metadata": {},
   "source": [
    "# Question 9:  10 pts.\n",
    "Use spark GBTClassifier, ParamGridBuilder, and CrossValidator objects to perform a GBT grid search.  Use 3 fold cross validation and a BinaryClassificationEvaluator to evaluate the results.  The goal is to see if you can improve upon the AUC score produced by the default GBT model and the random forest model above.  You are free to experiment with any search parameters you wish.  It is also okay to experiment with maxIter and stepSize outside of the grid if you wish as long as you comment what you are doing."
   ]
  },
  {
   "cell_type": "code",
   "execution_count": 17,
   "metadata": {},
   "outputs": [
    {
     "data": {
      "text/plain": [
       "0.9092394019754794"
      ]
     },
     "execution_count": 17,
     "metadata": {},
     "output_type": "execute_result"
    }
   ],
   "source": [
    "# Your Code Here\n",
    "paramGrid = ParamGridBuilder()\\\n",
    "            .addGrid(gradient.maxDepth, [2,5,9])\\\n",
    "            .addGrid(gradient.featureSubsetStrategy, ['all'])\\\n",
    "            .addGrid(gradient.minInstancesPerNode, [3,5])\\\n",
    "            .addGrid(gradient.stepSize, [0.01,0.1,1]).build()\n",
    "crossval = CrossValidator(estimator=gradient_pipe, estimatorParamMaps=paramGrid, evaluator=evaluator, numFolds=3)\n",
    "grad_cross = crossval.fit(x_train)\n",
    "evaluator.evaluate(grad_cross.transform(x_test))"
   ]
  },
  {
   "cell_type": "code",
   "execution_count": 18,
   "metadata": {},
   "outputs": [],
   "source": [
    "roc1 = evaluator.evaluate(grad_cross.transform(x_test))"
   ]
  },
  {
   "cell_type": "markdown",
   "metadata": {},
   "source": [
    "##### Grading Feedback\n",
    "You again did not provide the cross validated AUC.  Why did you fix the feature subset strategy to all?"
   ]
  },
  {
   "cell_type": "markdown",
   "metadata": {},
   "source": [
    "# Question 10 10 pts\n",
    "Create a grid search summary pandas data frame for the GBT grid search exactly like you did in question 5 above."
   ]
  },
  {
   "cell_type": "code",
   "execution_count": 19,
   "metadata": {},
   "outputs": [
    {
     "data": {
      "text/html": [
       "<div>\n",
       "<style scoped>\n",
       "    .dataframe tbody tr th:only-of-type {\n",
       "        vertical-align: middle;\n",
       "    }\n",
       "\n",
       "    .dataframe tbody tr th {\n",
       "        vertical-align: top;\n",
       "    }\n",
       "\n",
       "    .dataframe thead th {\n",
       "        text-align: right;\n",
       "    }\n",
       "</style>\n",
       "<table border=\"1\" class=\"dataframe\">\n",
       "  <thead>\n",
       "    <tr style=\"text-align: right;\">\n",
       "      <th></th>\n",
       "      <th>Hyper_Parameters</th>\n",
       "      <th>Best_values</th>\n",
       "    </tr>\n",
       "  </thead>\n",
       "  <tbody>\n",
       "    <tr>\n",
       "      <td>0</td>\n",
       "      <td>maxDepth</td>\n",
       "      <td>5</td>\n",
       "    </tr>\n",
       "    <tr>\n",
       "      <td>1</td>\n",
       "      <td>minInstancesPerNode</td>\n",
       "      <td>5</td>\n",
       "    </tr>\n",
       "    <tr>\n",
       "      <td>2</td>\n",
       "      <td>featureSubsetStrategy</td>\n",
       "      <td>all</td>\n",
       "    </tr>\n",
       "    <tr>\n",
       "      <td>3</td>\n",
       "      <td>stepSize</td>\n",
       "      <td>0.1</td>\n",
       "    </tr>\n",
       "    <tr>\n",
       "      <td>4</td>\n",
       "      <td>AUC Score</td>\n",
       "      <td>0.909239</td>\n",
       "    </tr>\n",
       "  </tbody>\n",
       "</table>\n",
       "</div>"
      ],
      "text/plain": [
       "        Hyper_Parameters Best_values\n",
       "0               maxDepth           5\n",
       "1    minInstancesPerNode           5\n",
       "2  featureSubsetStrategy         all\n",
       "3               stepSize         0.1\n",
       "4              AUC Score    0.909239"
      ]
     },
     "execution_count": 19,
     "metadata": {},
     "output_type": "execute_result"
    }
   ],
   "source": [
    "# Your Code Here\n",
    "bestPipeline = grad_cross.bestModel.stages[1]\n",
    "bestParams = bestPipeline.extractParamMap()\n",
    "column_names =  ['maxDepth','minInstancesPerNode','featureSubsetStrategy','stepSize','AUC Score']\n",
    "values = [bestParams[bestPipeline.getParam('maxDepth')],bestParams[bestPipeline.getParam('minInstancesPerNode')],\n",
    "            bestParams[bestPipeline.getParam('featureSubsetStrategy')],bestParams[bestPipeline.getParam('stepSize')],roc1]\n",
    "\n",
    "df_gb = pd.DataFrame(list(zip(column_names,values)),columns=['Hyper_Parameters','Best_values'])\n",
    "df_gb"
   ]
  },
  {
   "cell_type": "markdown",
   "metadata": {},
   "source": [
    "##### Grading Feedback"
   ]
  },
  {
   "cell_type": "markdown",
   "metadata": {},
   "source": [
    "Add search parameter comments here<br>\n",
    "maxDepth : The maximum depth of a tree. Used to control over-fitting as higher depth will allow model to learn relations very specific to a particular sample. <br>\n",
    "minInstancesPerNode : It is the minimum number of samples required to split an internal node. This can vary between considering at least one sample at each node to considering all of the samples at each node. If all of the samples at each node, the model cannot learn enough about the data. This is an underfitting.<br>\n",
    "featureSubsetStrategy : Number of features to use as candidates for splitting at each tree node. The number is specified as a fraction or function of the total number of features.<br>\n",
    "stepSize : A technique to slow down the learning in the gradient boosting model is to apply a weighting factor for the corrections by new trees when added to the model. Higher values of learning rate for the model tend to overfit(high variance). The learning rate with lower values will not allow the tree to fit the data closely.\t\n",
    "\n"
   ]
  },
  {
   "cell_type": "markdown",
   "metadata": {},
   "source": [
    "##### Grading Feedback Cell\n",
    "-3: I disagree with the statement \"Higher values of learning rate for the model tend to overfit(high variance). The learning rate with lower values will not allow the tree to fit the data closely.\"  For example you can overcome lower values by adding more trees.  My opionion is that the forest tends to learn better with lower values of step size."
   ]
  },
  {
   "cell_type": "markdown",
   "metadata": {},
   "source": [
    "# Question 11 (5 pts):\n",
    "Create and print a pandas dataframe with the columns `feature` and `importance` just like question 6 above.  Also, compare the feature importances to random forest from question 6 above - how different or similar are the feature importances between GBT and random forest."
   ]
  },
  {
   "cell_type": "code",
   "execution_count": 20,
   "metadata": {},
   "outputs": [
    {
     "data": {
      "text/html": [
       "<div>\n",
       "<style scoped>\n",
       "    .dataframe tbody tr th:only-of-type {\n",
       "        vertical-align: middle;\n",
       "    }\n",
       "\n",
       "    .dataframe tbody tr th {\n",
       "        vertical-align: top;\n",
       "    }\n",
       "\n",
       "    .dataframe thead th {\n",
       "        text-align: right;\n",
       "    }\n",
       "</style>\n",
       "<table border=\"1\" class=\"dataframe\">\n",
       "  <thead>\n",
       "    <tr style=\"text-align: right;\">\n",
       "      <th></th>\n",
       "      <th>feature</th>\n",
       "      <th>importance</th>\n",
       "    </tr>\n",
       "  </thead>\n",
       "  <tbody>\n",
       "    <tr>\n",
       "      <td>6</td>\n",
       "      <td>total sulfur dioxide</td>\n",
       "      <td>0.144004</td>\n",
       "    </tr>\n",
       "    <tr>\n",
       "      <td>10</td>\n",
       "      <td>alcohol</td>\n",
       "      <td>0.125048</td>\n",
       "    </tr>\n",
       "    <tr>\n",
       "      <td>9</td>\n",
       "      <td>sulphates</td>\n",
       "      <td>0.116648</td>\n",
       "    </tr>\n",
       "    <tr>\n",
       "      <td>2</td>\n",
       "      <td>citric acid</td>\n",
       "      <td>0.113496</td>\n",
       "    </tr>\n",
       "    <tr>\n",
       "      <td>8</td>\n",
       "      <td>pH</td>\n",
       "      <td>0.093163</td>\n",
       "    </tr>\n",
       "    <tr>\n",
       "      <td>1</td>\n",
       "      <td>volatile acidity</td>\n",
       "      <td>0.078642</td>\n",
       "    </tr>\n",
       "    <tr>\n",
       "      <td>7</td>\n",
       "      <td>density</td>\n",
       "      <td>0.074660</td>\n",
       "    </tr>\n",
       "    <tr>\n",
       "      <td>4</td>\n",
       "      <td>chlorides</td>\n",
       "      <td>0.069011</td>\n",
       "    </tr>\n",
       "    <tr>\n",
       "      <td>3</td>\n",
       "      <td>residual sugar</td>\n",
       "      <td>0.062776</td>\n",
       "    </tr>\n",
       "    <tr>\n",
       "      <td>5</td>\n",
       "      <td>free sulfur dioxide</td>\n",
       "      <td>0.061828</td>\n",
       "    </tr>\n",
       "    <tr>\n",
       "      <td>0</td>\n",
       "      <td>fixed acidity</td>\n",
       "      <td>0.060723</td>\n",
       "    </tr>\n",
       "  </tbody>\n",
       "</table>\n",
       "</div>"
      ],
      "text/plain": [
       "                 feature  importance\n",
       "6   total sulfur dioxide    0.144004\n",
       "10               alcohol    0.125048\n",
       "9              sulphates    0.116648\n",
       "2            citric acid    0.113496\n",
       "8                     pH    0.093163\n",
       "1       volatile acidity    0.078642\n",
       "7                density    0.074660\n",
       "4              chlorides    0.069011\n",
       "3         residual sugar    0.062776\n",
       "5    free sulfur dioxide    0.061828\n",
       "0          fixed acidity    0.060723"
      ]
     },
     "execution_count": 20,
     "metadata": {},
     "output_type": "execute_result"
    }
   ],
   "source": [
    "# Your code here\n",
    "pd.DataFrame(list(zip(wine_df.columns[:-1], bestPipeline.featureImportances.toArray())),\n",
    "            columns = ['feature', 'importance']).sort_values('importance',ascending=False)"
   ]
  },
  {
   "cell_type": "markdown",
   "metadata": {},
   "source": [
    "Feature importance comments here:<br>\n",
    "Alcohol, Volatile Acidity and Sulphates are the 3 features that are most important to predicting a good wine"
   ]
  },
  {
   "cell_type": "markdown",
   "metadata": {},
   "source": [
    "Add feature importance comparison comments here:<br>\n",
    "Both the algorithms provide us similar features for predicting a good wine but for random forest the second most important feature is Sulphates whereas for gradient boosting Volatile Acidity is the second most important feature."
   ]
  },
  {
   "cell_type": "markdown",
   "metadata": {},
   "source": [
    "##### Grading Feedback"
   ]
  },
  {
   "cell_type": "code",
   "execution_count": null,
   "metadata": {},
   "outputs": [],
   "source": []
  }
 ],
 "metadata": {
  "celltoolbar": "Edit Metadata",
  "kernelspec": {
   "display_name": "Python 3",
   "language": "python",
   "name": "python3"
  },
  "language_info": {
   "codemirror_mode": {
    "name": "ipython",
    "version": 3
   },
   "file_extension": ".py",
   "mimetype": "text/x-python",
   "name": "python",
   "nbconvert_exporter": "python",
   "pygments_lexer": "ipython3",
   "version": "3.7.6"
  }
 },
 "nbformat": 4,
 "nbformat_minor": 2
}
