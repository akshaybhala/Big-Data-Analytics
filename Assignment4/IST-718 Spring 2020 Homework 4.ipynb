{
 "cells": [
  {
   "cell_type": "markdown",
   "metadata": {},
   "source": [
    "### Grading Feedback\n",
    "102%"
   ]
  },
  {
   "cell_type": "markdown",
   "metadata": {},
   "source": [
    "# IST 718: Big Data Analytics\n",
    "\n",
    "- Professor: Willard Williamson <wewillia@syr.edu>\n",
    "- Faculty Assistant: Yash Pasar <yspasar@syr.edu>\n",
    "## General instructions:\n",
    "\n",
    "- You are welcome to discuss the problems with your classmates but __you are not allowed to copy any part of your answers from your classmates.  Short code snippets are allowed from the internet.  Code from the class text books or class provided code can be copied in its entirety.__\n",
    "- There could be tests in some cells (i.e., `assert` and `np.testing.` statements). These tests (if present) are used to grade your answers. **However, the professor and FAs could use __additional__ test for your answer. Think about cases where your code should run even if it passess all the tests you see.**\n",
    "- Before submitting your work, remember to check for run time errors with the following procedure:\n",
    "`Kernel`$\\rightarrow$`Restart and Run All`.  All runtime errors will result in a minimum penalty of half off.\n",
    "- Data Bricks is the official class runtime environment so you should test your code on Data Bricks before submission.  If there is a runtime problem in the grading environment, we will try your code on Data Bricks before making a final grading decision.\n",
    "- All plots shall include a title, and axis labels.\n",
    "- Grading feedback cells are there for graders to provide feedback to students.  Don't change or remove grading feedback cells.\n",
    "- Don't add or remove files from your git repo.\n",
    "- Do not change file names in your repo.  This also means don't change the title of the ipython notebook.\n",
    "- You are free to add additional code cells around the cells marked `your code here`.\n",
    "- Students may use toPandas() to print the head of data frames.\n",
    "- __Only use spark, spark machine learning, spark data frames, RDD's, and map reduce to solve all problems unless instructed otherwise.__"
   ]
  },
  {
   "cell_type": "code",
   "execution_count": 16,
   "metadata": {},
   "outputs": [],
   "source": [
    "# Do not delete or change this cell\n",
    "\n",
    "import os\n",
    "\n",
    "# Define a function to determine if we are running on data bricks\n",
    "# Return true if running in the data bricks environment, false otherwise\n",
    "def is_databricks():\n",
    "    # get the databricks runtime version\n",
    "    db_env = os.getenv(\"DATABRICKS_RUNTIME_VERSION\")\n",
    "    \n",
    "    # if running on data bricks\n",
    "    if db_env != None:\n",
    "        return True\n",
    "    else:\n",
    "        return False\n",
    "\n",
    "# Define a function to read the data file.  The full path data file name is constructed\n",
    "# by checking runtime environment variables to determine if the runtime environment is \n",
    "# databricks, or a student's personal computer.  The full path file name is then\n",
    "# constructed based on the runtime env.\n",
    "# \n",
    "# Params\n",
    "#   data_file_name: The base name of the data file to load\n",
    "# \n",
    "# Returns the full path file name based on the runtime env\n",
    "#\n",
    "def get_training_filename(data_file_name):    \n",
    "    # if running on data bricks\n",
    "    if is_databricks():\n",
    "        # build the full path file name assuming data brick env\n",
    "        full_path_name = \"/FileStore/tables/%s\" % data_file_name\n",
    "    # else the data is assumed to be in the same dir as this notebook\n",
    "    else:\n",
    "        # Assume the student is running on their own computer and load the data\n",
    "        # file from the same dir as this notebook\n",
    "        full_path_name = data_file_name\n",
    "    \n",
    "    # return the full path file name to the caller\n",
    "    return full_path_name"
   ]
  },
  {
   "cell_type": "code",
   "execution_count": 17,
   "metadata": {},
   "outputs": [],
   "source": [
    "from __future__ import division\n",
    "from pyspark.sql import SparkSession\n",
    "from pyspark.ml import feature, regression, evaluation, Pipeline\n",
    "from pyspark.sql import functions as fn, Row\n",
    "from pyspark.ml.feature import StopWordsRemover, RegexTokenizer, IDF, CountVectorizer, Tokenizer\n",
    "from pyspark.ml.classification import LogisticRegression\n",
    "from pyspark.ml.tuning import ParamGridBuilder\n",
    "from pyspark.ml.evaluation import BinaryClassificationEvaluator\n",
    "from pyspark.ml.tuning import CrossValidator\n",
    "\n",
    "import matplotlib.pyplot as plt\n",
    "import glob\n",
    "import subprocess\n",
    "import numpy as np\n",
    "import pandas as pd\n",
    "import os\n",
    "import requests\n",
    "\n",
    "\n",
    "spark = SparkSession.builder.getOrCreate()\n",
    "sc = spark.sparkContext"
   ]
  },
  {
   "cell_type": "markdown",
   "metadata": {},
   "source": [
    "# Question 1\n",
    "Using the get_training_filename function defined in the cell above, read the sms_spam.csv file into a spark dataframe named spam_df.  There should be no empty columns in spam_df."
   ]
  },
  {
   "cell_type": "code",
   "execution_count": 18,
   "metadata": {},
   "outputs": [
    {
     "name": "stdout",
     "output_type": "stream",
     "text": [
      "+----+--------------------+\n",
      "|type|                text|\n",
      "+----+--------------------+\n",
      "| ham|Go until jurong p...|\n",
      "| ham|Ok lar... Joking ...|\n",
      "|spam|Free entry in 2 a...|\n",
      "| ham|U dun say so earl...|\n",
      "| ham|Nah I don't think...|\n",
      "+----+--------------------+\n",
      "only showing top 5 rows\n",
      "\n"
     ]
    }
   ],
   "source": [
    "# Your code here\n",
    "spam_df = spark.read.csv(get_training_filename(\"sms_spam.csv\"), header=True)\n",
    "spam_df.show(5)"
   ]
  },
  {
   "cell_type": "markdown",
   "metadata": {},
   "source": [
    "### Grading Feedback"
   ]
  },
  {
   "cell_type": "markdown",
   "metadata": {},
   "source": [
    "# Question 2\n",
    "Starting with spam_df, create a new dataframe named spam_df1.  Rename the spam_df type column to be named spam.  In the spam column, replace the string `spam` the with the integer 1 and the string `ham` with the integer 0.  Print the head and shape of spam_df1."
   ]
  },
  {
   "cell_type": "code",
   "execution_count": 19,
   "metadata": {},
   "outputs": [
    {
     "name": "stdout",
     "output_type": "stream",
     "text": [
      "shape: (5574, 2)\n"
     ]
    },
    {
     "data": {
      "text/html": [
       "<div>\n",
       "<style scoped>\n",
       "    .dataframe tbody tr th:only-of-type {\n",
       "        vertical-align: middle;\n",
       "    }\n",
       "\n",
       "    .dataframe tbody tr th {\n",
       "        vertical-align: top;\n",
       "    }\n",
       "\n",
       "    .dataframe thead th {\n",
       "        text-align: right;\n",
       "    }\n",
       "</style>\n",
       "<table border=\"1\" class=\"dataframe\">\n",
       "  <thead>\n",
       "    <tr style=\"text-align: right;\">\n",
       "      <th></th>\n",
       "      <th>spam</th>\n",
       "      <th>text</th>\n",
       "    </tr>\n",
       "  </thead>\n",
       "  <tbody>\n",
       "    <tr>\n",
       "      <td>0</td>\n",
       "      <td>0</td>\n",
       "      <td>Go until jurong point, crazy.. Available only ...</td>\n",
       "    </tr>\n",
       "    <tr>\n",
       "      <td>1</td>\n",
       "      <td>0</td>\n",
       "      <td>Ok lar... Joking wif u oni...</td>\n",
       "    </tr>\n",
       "    <tr>\n",
       "      <td>2</td>\n",
       "      <td>1</td>\n",
       "      <td>Free entry in 2 a wkly comp to win FA Cup fina...</td>\n",
       "    </tr>\n",
       "    <tr>\n",
       "      <td>3</td>\n",
       "      <td>0</td>\n",
       "      <td>U dun say so early hor... U c already then say...</td>\n",
       "    </tr>\n",
       "    <tr>\n",
       "      <td>4</td>\n",
       "      <td>0</td>\n",
       "      <td>Nah I don't think he goes to usf, he lives aro...</td>\n",
       "    </tr>\n",
       "  </tbody>\n",
       "</table>\n",
       "</div>"
      ],
      "text/plain": [
       "   spam                                               text\n",
       "0     0  Go until jurong point, crazy.. Available only ...\n",
       "1     0                      Ok lar... Joking wif u oni...\n",
       "2     1  Free entry in 2 a wkly comp to win FA Cup fina...\n",
       "3     0  U dun say so early hor... U c already then say...\n",
       "4     0  Nah I don't think he goes to usf, he lives aro..."
      ]
     },
     "execution_count": 19,
     "metadata": {},
     "output_type": "execute_result"
    }
   ],
   "source": [
    "# your code here\n",
    "spam_df1 = spam_df.select(fn.when(fn.col('type') == 'spam',1).otherwise(0).alias(str('spam')), 'text')\n",
    "print(\"shape:\",(spam_df1.count(), len(spam_df1.columns)))\n",
    "spam_df1.toPandas().head(5)"
   ]
  },
  {
   "cell_type": "markdown",
   "metadata": {},
   "source": [
    "# Question 3\n",
    "Starting with spam_df1, create a new dataframe named spam_df2 with a new column named filtered_text by removing stop words from the text column in spam_df.  Print the head and shape of spam_df2."
   ]
  },
  {
   "cell_type": "code",
   "execution_count": 20,
   "metadata": {},
   "outputs": [
    {
     "name": "stdout",
     "output_type": "stream",
     "text": [
      "Shape:  (5574, 3)\n"
     ]
    },
    {
     "data": {
      "text/html": [
       "<div>\n",
       "<style scoped>\n",
       "    .dataframe tbody tr th:only-of-type {\n",
       "        vertical-align: middle;\n",
       "    }\n",
       "\n",
       "    .dataframe tbody tr th {\n",
       "        vertical-align: top;\n",
       "    }\n",
       "\n",
       "    .dataframe thead th {\n",
       "        text-align: right;\n",
       "    }\n",
       "</style>\n",
       "<table border=\"1\" class=\"dataframe\">\n",
       "  <thead>\n",
       "    <tr style=\"text-align: right;\">\n",
       "      <th></th>\n",
       "      <th>spam</th>\n",
       "      <th>text</th>\n",
       "      <th>filtered_text</th>\n",
       "    </tr>\n",
       "  </thead>\n",
       "  <tbody>\n",
       "    <tr>\n",
       "      <td>0</td>\n",
       "      <td>0</td>\n",
       "      <td>Go until jurong point, crazy.. Available only ...</td>\n",
       "      <td>[jurong, point, crazy, available, bugis, n, gr...</td>\n",
       "    </tr>\n",
       "    <tr>\n",
       "      <td>1</td>\n",
       "      <td>0</td>\n",
       "      <td>Ok lar... Joking wif u oni...</td>\n",
       "      <td>[ok, lar, joking, wif, u, oni]</td>\n",
       "    </tr>\n",
       "    <tr>\n",
       "      <td>2</td>\n",
       "      <td>1</td>\n",
       "      <td>Free entry in 2 a wkly comp to win FA Cup fina...</td>\n",
       "      <td>[free, entry, wkly, comp, win, fa, cup, final,...</td>\n",
       "    </tr>\n",
       "    <tr>\n",
       "      <td>3</td>\n",
       "      <td>0</td>\n",
       "      <td>U dun say so early hor... U c already then say...</td>\n",
       "      <td>[u, dun, say, early, hor, u, c, say]</td>\n",
       "    </tr>\n",
       "    <tr>\n",
       "      <td>4</td>\n",
       "      <td>0</td>\n",
       "      <td>Nah I don't think he goes to usf, he lives aro...</td>\n",
       "      <td>[nah, don, t, think, goes, usf, lives]</td>\n",
       "    </tr>\n",
       "  </tbody>\n",
       "</table>\n",
       "</div>"
      ],
      "text/plain": [
       "   spam                                               text  \\\n",
       "0     0  Go until jurong point, crazy.. Available only ...   \n",
       "1     0                      Ok lar... Joking wif u oni...   \n",
       "2     1  Free entry in 2 a wkly comp to win FA Cup fina...   \n",
       "3     0  U dun say so early hor... U c already then say...   \n",
       "4     0  Nah I don't think he goes to usf, he lives aro...   \n",
       "\n",
       "                                       filtered_text  \n",
       "0  [jurong, point, crazy, available, bugis, n, gr...  \n",
       "1                     [ok, lar, joking, wif, u, oni]  \n",
       "2  [free, entry, wkly, comp, win, fa, cup, final,...  \n",
       "3               [u, dun, say, early, hor, u, c, say]  \n",
       "4             [nah, don, t, think, goes, usf, lives]  "
      ]
     },
     "execution_count": 20,
     "metadata": {},
     "output_type": "execute_result"
    }
   ],
   "source": [
    "# your code here\n",
    "sw = requests.get('http://ir.dcs.gla.ac.uk/resources/linguistic_utils/stop_words').text.split()\n",
    "\n",
    "token = RegexTokenizer().setGaps(False).setPattern(\"\\\\p{L}+\").setInputCol(\"text\").setOutputCol(\"words\")\n",
    "stop_filter = StopWordsRemover().setStopWords(sw).setCaseSensitive(False).setInputCol(\"words\")\\\n",
    "            .setOutputCol(\"filtered_text\")\n",
    "pipe_stop = Pipeline(stages=[token, stop_filter]).fit(spam_df1)\n",
    "spam_df2 = pipe_stop.transform(spam_df1)\n",
    "spam_df2 = spam_df2.drop('words')\n",
    "print('Shape: ',(spam_df2.count(),len(spam_df2.columns)))\n",
    "spam_df2.toPandas().head(5)"
   ]
  },
  {
   "cell_type": "markdown",
   "metadata": {},
   "source": [
    "### Grading Feedback"
   ]
  },
  {
   "cell_type": "markdown",
   "metadata": {},
   "source": [
    "# Question 3\n",
    "Create a new dataframe named spam_df3 starting with spam_df2.  Create a new column named tfidf by performing a term frequency / inverse document frequency transformation on the filtered_text column of spam_df2.<br>  \n",
    "\n",
    "- Print the head and shape of spam_df3.  \n",
    "- Print the top 10 most important words indicated by the TFIDF score.  \n",
    "- Print the 10 least important words as indicated by the TFIDF score.\n",
    "- Print the total number of columns in the TFIDF data in spam_df3\n",
    "- Print the number of rows in the TFIDF data in spam_df3\n",
    "- Based only on the number of rows and columns in the TFIDF data, do you expect the model to overfit.  Explain your answer."
   ]
  },
  {
   "cell_type": "code",
   "execution_count": 21,
   "metadata": {},
   "outputs": [
    {
     "name": "stdout",
     "output_type": "stream",
     "text": [
      "   spam                                               text  \\\n",
      "0     0  Go until jurong point, crazy.. Available only ...   \n",
      "1     0                      Ok lar... Joking wif u oni...   \n",
      "2     1  Free entry in 2 a wkly comp to win FA Cup fina...   \n",
      "3     0  U dun say so early hor... U c already then say...   \n",
      "4     0  Nah I don't think he goes to usf, he lives aro...   \n",
      "\n",
      "                                       filtered_text  \\\n",
      "0  [jurong, point, crazy, available, bugis, n, gr...   \n",
      "1                     [ok, lar, joking, wif, u, oni]   \n",
      "2  [free, entry, wkly, comp, win, fa, cup, final,...   \n",
      "3               [u, dun, say, early, hor, u, c, say]   \n",
      "4             [nah, don, t, think, goes, usf, lives]   \n",
      "\n",
      "                                               tfidf  \n",
      "0  (0.0, 0.0, 0.0, 0.0, 0.0, 0.0, 0.0, 0.0, 0.0, ...  \n",
      "1  (1.8914559363553713, 0.0, 0.0, 0.0, 0.0, 0.0, ...  \n",
      "2  (0.0, 4.732932264526793, 2.6026000033672867, 0...  \n",
      "3  (3.7829118727107427, 0.0, 0.0, 0.0, 0.0, 0.0, ...  \n",
      "4  (0.0, 0.0, 2.6026000033672867, 0.0, 0.0, 0.0, ...  \n",
      "Shape: (5574, 4)\n",
      "Most important words:\n",
      "1 . Word:  mumtaz ,  tfidf score:  7.9329004157683745\n",
      "2 . Word:  grl ,  tfidf score:  7.9329004157683745\n",
      "3 . Word:  é ,  tfidf score:  7.9329004157683745\n",
      "4 . Word:  blah ,  tfidf score:  7.9329004157683745\n",
      "5 . Word:  crab ,  tfidf score:  7.9329004157683745\n",
      "6 . Word:  dsn ,  tfidf score:  7.9329004157683745\n",
      "7 . Word:  bloo ,  tfidf score:  7.9329004157683745\n",
      "8 . Word:  footprints ,  tfidf score:  7.9329004157683745\n",
      "9 . Word:  ubi ,  tfidf score:  7.9329004157683745\n",
      "10 . Word:  mis ,  tfidf score:  7.9329004157683745\n",
      "Least important words:\n",
      "1 . Word:  u ,  tfidf score:  1.8914559363553713\n",
      "2 . Word:  s ,  tfidf score:  2.3664661322633966\n",
      "3 . Word:  m ,  tfidf score:  2.5763141410963617\n",
      "4 . Word:  t ,  tfidf score:  2.6026000033672867\n",
      "5 . Word:  just ,  tfidf score:  2.7371696379954384\n",
      "6 . Word:  ur ,  tfidf score:  2.895947813354745\n",
      "7 . Word:  ok ,  tfidf score:  2.9912579931590697\n",
      "8 . Word:  ll ,  tfidf score:  3.073088011406702\n",
      "9 . Word:  know ,  tfidf score:  3.1166592597003424\n",
      "10 . Word:  gt ,  tfidf score:  3.132986152987771\n",
      "+----+--------------------+--------------------+--------------------+\n",
      "|spam|                text|       filtered_text|               tfidf|\n",
      "+----+--------------------+--------------------+--------------------+\n",
      "|   0|Go until jurong p...|[jurong, point, c...|(7443,[15,26,52,6...|\n",
      "|   0|Ok lar... Joking ...|[ok, lar, joking,...|(7443,[0,8,216,32...|\n",
      "|   1|Free entry in 2 a...|[free, entry, wkl...|(7443,[1,2,9,21,2...|\n",
      "|   0|U dun say so earl...|[u, dun, say, ear...|(7443,[0,50,75,13...|\n",
      "|   0|Nah I don't think...|[nah, don, t, thi...|(7443,[2,30,46,33...|\n",
      "+----+--------------------+--------------------+--------------------+\n",
      "only showing top 5 rows\n",
      "\n",
      "No. of rows: 5574\n",
      "No. of columns: 7443\n"
     ]
    }
   ],
   "source": [
    "# Your code here\n",
    "\n",
    "count = CountVectorizer().setInputCol('filtered_text').setOutputCol('feature')\n",
    "term = IDF().setInputCol(\"feature\").setOutputCol(\"tfidf\")\n",
    "\n",
    "spam_df3 = spam_df2\n",
    "\n",
    "tf_idf = Pipeline(stages=[count, term])\n",
    "tf_transform = tf_idf.fit(spam_df3)\n",
    "spam_df3 = tf_transform.transform(spam_df3)\n",
    "spam_df3 = spam_df3.drop(\"feature\")\n",
    "\n",
    "print(spam_df3.toPandas().head())\n",
    "print(\"Shape:\",(spam_df3.count(), len(spam_df3.columns)))\n",
    "vocabulary = tf_transform.stages[0].vocabulary\n",
    "tfidf_val = tf_transform.stages[1].idf.tolist()\n",
    "imp_words = {}\n",
    "for i in range(len(vocabulary)):\n",
    "    imp_words[vocabulary[i]] = tfidf_val[i]\n",
    "tf_most_imp = sorted(imp_words.items(), key=lambda i: i[1], reverse=True)[0:10]\n",
    "tf_less_imp = sorted(imp_words.items(), key=lambda i: i[1], reverse=False)[0:10]\n",
    "print(\"Most important words:\")\n",
    "for i in range(10):\n",
    "    print(i + 1, \". Word: \", tf_most_imp[i][0], \", \", \"tfidf score: \", tf_most_imp[i][1])\n",
    "print(\"Least important words:\")\n",
    "for i in range(10):\n",
    "    print(i + 1, \". Word: \", tf_less_imp[i][0], \", \", \"tfidf score: \", tf_less_imp[i][1])  \n",
    "spam_df3.show(5)\n",
    "print(\"No. of rows:\", spam_df3.select('tfidf').count())\n",
    "print(\"No. of columns:\", len(tf_transform.stages[0].vocabulary))\n"
   ]
  },
  {
   "cell_type": "markdown",
   "metadata": {},
   "source": [
    "Your model overfit explanation here: Here number of rows is 5574 and number of columns is 7443. As columns > rows the model will overfit."
   ]
  },
  {
   "cell_type": "markdown",
   "metadata": {},
   "source": [
    "### Grading Feedback"
   ]
  },
  {
   "cell_type": "markdown",
   "metadata": {},
   "source": [
    "# Question 4\n",
    "Create a pipeline named pipe1 capable of predicting ham or spam using logistic regression using spam_df3 as input data."
   ]
  },
  {
   "cell_type": "code",
   "execution_count": 22,
   "metadata": {},
   "outputs": [
    {
     "name": "stdout",
     "output_type": "stream",
     "text": [
      "+----+--------------------+--------------------+--------------------+--------------------+--------------------+----------+\n",
      "|spam|                text|       filtered_text|               tfidf|       rawPrediction|         probability|prediction|\n",
      "+----+--------------------+--------------------+--------------------+--------------------+--------------------+----------+\n",
      "|   0|Go until jurong p...|[jurong, point, c...|(7443,[15,26,52,6...|[46.4832509984271...|[1.0,6.4950214616...|       0.0|\n",
      "|   0|Ok lar... Joking ...|[ok, lar, joking,...|(7443,[0,8,216,32...|[37.0230287333609...|[1.0,8.3387877120...|       0.0|\n",
      "|   1|Free entry in 2 a...|[free, entry, wkl...|(7443,[1,2,9,21,2...|[-25.376984268883...|[9.52611378547952...|       1.0|\n",
      "|   0|U dun say so earl...|[u, dun, say, ear...|(7443,[0,50,75,13...|[43.4350408188821...|[1.0,1.3689937049...|       0.0|\n",
      "|   0|Nah I don't think...|[nah, don, t, thi...|(7443,[2,30,46,33...|[37.2489681189668...|[1.0,6.6524051231...|       0.0|\n",
      "+----+--------------------+--------------------+--------------------+--------------------+--------------------+----------+\n",
      "only showing top 5 rows\n",
      "\n"
     ]
    }
   ],
   "source": [
    "# your code here\n",
    "lr = LogisticRegression().setLabelCol('spam').setFeaturesCol('tfidf').setRegParam(0.0).setMaxIter(100).setElasticNetParam(0.)\n",
    "\n",
    "pipe1 = Pipeline(stages=[lr])\n",
    "pipe1_trans = pipe1.fit(spam_df3)\n",
    "pipe1_trans.transform(spam_df3).show(5)"
   ]
  },
  {
   "cell_type": "markdown",
   "metadata": {},
   "source": [
    "### Grading Feedback"
   ]
  },
  {
   "cell_type": "markdown",
   "metadata": {},
   "source": [
    "# Question 5\n",
    "Fit pipe1 using a [CrossValidator](https://spark.apache.org/docs/2.2.0/api/python/pyspark.ml.html#pyspark.ml.tuning.CrossValidator) object with the number of cross validation folds = 3.  Score the model using a [BinaryClassificationEvaluator](https://spark.apache.org/docs/latest/api/python/pyspark.ml.html) using ROC AUC as the metric.  Name the cross validator object cv1 and the fitted cross validator object fitted_cv1."
   ]
  },
  {
   "cell_type": "code",
   "execution_count": 23,
   "metadata": {},
   "outputs": [],
   "source": [
    "# your code here\n",
    "grid = ParamGridBuilder().build()\n",
    "evaluator = BinaryClassificationEvaluator(labelCol='spam', metricName='areaUnderROC')\n",
    "cv1 = CrossValidator(estimator=pipe1, estimatorParamMaps=grid, evaluator=evaluator, numFolds=3, seed=60)\n",
    "fitted_cv1 = cv1.fit(spam_df3)"
   ]
  },
  {
   "cell_type": "markdown",
   "metadata": {},
   "source": [
    "### Grading Feedback"
   ]
  },
  {
   "cell_type": "markdown",
   "metadata": {},
   "source": [
    "# Question 6\n",
    "Print the cross validation AUC score from fitted_cv1."
   ]
  },
  {
   "cell_type": "code",
   "execution_count": 24,
   "metadata": {},
   "outputs": [
    {
     "name": "stdout",
     "output_type": "stream",
     "text": [
      "Area under ROC Curve: 1.0\n"
     ]
    }
   ],
   "source": [
    "# your code here\n",
    "print(\"Area under ROC Curve:\",evaluator.evaluate(fitted_cv1.transform(spam_df3)))"
   ]
  },
  {
   "cell_type": "markdown",
   "metadata": {},
   "source": [
    "### Grading Feedback"
   ]
  },
  {
   "cell_type": "markdown",
   "metadata": {},
   "source": [
    "# Question 7\n",
    "Create a ROC scatter plot from fitted_pipe1 TPR/FPR data."
   ]
  },
  {
   "cell_type": "code",
   "execution_count": 25,
   "metadata": {},
   "outputs": [
    {
     "data": {
      "image/png": "[encoded data removed]",
      "text/plain": [
       "<Figure size 432x432 with 1 Axes>"
      ]
     },
     "metadata": {
      "needs_background": "light"
     },
     "output_type": "display_data"
    }
   ],
   "source": [
    "# your code here\n",
    "\n",
    "roc_scatter = fitted_cv1.bestModel.stages[0].summary.roc\n",
    "plt.figure(figsize=(6, 6))\n",
    "plt.scatter(roc_scatter.select('FPR').collect(), roc_scatter.select('TPR').collect(), label='Best',color='Red')\n",
    "plt.plot([0, 1], [0, 1],linestyle='--', label='Random',color='Green')                                 \n",
    "plt.xlabel('FPR(1- Specificity)', fontsize=12)\n",
    "plt.ylabel('TPR(Sensitivity)', fontsize=12) \n",
    "plt.title('ROC for best model')\n",
    "plt.legend()\n",
    "plt.grid(True)  \n",
    "plt.show()"
   ]
  },
  {
   "cell_type": "markdown",
   "metadata": {},
   "source": [
    "### Grading Feedback\n",
    "Nice plot!"
   ]
  },
  {
   "cell_type": "markdown",
   "metadata": {},
   "source": [
    "# Question 8\n",
    "Create a new cross validator object named cv2 similar to cv1 but this time add a ParamGridBuilder.  Define a grid of elastic net regularization parameters. Fit cv2 and name the resulting fitted cross validator fitted_cv2.  The number of parameters in your grid should be limited such that it runs in a reasonable amount of time (around 5 to 10 minutes max).  "
   ]
  },
  {
   "cell_type": "code",
   "execution_count": 26,
   "metadata": {},
   "outputs": [],
   "source": [
    "# your code here\n",
    "grid = ParamGridBuilder().addGrid(lr.regParam, [0.01, 0.03]).addGrid(lr.elasticNetParam, [0.04, 0.08, 0.12]).build()\n",
    "evaluator = BinaryClassificationEvaluator(labelCol='spam', metricName='areaUnderROC')\n",
    "cv2 = CrossValidator(estimator=pipe1, estimatorParamMaps=grid, evaluator=evaluator, numFolds=3, seed=60)\n",
    "fitted_cv2 = cv2.fit(spam_df3)"
   ]
  },
  {
   "cell_type": "markdown",
   "metadata": {},
   "source": [
    "### Grading feedback"
   ]
  },
  {
   "cell_type": "markdown",
   "metadata": {},
   "source": [
    "# Question 9\n",
    "- Print the resulting AUC from fitted_cv2. \n",
    "- Print the best model's L1 and L2 regularization parameters\n",
    "- Analyze the L1 feature selection:\n",
    "    - Print the total number of features\n",
    "    - Print the number of features that L1 regularization eliminated\n",
    "    - If any features were eliminated, print a sample of 10 words that were eliminated"
   ]
  },
  {
   "cell_type": "code",
   "execution_count": 27,
   "metadata": {},
   "outputs": [
    {
     "name": "stdout",
     "output_type": "stream",
     "text": [
      "Area under ROC Curve: 0.9999977813331913\n",
      "Regularization parameter:  0.01\n",
      "Elastic net regularization parameter:  0.04\n",
      "\n",
      " The total number of features: 7443\n",
      "\n",
      " number of features L1 eliminated: 6041\n",
      "\n",
      " 10 words that were eliminated by L1:    word    weight\n",
      "0     u -0.020365\n",
      "1     s  0.000000\n",
      "2     t  0.000000\n",
      "3     m  0.000000\n",
      "4    ur  0.012532\n",
      "5  just  0.000000\n",
      "6    gt -0.050878\n",
      "7    lt -0.050097\n",
      "8    ok -0.043627\n",
      "9  free  0.296487\n"
     ]
    }
   ],
   "source": [
    "# your code here\n",
    "from collections import OrderedDict\n",
    "auroc = evaluator.evaluate(fitted_cv2.transform(spam_df3))\n",
    "print(\"Area under ROC Curve:\",auroc)\n",
    "\n",
    "bestPipe = fitted_cv2.bestModel\n",
    "bestLR = bestPipe.stages[0]\n",
    "bestParams = bestLR.extractParamMap()\n",
    "\n",
    "print(\"Regularization parameter: \", bestParams[bestLR.getParam(\"regParam\")])\n",
    "print(\"Elastic net regularization parameter: \", bestParams[bestLR.getParam(\"elasticNetParam\")])\n",
    "\n",
    "weights = fitted_cv2.bestModel.stages[-1].coefficients.toArray()\n",
    "coeff_df = pd.DataFrame({'word': tf_transform.stages[0].vocabulary,'weight':weights})\n",
    "        \n",
    "print('\\n The total number of features:',len(coeff_df))\n",
    "print('\\n number of features L1 eliminated:', len(coeff_df[coeff_df.weight == 0]))\n",
    "print('\\n 10 words that were eliminated by L1:',coeff_df[:10])\n"
   ]
  },
  {
   "cell_type": "markdown",
   "metadata": {},
   "source": [
    "### Grading Feedback\n",
    "-3 The L1 and L2 regularization params are a function of the elastic net param and the regularization param, not the elastic net and regularization param themselves."
   ]
  },
  {
   "cell_type": "markdown",
   "metadata": {},
   "source": [
    "# Question 10\n",
    "Analyze the best model weights in fitted_cv2.  Print the 10 words that contribute the most to predicting spam.  Print the 10 words that contribute the least to predicting spam.  Do the words make sense?  Explain."
   ]
  },
  {
   "cell_type": "code",
   "execution_count": 28,
   "metadata": {},
   "outputs": [
    {
     "name": "stdout",
     "output_type": "stream",
     "text": [
      " 10 words that contribute most to predict spam: \n",
      "                     word    weight\n",
      "976             freephone  0.846279\n",
      "4365             teenager  0.828569\n",
      "2381            voicemail  0.822681\n",
      "2328         ringtoneking  0.795508\n",
      "3805               wining  0.766899\n",
      "1953                   tf  0.711451\n",
      "3231              premium  0.704592\n",
      "3819              tattoos  0.682600\n",
      "4599             stchoice  0.589591\n",
      "3169  minmoremobsemspobox  0.566463\n",
      "\n",
      " 10 word that contribute least in predicting spam: \n",
      "           word    weight\n",
      "1009  fullonsms -0.205368\n",
      "4154  zogtorius -0.163956\n",
      "5111     smacks -0.144264\n",
      "6668       plum -0.144264\n",
      "6830  phonebook -0.135479\n",
      "4948      kilos -0.127976\n",
      "2028  messenger -0.127401\n",
      "4239  rebooting -0.123824\n",
      "4541     mylife -0.111493\n",
      "7407    panalam -0.106973\n"
     ]
    }
   ],
   "source": [
    "# your code here\n",
    "print(\" 10 words that contribute most to predict spam: \")\n",
    "print(coeff_df.sort_values('weight',ascending=False).head(10))\n",
    "print(\"\\n 10 word that contribute least in predicting spam: \")\n",
    "print(coeff_df.sort_values('weight').head(10))"
   ]
  },
  {
   "cell_type": "markdown",
   "metadata": {},
   "source": [
    "Your comments here:By looking at the words , the words do make sense in predicting Spam. But words with less weight are considered to be ambiguous words"
   ]
  },
  {
   "cell_type": "markdown",
   "metadata": {},
   "source": [
    "### Grading Feedback"
   ]
  },
  {
   "cell_type": "markdown",
   "metadata": {},
   "source": [
    "**Extra Credit (5 pts)**  This question is optional.  If you choose to answer this question, you will earn 5 extra credit points.  If you choose not to answer this question, no points will be deducted from your score.  Solve the following equation for $c$ symbolically using the python sympy package.  Convert the solved symbolic solution to a latex format (this can be done with a pyton call), then populate the solution cell with the resulting latex code so that your solution shows up symbolically similar the equation below.\n",
    "\n",
    "$$c g - c h + e \\left(a + 1\\right)^{b} - \\frac{d \\left(\\left(a + 1\\right)^{b} - 1\\right)}{a} + \\frac{f \\left(\\left(a + 1\\right)^{b} - 1\\right)}{a} = 0$$"
   ]
  },
  {
   "cell_type": "code",
   "execution_count": 29,
   "metadata": {},
   "outputs": [],
   "source": [
    "# do not delete or change this cell\n",
    "\n",
    "# if running on data bricks\n",
    "if is_databricks():\n",
    "    # install sympy\n",
    "    dbutils.library.installPyPI\n",
    "    dbutils.library.installPyPI('sympy')\n",
    "    print(dbutils.library.list())"
   ]
  },
  {
   "cell_type": "code",
   "execution_count": 30,
   "metadata": {},
   "outputs": [
    {
     "name": "stdout",
     "output_type": "stream",
     "text": [
      "\\left[ \\frac{- a e \\left(a + 1\\right)^{b} + d \\left(a + 1\\right)^{b} - d - f \\left(a + 1\\right)^{b} + f}{a \\left(g - h\\right)}\\right]\n"
     ]
    }
   ],
   "source": [
    "# your code here\n",
    "import sympy as sp\n",
    "from sympy import Eq\n",
    "from sympy import solve\n",
    "c, g, h, a, b, d, e, f = sp.symbols('c g h a b d e f')\n",
    "\n",
    "step = (((c*g) - (c*h) + (e*((a + 1)**b))) - ((d*(((a + 1)**b) - 1))/a) + ((f*(((a + 1)**b) - 1))/a))\n",
    "equation = Eq(step)\n",
    "solved=solve(equation, c)\n",
    "print(sp.latex(solved))"
   ]
  },
  {
   "cell_type": "markdown",
   "metadata": {},
   "source": [
    "Add your latex output here such that a human readable equation is displayed for grading\n",
    "$$ \\left[ \\frac{- a e \\left(a + 1\\right)^{b} + d \\left(a + 1\\right)^{b} - d - f \\left(a + 1\\right)^{b} + f}{a \\left(g - h\\right)}\\right] $$"
   ]
  },
  {
   "cell_type": "markdown",
   "metadata": {},
   "source": [
    "### Grading Feedback\n",
    "+5"
   ]
  }
 ],
 "metadata": {
  "kernelspec": {
   "display_name": "Python 3",
   "language": "python",
   "name": "python3"
  },
  "language_info": {
   "codemirror_mode": {
    "name": "ipython",
    "version": 3
   },
   "file_extension": ".py",
   "mimetype": "text/x-python",
   "name": "python",
   "nbconvert_exporter": "python",
   "pygments_lexer": "ipython3",
   "version": "3.7.6"
  }
 },
 "nbformat": 4,
 "nbformat_minor": 4
}
