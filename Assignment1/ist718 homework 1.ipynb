{
 "cells": [
  {
   "cell_type": "markdown",
   "metadata": {},
   "source": [
    "##### Grading Feedback Cell\n",
    "88%"
   ]
  },
  {
   "cell_type": "markdown",
   "metadata": {
    "deletable": false,
    "nbgrader": {
     "checksum": "4e6cefb0049d48a2f4648d752841bb06",
     "grade": false,
     "grade_id": "cell-b038e38b5e3072a9",
     "locked": false,
     "schema_version": 1,
     "solution": false
    }
   },
   "source": [
    "# IST 718: Big Data Analytics\n",
    "\n",
    "- Professor: Willard Williamson <wewillia@syr.edu>\n",
    "- Faculty Assistant: Yash Pasar\n",
    "## General instructions:\n",
    "\n",
    "- You are welcome to discuss the problems with your classmates but __you are not allowed to copy any part of your answers from your classmates.  Short code snippets are allowed from the internet.  Code from the class text books or class provided code can be copied in its entirety.__\n",
    "- __Do not change homework file names.__ The FAs and the professor use these names to grade your homework.  Changing file names may result in a point reduction penalty.\n",
    "- There could be tests in some cells (i.e., `assert` and `np.testing.` statements). These tests (if present) are used to grade your answers. **However, the professor and FAs could use __additional__ test for your answer. Think about cases where your code should run even if it passess all the tests you see.**\n",
    "- Before submitting your work, remember to check for run time errors with the following procedure:\n",
    "`Kernel`$\\rightarrow$`Restart and Run All`.  All runtime errors will result in a minimum penalty of half off.\n",
    "- Data Bricks is the official class runtime environment so you should test your code on Data Bricks before submission.  If there is a runtime problem in the grading environment, we will try your code on Data Bricks before making a final grading decision.\n",
    "- All plots shall include a title, and axis labels.\n",
    "- Grading feedback cells are there for graders to provide feedback to students.  Don't change or remove grading feedback cells."
   ]
  },
  {
   "cell_type": "markdown",
   "metadata": {},
   "source": [
    "IST 718\n",
    "Akshay Bhala\n",
    "HW01 \n"
   ]
  },
  {
   "cell_type": "code",
   "execution_count": 1,
   "metadata": {},
   "outputs": [],
   "source": [
    "# importing all the required libraries\n",
    "import numpy as np\n",
    "import matplotlib.pyplot as plt\n",
    "import pandas as pd\n",
    "import seaborn as sns\n",
    "import itertools as it"
   ]
  },
  {
   "cell_type": "markdown",
   "metadata": {},
   "source": [
    "**Question 1 (10 pts)** Write a function named reverse_by_three that receives a numpy array, python list, or tuple as an input argument and starting at the 2nd from last element, returns every 3rd element of the list in reverse order.  It is legal to return an empty python list, numpy array, or tuple if the input.  Use slicing syntax exclusively to perform the operations.  Your code should be efficient as possible and not use a lot of extraneous un-needed code in the solution."
   ]
  },
  {
   "cell_type": "code",
   "execution_count": 2,
   "metadata": {
    "deletable": false,
    "nbgrader": {
     "checksum": "085f5b48fbce649d8e6a5f12381f40ce",
     "grade": false,
     "grade_id": "cell-5eb87107d2800505",
     "locked": false,
     "schema_version": 1,
     "solution": true
    }
   },
   "outputs": [],
   "source": [
    "# Create the function reverse_by_three here\n",
    "def reverse_by_three(i):\n",
    "    return(i[-2::-3])  #reversing the array and returning every third element in the reverse order"
   ]
  },
  {
   "cell_type": "code",
   "execution_count": 3,
   "metadata": {
    "deletable": false,
    "editable": false,
    "nbgrader": {
     "checksum": "da34aac4c035b267f3ff5816fd031fba",
     "grade": true,
     "grade_id": "cell-17c0ac01cace4b18",
     "locked": true,
     "points": 10,
     "schema_version": 1,
     "solution": false
    }
   },
   "outputs": [
    {
     "data": {
      "text/plain": [
       "array([5, 2])"
      ]
     },
     "execution_count": 3,
     "metadata": {},
     "output_type": "execute_result"
    }
   ],
   "source": [
    "# For grading use only (question 1)\n",
    "reverse_by_three(np.array([1,2,3,4,5,6]))"
   ]
  },
  {
   "cell_type": "markdown",
   "metadata": {},
   "source": [
    "##### Grading Feedback Cell"
   ]
  },
  {
   "cell_type": "markdown",
   "metadata": {},
   "source": [
    "**Question 2 (10 pts)** Create a python class named my_statistics.  The my_statisitics class should require a single numpy array argument in its constructor.  Implement the following statistical methods in the my_statistics class: get_mean, get_pop_std, get_sample_std, get_min, and get_max.  The get_pop_std method shall return the standard deviation assuming the constructor argument is a complete population.  The get_sample_std method shall return the standard deviation assuming that the constructor argument is a sample of a population.  The get_min and get_max methods shall return the min and max of the constructor argument respectively.  The get_mean method shall return the mean.  Return a 'None' type if the constructor argument would cause an error for the specified operation.  Use numpy functions to perform the statistical calculations."
   ]
  },
  {
   "cell_type": "code",
   "execution_count": 4,
   "metadata": {
    "deletable": false,
    "nbgrader": {
     "checksum": "93c89a396ab6aa6ace9fe98663691b74",
     "grade": false,
     "grade_id": "cell-48471c8515aa4e5c",
     "locked": false,
     "schema_version": 1,
     "solution": true
    }
   },
   "outputs": [],
   "source": [
    "# create the my_statistics class here\n",
    "# YOUR CODE HERE\n",
    "class my_statistics:\n",
    "    def __init__(self,x):\n",
    "        self.x = np.array([x])\n",
    "    def get_mean(self):\n",
    "        return np.mean(self.x)\n",
    "    def get_pop_std(self):\n",
    "        return np.std(self.x)\n",
    "    def get_sample_std(self):\n",
    "        return np.std(self.x,ddof=1)\n",
    "    def get_min(self):\n",
    "        return np.min(self.x)\n",
    "    def get_max(self):\n",
    "        return np.max(self.x)\n",
    "    def get_error(self):\n",
    "         try:\n",
    "            return np.mam(self.x)\n",
    "         except AttributeError:\n",
    "            print(\"None, the specified operation is wrong\")"
   ]
  },
  {
   "cell_type": "code",
   "execution_count": 5,
   "metadata": {
    "deletable": false,
    "nbgrader": {
     "checksum": "da34aac4c035b267f3ff5816fd031fba",
     "grade": true,
     "grade_id": "cell-17c0ac01cace4b18",
     "locked": true,
     "points": 10,
     "schema_version": 1,
     "solution": false
    }
   },
   "outputs": [
    {
     "name": "stdout",
     "output_type": "stream",
     "text": [
      "-6.066666666666666\n",
      "85.59086140211205\n",
      "88.59495847206355\n",
      "-310\n",
      "99\n"
     ]
    }
   ],
   "source": [
    "# For grading use only (question 2)\n",
    "stats_data = np.array([12, 17, 9, 13, -5, -7, -9, -11, 39, 42, 17, 2, 99, 1, -310])\n",
    "my_stats = my_statistics(stats_data)\n",
    "print(my_stats.get_mean())\n",
    "print(my_stats.get_pop_std())\n",
    "print(my_stats.get_sample_std())\n",
    "print(my_stats.get_min())\n",
    "print(my_stats.get_max())"
   ]
  },
  {
   "cell_type": "markdown",
   "metadata": {},
   "source": [
    "##### Grading Feedback Cell"
   ]
  },
  {
   "cell_type": "markdown",
   "metadata": {},
   "source": [
    "**Question 3 (30 pts)** Create a function named monte_hall that takes as an argument the number of times to iterate a monte-carlo simulation of the Monte Hall problem with 4 doors and 1 prize.   (https://en.wikipedia.org/wiki/Monty_Hall_problem).   \n",
    "For simplicity, you can assume that the game player always initially chooses door A and the host will open one door.  The prize may be behind any of the 4 doors.  The monte_hall function should print answers to the following 2 questions:  Based on the simulation, what is the probability of winning if you switch doors, and what is the probability of winning if you keep door A?  Your function should return these values in a tuple (prob_win_if_switch, prob_win_if_keep)."
   ]
  },
  {
   "cell_type": "code",
   "execution_count": 6,
   "metadata": {},
   "outputs": [],
   "source": [
    "from random import shuffle, choice\n",
    "def monte_hall():\n",
    "    # Creating 4 doors and allocating prize \"1\" randomly\n",
    "    doors = [1, 0, 0, 0]\n",
    "    shuffle(doors)\n",
    "\n",
    "    # 4 options to choose door\n",
    "    door_selected = choice([0, 1, 2, 3])\n",
    "\n",
    "    # Open the door that does not have the car\n",
    "    non_prize_doors = list()\n",
    "    for i,d in enumerate(doors):\n",
    "        if d == 0 and i != door_selected: non_prize_doors.append(i)\n",
    "\n",
    "    door_opened = choice(non_prize_doors)\n",
    "\n",
    "    # Success if the player does not switch\n",
    "    non_switch_success =  True if doors[door_selected] == 1 else False\n",
    "\n",
    "    # Success if the player switches\n",
    "    remaining_door = set([0,1,2,3]).difference([door_selected, door_opened])\n",
    "    remaining_door = remaining_door.pop()\n",
    "    switch_success =  True if doors[remaining_door] == 1 else False\n",
    "\n",
    "    return non_switch_success, switch_success\n",
    "\n",
    "\n",
    "def monte_carlo(n):\n",
    "    non_switch_success_count = 0\n",
    "    switch_success_count = 0\n",
    "\n",
    "    for i in range(n):\n",
    "        ns, ss = monte_hall()\n",
    "        non_switch_success_count += ns\n",
    "        switch_success_count += ss\n",
    "\n",
    "    print(f\"Number of plays: {n}\")\n",
    "    print(f\"probability of success on switch: {switch_success_count}  {(switch_success_count/n)}\")\n",
    "    print(f\"probability of success on non-switch: {non_switch_success_count}  {(non_switch_success_count/n)}\")\n",
    "\n",
    "\n"
   ]
  },
  {
   "cell_type": "code",
   "execution_count": 7,
   "metadata": {},
   "outputs": [
    {
     "name": "stdout",
     "output_type": "stream",
     "text": [
      "Number of plays: 10000\n",
      "probability of success on switch: 3786  0.3786\n",
      "probability of success on non-switch: 2515  0.2515\n"
     ]
    }
   ],
   "source": [
    "# calling monte carlo function\n",
    "monte_carlo(10000)"
   ]
  },
  {
   "cell_type": "markdown",
   "metadata": {},
   "source": [
    "##### Grading Feedback Cell"
   ]
  },
  {
   "cell_type": "markdown",
   "metadata": {},
   "source": [
    "##### **Question 4 (10 pts)** Create a numpy array containing 10,000 samples of random normal data with a mean of 5 and a variance of 4.  Plot a histogram of the data using matplotlib."
   ]
  },
  {
   "cell_type": "code",
   "execution_count": 8,
   "metadata": {},
   "outputs": [
    {
     "data": {
      "text/plain": [
       "(array([  2.,   1.,   3.,   1.,   1.,   2.,   2.,  10.,  15.,  16.,  29.,\n",
       "         38.,  29.,  37.,  56.,  69., 120., 153., 144., 170., 203., 270.,\n",
       "        300., 302., 350., 390., 421., 476., 456., 488., 479., 521., 457.,\n",
       "        475., 462., 443., 402., 348., 311., 284., 221., 212., 168., 141.,\n",
       "         88.,  96., 104.,  71.,  32.,  46.,  16.,  23.,  14.,  10.,   8.,\n",
       "          2.,   5.,   2.,   3.,   0.,   2.]),\n",
       " array([-2.6865664 , -2.43868966, -2.19081292, -1.94293618, -1.69505944,\n",
       "        -1.4471827 , -1.19930596, -0.95142922, -0.70355248, -0.45567574,\n",
       "        -0.207799  ,  0.04007774,  0.28795448,  0.53583122,  0.78370796,\n",
       "         1.0315847 ,  1.27946144,  1.52733818,  1.77521492,  2.02309166,\n",
       "         2.2709684 ,  2.51884514,  2.76672188,  3.01459862,  3.26247536,\n",
       "         3.5103521 ,  3.75822884,  4.00610557,  4.25398231,  4.50185905,\n",
       "         4.74973579,  4.99761253,  5.24548927,  5.49336601,  5.74124275,\n",
       "         5.98911949,  6.23699623,  6.48487297,  6.73274971,  6.98062645,\n",
       "         7.22850319,  7.47637993,  7.72425667,  7.97213341,  8.22001015,\n",
       "         8.46788689,  8.71576363,  8.96364037,  9.21151711,  9.45939385,\n",
       "         9.70727059,  9.95514733, 10.20302407, 10.45090081, 10.69877755,\n",
       "        10.94665429, 11.19453103, 11.44240777, 11.69028451, 11.93816125,\n",
       "        12.18603799, 12.43391473]),\n",
       " <a list of 61 Patch objects>)"
      ]
     },
     "execution_count": 8,
     "metadata": {},
     "output_type": "execute_result"
    },
    {
     "data": {
      "image/png": "[encoded data removed]",
      "text/plain": [
       "<Figure size 432x288 with 1 Axes>"
      ]
     },
     "metadata": {
      "needs_background": "light"
     },
     "output_type": "display_data"
    }
   ],
   "source": [
    "# your histogram plot code here\n",
    "mean = 5\n",
    "var = 4\n",
    "stdev = np.sqrt(var)\n",
    "data = np.random.normal(mean,stdev,10000)\n",
    "plt.hist(data,bins=\"auto\")\n"
   ]
  },
  {
   "cell_type": "markdown",
   "metadata": {},
   "source": [
    "##### Grading Feedback Cell\n",
    "-3 no plot title or axis labels<br>"
   ]
  },
  {
   "cell_type": "markdown",
   "metadata": {},
   "source": [
    "#### Question 5 (10 pts) The below cell creates a pandas dataframe called iris_df.  Write a function named plot_iris_grid that uses matplotlib to create a grid of 16 scatter plots of all combinatations of the columns in the iris_df data frame.  For example, the first row should be sepal len vs sepal len, sepal len vs sepal width, sepal len vs petal len, sepal len vs petal width."
   ]
  },
  {
   "cell_type": "code",
   "execution_count": 9,
   "metadata": {
    "nbgrader": {
     "checksum": "e943372f6c350987929750bb43e37729",
     "grade": true,
     "grade_id": "cell-fc6a0f4ea3e7d63d",
     "locked": true,
     "points": 10,
     "schema_version": 1,
     "solution": false
    }
   },
   "outputs": [
    {
     "data": {
      "text/plain": [
       "<seaborn.axisgrid.PairGrid at 0x1a72d409a88>"
      ]
     },
     "execution_count": 9,
     "metadata": {},
     "output_type": "execute_result"
    },
    {
     "data": {
      "image/png": "[encoded data removed]",
      "text/plain": [
       "<Figure size 720x720 with 16 Axes>"
      ]
     },
     "metadata": {
      "needs_background": "light"
     },
     "output_type": "display_data"
    }
   ],
   "source": [
    "# plot_iris_grid code here\n",
    "iris_df = sns.load_dataset(\"iris\") # usin seaborn\n",
    "def plot_iris_grid(df):\n",
    "    plot = sns.PairGrid(df)\n",
    "    plot = plot.map(plt.scatter)\n",
    "    return plot\n",
    "plot_iris_grid(iris_df)\n"
   ]
  },
  {
   "cell_type": "markdown",
   "metadata": {},
   "source": [
    "##### Grading Feedback Cell\n",
    "-3 no plot title"
   ]
  },
  {
   "cell_type": "markdown",
   "metadata": {},
   "source": [
    "#### Question 6 (20 pts) Pandas"
   ]
  },
  {
   "cell_type": "markdown",
   "metadata": {},
   "source": [
    "6a (4 pts): Read the supplied potholes_2016.csv file into a pandas dataframe named potholes.  Save the shape of the potholes dataframe in a variable named potholes_shape.  Display the potholes_shape variable.  Display the head of the potholes dataframe.  "
   ]
  },
  {
   "cell_type": "code",
   "execution_count": 10,
   "metadata": {},
   "outputs": [
    {
     "name": "stdout",
     "output_type": "stream",
     "text": [
      "(7488, 10)\n"
     ]
    },
    {
     "data": {
      "text/html": [
       "<div>\n",
       "<style scoped>\n",
       "    .dataframe tbody tr th:only-of-type {\n",
       "        vertical-align: middle;\n",
       "    }\n",
       "\n",
       "    .dataframe tbody tr th {\n",
       "        vertical-align: top;\n",
       "    }\n",
       "\n",
       "    .dataframe thead th {\n",
       "        text-align: right;\n",
       "    }\n",
       "</style>\n",
       "<table border=\"1\" class=\"dataframe\">\n",
       "  <thead>\n",
       "    <tr style=\"text-align: right;\">\n",
       "      <th></th>\n",
       "      <th>StreetNumber</th>\n",
       "      <th>StreetName</th>\n",
       "      <th>StreetNamePostType</th>\n",
       "      <th>Directional</th>\n",
       "      <th>strLocation</th>\n",
       "      <th>dtTime</th>\n",
       "      <th>streetID</th>\n",
       "      <th>VehicleName</th>\n",
       "      <th>Latitude</th>\n",
       "      <th>Longitude</th>\n",
       "    </tr>\n",
       "  </thead>\n",
       "  <tbody>\n",
       "    <tr>\n",
       "      <td>0</td>\n",
       "      <td>215</td>\n",
       "      <td>COMSTOCK</td>\n",
       "      <td>AVE</td>\n",
       "      <td></td>\n",
       "      <td>215 COMSTOCK AVE &amp; HARRISON S</td>\n",
       "      <td>4/14/2016 8:57</td>\n",
       "      <td>12578124</td>\n",
       "      <td>DP2</td>\n",
       "      <td>-76.130140</td>\n",
       "      <td>43.044159</td>\n",
       "    </tr>\n",
       "    <tr>\n",
       "      <td>1</td>\n",
       "      <td>700</td>\n",
       "      <td>MIDLAND</td>\n",
       "      <td>AVE</td>\n",
       "      <td></td>\n",
       "      <td>700-06 MIDLAND AVE &amp; CASTLE ST W</td>\n",
       "      <td>4/15/2016 9:01</td>\n",
       "      <td>12573231</td>\n",
       "      <td>DP1</td>\n",
       "      <td>-76.154074</td>\n",
       "      <td>43.031314</td>\n",
       "    </tr>\n",
       "    <tr>\n",
       "      <td>2</td>\n",
       "      <td>1604</td>\n",
       "      <td>GRANT</td>\n",
       "      <td>BLVD</td>\n",
       "      <td></td>\n",
       "      <td>1604-08 GRANT BLVD &amp; WOODRUFF AVE</td>\n",
       "      <td>4/15/2016 13:03</td>\n",
       "      <td>12580306</td>\n",
       "      <td>DP1</td>\n",
       "      <td>-76.138284</td>\n",
       "      <td>43.072356</td>\n",
       "    </tr>\n",
       "    <tr>\n",
       "      <td>3</td>\n",
       "      <td>261</td>\n",
       "      <td>HOPPER</td>\n",
       "      <td>RD</td>\n",
       "      <td></td>\n",
       "      <td>261 HOPPER RD</td>\n",
       "      <td>4/18/2016 10:39</td>\n",
       "      <td>12571704</td>\n",
       "      <td>DP2</td>\n",
       "      <td>-76.159681</td>\n",
       "      <td>42.998028</td>\n",
       "    </tr>\n",
       "    <tr>\n",
       "      <td>4</td>\n",
       "      <td>1821</td>\n",
       "      <td>VALLEY</td>\n",
       "      <td>DR</td>\n",
       "      <td></td>\n",
       "      <td>1821 VALLEY DR &amp; CHAFFEE AVE E</td>\n",
       "      <td>4/18/2016 10:52</td>\n",
       "      <td>12571710</td>\n",
       "      <td>DP2</td>\n",
       "      <td>-76.152482</td>\n",
       "      <td>42.997837</td>\n",
       "    </tr>\n",
       "  </tbody>\n",
       "</table>\n",
       "</div>"
      ],
      "text/plain": [
       "  StreetNumber StreetName StreetNamePostType Directional  \\\n",
       "0          215  COMSTOCK                 AVE               \n",
       "1          700   MIDLAND                 AVE               \n",
       "2         1604     GRANT                BLVD               \n",
       "3          261    HOPPER                  RD               \n",
       "4         1821    VALLEY                  DR               \n",
       "\n",
       "                         strLocation           dtTime  streetID VehicleName  \\\n",
       "0      215 COMSTOCK AVE & HARRISON S   4/14/2016 8:57  12578124         DP2   \n",
       "1   700-06 MIDLAND AVE & CASTLE ST W   4/15/2016 9:01  12573231         DP1   \n",
       "2  1604-08 GRANT BLVD & WOODRUFF AVE  4/15/2016 13:03  12580306         DP1   \n",
       "3                      261 HOPPER RD  4/18/2016 10:39  12571704         DP2   \n",
       "4     1821 VALLEY DR & CHAFFEE AVE E  4/18/2016 10:52  12571710         DP2   \n",
       "\n",
       "    Latitude  Longitude  \n",
       "0 -76.130140  43.044159  \n",
       "1 -76.154074  43.031314  \n",
       "2 -76.138284  43.072356  \n",
       "3 -76.159681  42.998028  \n",
       "4 -76.152482  42.997837  "
      ]
     },
     "execution_count": 10,
     "metadata": {},
     "output_type": "execute_result"
    }
   ],
   "source": [
    "potholes = pd.read_csv('potholes_2016.csv')\n",
    "potholes_shape = potholes.shape\n",
    "print(potholes_shape)\n",
    "potholes.head()"
   ]
  },
  {
   "cell_type": "code",
   "execution_count": 11,
   "metadata": {
    "deletable": false,
    "editable": false,
    "nbgrader": {
     "checksum": "da34aac4c035b267f3ff5816fd031fba",
     "grade": true,
     "grade_id": "cell-17c0ac01cace4b18",
     "locked": true,
     "points": 10,
     "schema_version": 1,
     "solution": false
    }
   },
   "outputs": [],
   "source": [
    "# for grading use only (question 6a)\n"
   ]
  },
  {
   "cell_type": "markdown",
   "metadata": {},
   "source": [
    "##### Grading Feedback Cell"
   ]
  },
  {
   "cell_type": "markdown",
   "metadata": {},
   "source": [
    "6b (4 pts): Count the total number of NAN values in the potholes dataframe and store in a variable named total_nan.  Print the total_nan variable."
   ]
  },
  {
   "cell_type": "code",
   "execution_count": 12,
   "metadata": {},
   "outputs": [
    {
     "data": {
      "text/plain": [
       "StreetNumber          0\n",
       "StreetName            0\n",
       "StreetNamePostType    0\n",
       "Directional           0\n",
       "strLocation           0\n",
       "dtTime                0\n",
       "streetID              0\n",
       "VehicleName           0\n",
       "Latitude              0\n",
       "Longitude             0\n",
       "dtype: int64"
      ]
     },
     "execution_count": 12,
     "metadata": {},
     "output_type": "execute_result"
    }
   ],
   "source": [
    "# Your nan count code here\n",
    "total_nan = potholes.isnull().sum(axis=0)\n",
    "total_nan\n"
   ]
  },
  {
   "cell_type": "code",
   "execution_count": 13,
   "metadata": {
    "deletable": false,
    "editable": false,
    "nbgrader": {
     "checksum": "da34aac4c035b267f3ff5816fd031fba",
     "grade": true,
     "grade_id": "cell-17c0ac01cace4b18",
     "locked": true,
     "points": 10,
     "schema_version": 1,
     "solution": false
    }
   },
   "outputs": [],
   "source": [
    "# for grading use only (question 6b)\n"
   ]
  },
  {
   "cell_type": "markdown",
   "metadata": {},
   "source": [
    "##### Grading Feedback Cell\n",
    "-1 for presenting a column of zeros. I was expecting a single answer, which is the total of all these columns."
   ]
  },
  {
   "cell_type": "markdown",
   "metadata": {},
   "source": [
    "6c (4 pts): Count the number of unique street names in the dataframe and store in a variable named unique_street_name_count.  Print unique_street_name_count."
   ]
  },
  {
   "cell_type": "code",
   "execution_count": 14,
   "metadata": {},
   "outputs": [
    {
     "data": {
      "text/plain": [
       "413"
      ]
     },
     "execution_count": 14,
     "metadata": {},
     "output_type": "execute_result"
    }
   ],
   "source": [
    "# your unique street name count here\n",
    "potholes['StreetName'].nunique()"
   ]
  },
  {
   "cell_type": "code",
   "execution_count": 15,
   "metadata": {
    "deletable": false,
    "editable": false,
    "nbgrader": {
     "checksum": "da34aac4c035b267f3ff5816fd031fba",
     "grade": true,
     "grade_id": "cell-17c0ac01cace4b18",
     "locked": true,
     "points": 10,
     "schema_version": 1,
     "solution": false
    }
   },
   "outputs": [],
   "source": [
    "# for grading use only (question 6c)"
   ]
  },
  {
   "cell_type": "markdown",
   "metadata": {},
   "source": [
    "##### Grading Feedback Cell"
   ]
  },
  {
   "cell_type": "markdown",
   "metadata": {},
   "source": [
    "6d (4 pts): Use the pandas groupby feature to create a new dataframe called street_pothole_sum which summarizes the total number of potholes by street.  You are essentially counting the number of rows by street name.  The rows of street_pothole_sum should be the labeled with street name.  There should be a single column in street_pothole_sum dataframe named num_potholes.  Print the head and shape of the street_pothole_sum dataframe."
   ]
  },
  {
   "cell_type": "code",
   "execution_count": 16,
   "metadata": {
    "scrolled": true
   },
   "outputs": [
    {
     "name": "stdout",
     "output_type": "stream",
     "text": [
      "            num_potholes\n",
      "StreetName              \n",
      "ACADEMY               76\n",
      "ACKERMAN               5\n",
      "ADAMS                 17\n",
      "AINSLEY                7\n",
      "ALANSON                4\n",
      "(413, 1)\n"
     ]
    }
   ],
   "source": [
    "# street_pothole_sum code here\n",
    "#num_potholes = potholes.size()\n",
    "street_pothole = potholes.groupby('StreetName');\n",
    "size = street_pothole.size()\n",
    "street_pothole_sum = pd.DataFrame(size, columns = ['num_potholes'])\n",
    "print(street_pothole_sum.head())\n",
    "print(street_pothole_sum.shape)"
   ]
  },
  {
   "cell_type": "code",
   "execution_count": 17,
   "metadata": {
    "deletable": false,
    "editable": false,
    "nbgrader": {
     "checksum": "da34aac4c035b267f3ff5816fd031fba",
     "grade": true,
     "grade_id": "cell-17c0ac01cace4b18",
     "locked": true,
     "points": 10,
     "schema_version": 1,
     "solution": false
    }
   },
   "outputs": [],
   "source": [
    "# for grading use only (question 6d)"
   ]
  },
  {
   "cell_type": "markdown",
   "metadata": {},
   "source": [
    "##### Grading Feedback Cell"
   ]
  },
  {
   "cell_type": "markdown",
   "metadata": {},
   "source": [
    "6e (4 pts) Save the number of potholes on Comstock Ave in a variable named num_potholes_comstock and display the variable. The num_potholes_comstock variable should be an integer type.  Print num_potholes_comstock."
   ]
  },
  {
   "cell_type": "code",
   "execution_count": 23,
   "metadata": {},
   "outputs": [
    {
     "data": {
      "text/plain": [
       "num_potholes    10\n",
       "Name: COMSTOCK , dtype: int64"
      ]
     },
     "execution_count": 23,
     "metadata": {},
     "output_type": "execute_result"
    }
   ],
   "source": [
    "# num_potholes_comstock code here\n",
    "num_potholes_comstock = street_pothole_sum.loc['COMSTOCK ']\n",
    "num_potholes_comstock"
   ]
  },
  {
   "cell_type": "code",
   "execution_count": 19,
   "metadata": {
    "deletable": false,
    "editable": false,
    "nbgrader": {
     "checksum": "da34aac4c035b267f3ff5816fd031fba",
     "grade": true,
     "grade_id": "cell-17c0ac01cace4b18",
     "locked": true,
     "points": 10,
     "schema_version": 1,
     "solution": false
    }
   },
   "outputs": [],
   "source": [
    "# for grading use only (question 6e)"
   ]
  },
  {
   "cell_type": "markdown",
   "metadata": {},
   "source": [
    "##### Grading Feedback Cell\n",
    "-2 incorrect type"
   ]
  },
  {
   "cell_type": "markdown",
   "metadata": {},
   "source": [
    "#### Question 7 (10 pts): Create a function named my_corr_coef that takes as input 2 numpy single dimensional arrays and returns the correlation coefficient to the caller.  Note that your function does not have to work for matrices.  The correlation coefficient is a number of type float between -1 and 1.  The my_corr_coef function should not use any built in numpy functions to calculate the correlation.  For example, don't use the built in numpy corrcoef function, don't use np.mean, etc.  Make sure to check for input error conditions and return the Python 'None' type if the correlation coefficient cannot be computed due to problems with the input data.  See [equation 3](https://en.wikipedia.org/wiki/Pearson_correlation_coefficient) as a reference on how to compute correlation."
   ]
  },
  {
   "cell_type": "code",
   "execution_count": 20,
   "metadata": {},
   "outputs": [],
   "source": [
    "# my_corr_coef here\n",
    "def my_corr_coef(x , y):\n",
    "    try:\n",
    "        raise IOError('HiThere')\n",
    "    except IOError:\n",
    "        print('None')\n",
    "\n",
    "    n = len(x)\n",
    "    sum_x = float(sum(x))\n",
    "    sum_y = float(sum(y))\n",
    "    sum_x_sq = sum(map(lambda x: pow(x, 2), x))\n",
    "    sum_y_sq = sum(map(lambda x: pow(x, 2), y))\n",
    "    psum = sum(map(lambda x, y: x * y, x, y))\n",
    "    num = psum - (sum_x * sum_y/n)\n",
    "    den = pow((sum_x_sq - pow(sum_x, 2) / n) * (sum_y_sq - pow(sum_y, 2) / n), 0.5)\n",
    "    if den == 0: return 0\n",
    "    return num / den \n",
    "    "
   ]
  },
  {
   "cell_type": "code",
   "execution_count": 21,
   "metadata": {
    "deletable": false,
    "editable": false,
    "nbgrader": {
     "checksum": "da34aac4c035b267f3ff5816fd031fba",
     "grade": true,
     "grade_id": "cell-17c0ac01cace4b18",
     "locked": true,
     "points": 10,
     "schema_version": 1,
     "solution": false
    }
   },
   "outputs": [
    {
     "name": "stdout",
     "output_type": "stream",
     "text": [
      "None\n"
     ]
    },
    {
     "data": {
      "text/plain": [
       "0.9953500135553002"
      ]
     },
     "execution_count": 21,
     "metadata": {},
     "output_type": "execute_result"
    }
   ],
   "source": [
    "# for grading use only (question 7)\n",
    "a = np.array([1,2,3,4,6,7,8,9])\n",
    "b = np.array([2,4,6,8,10,12,13,15])\n",
    "my_corr_coef(a,b)"
   ]
  },
  {
   "cell_type": "markdown",
   "metadata": {},
   "source": [
    "##### Grading Feedback Cell\n",
    "-3 for not returning a None type when there the list a & b are empty"
   ]
  },
  {
   "cell_type": "code",
   "execution_count": null,
   "metadata": {},
   "outputs": [],
   "source": []
  }
 ],
 "metadata": {
  "celltoolbar": "Edit Metadata",
  "kernel_info": {
   "name": "python3"
  },
  "kernelspec": {
   "display_name": "Python 3",
   "language": "python",
   "name": "python3"
  },
  "language_info": {
   "codemirror_mode": {
    "name": "ipython",
    "version": 3
   },
   "file_extension": ".py",
   "mimetype": "text/x-python",
   "name": "python",
   "nbconvert_exporter": "python",
   "pygments_lexer": "ipython3",
   "version": "3.7.4"
  },
  "name": "lab1-no-key",
  "notebookId": 3197279189044075,
  "nteract": {
   "version": "0.12.3"
  }
 },
 "nbformat": 4,
 "nbformat_minor": 1
}
