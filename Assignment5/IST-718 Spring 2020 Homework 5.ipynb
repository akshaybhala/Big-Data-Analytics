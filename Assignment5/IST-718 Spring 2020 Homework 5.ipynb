{
 "cells": [
  {
   "cell_type": "markdown",
   "metadata": {},
   "source": [
    "##### Grading Feedback Cell\n",
    "99%"
   ]
  },
  {
   "cell_type": "markdown",
   "metadata": {
    "deletable": false,
    "nbgrader": {
     "checksum": "c51f80b694da894627ba37be28c86055",
     "grade": false,
     "grade_id": "cell-b038e38b5e3072a9",
     "locked": true,
     "schema_version": 1,
     "solution": false
    }
   },
   "source": [
    "# IST 718: Big Data Analytics\n",
    "\n",
    "- Professor: Willard Williamson <wewillia@syr.edu>\n",
    "- Faculty Assistant: Yash Pasar <yspasar@syr.edu>\n",
    "## General instructions:\n",
    "\n",
    "- You are welcome to discuss the problems with your classmates but __you are not allowed to copy any part of your answers from your classmates.  Short code snippets are allowed from the internet.  Code from the class text books or class provided code can be copied in its entirety.__\n",
    "- There could be tests in some cells (i.e., `assert` and `np.testing.` statements). These tests (if present) are used to grade your answers. **However, the professor and FAs could use __additional__ test for your answer. Think about cases where your code should run even if it passess all the tests you see.**\n",
    "- Before submitting your work, remember to check for run time errors with the following procedure:\n",
    "`Kernel`$\\rightarrow$`Restart and Run All`.  All runtime errors will result in a minimum penalty of half off.\n",
    "- Data Bricks is the official class runtime environment so you should test your code on Data Bricks before submission.  If there is a runtime problem in the grading environment, we will try your code on Data Bricks before making a final grading decision.\n",
    "- All plots shall include a title, and axis labels.\n",
    "- Grading feedback cells are there for graders to provide feedback to students.  Don't change or remove grading feedback cells.\n",
    "- Don't add or remove files from your git repo.\n",
    "- Do not change file names in your repo.  This also means don't change the title of the ipython notebook.\n",
    "- You are free to add additional code cells around the cells marked `your code here`.\n",
    "- __Only use spark, spark machine learning, spark data frames, RDD's, and map reduce to solve all problems unless instructed otherwise.__"
   ]
  },
  {
   "cell_type": "code",
   "execution_count": 1,
   "metadata": {},
   "outputs": [],
   "source": [
    "# import statements\n",
    "import numpy as np\n",
    "import pandas as pd\n",
    "import seaborn as sns\n",
    "from pyspark.sql import SparkSession\n",
    "from pyspark.sql import Row\n",
    "from pyspark.sql.functions import isnan, isnull, when, count, col\n",
    "from pyspark.sql import functions as fn\n",
    "import matplotlib.pyplot as plt\n",
    "from pyspark.mllib.stat import Statistics\n",
    "from pyspark.ml import feature\n",
    "from pyspark.ml import classification\n",
    "from pyspark.ml import Pipeline\n",
    "from pyspark.ml import clustering\n",
    "from pyspark.ml import regression\n",
    "from pyspark.ml.feature import StandardScaler\n",
    "from math import exp, log10, fabs, atan, log\n",
    "spark = SparkSession.builder.getOrCreate()\n",
    "sc = spark.sparkContext\n",
    "import requests\n",
    "from pyspark.ml.feature import StopWordsRemover\n",
    "from pyspark.ml.feature import RegexTokenizer\n",
    "from pyspark.ml.feature import CountVectorizer\n",
    "from pyspark.ml.feature import IDF"
   ]
  },
  {
   "cell_type": "markdown",
   "metadata": {},
   "source": [
    "The following cell is used to determine if the environment is databricks or personal computer and determine the correct data file path accordingly."
   ]
  },
  {
   "cell_type": "code",
   "execution_count": 2,
   "metadata": {
    "deletable": false,
    "editable": false,
    "nbgrader": {
     "checksum": "ed593a17eab4017a9129cd4ad457fc98",
     "grade": true,
     "grade_id": "cell-20fb7c865c3ddf0e",
     "locked": true,
     "points": 10,
     "schema_version": 1,
     "solution": false
    }
   },
   "outputs": [],
   "source": [
    "# Do not delete or change this cell\n",
    "\n",
    "import os\n",
    "\n",
    "# Define a function to determine if we are running on data bricks\n",
    "# Return true if running in the data bricks environment, false otherwise\n",
    "def is_databricks():\n",
    "    # get the databricks runtime version\n",
    "    db_env = os.getenv(\"DATABRICKS_RUNTIME_VERSION\")\n",
    "    \n",
    "    # if running on data bricks\n",
    "    if db_env != None:\n",
    "        return True\n",
    "    else:\n",
    "        return False\n",
    "\n",
    "# Define a function to read the data file.  The full path data file name is constructed\n",
    "# by checking runtime environment variables to determine if the runtime environment is \n",
    "# databricks, or a student's personal computer.  The full path file name is then\n",
    "# constructed based on the runtime env.\n",
    "# \n",
    "# Params\n",
    "#   data_file_name: The base name of the data file to load\n",
    "# \n",
    "# Returns the full path file name based on the runtime env\n",
    "#\n",
    "def get_training_filename(data_file_name):    \n",
    "    # if running on data bricks\n",
    "    if is_databricks():\n",
    "        # build the full path file name assuming data brick env\n",
    "        full_path_name = \"/FileStore/tables/%s\" % data_file_name\n",
    "    # else the data is assumed to be in the same dir as this notebook\n",
    "    else:\n",
    "        # Assume the student is running on their own computer and load the data\n",
    "        # file from the same dir as this notebook\n",
    "        full_path_name = data_file_name\n",
    "    \n",
    "    # return the full path file name to the caller\n",
    "    return full_path_name"
   ]
  },
  {
   "cell_type": "markdown",
   "metadata": {},
   "source": [
    "# Unsupervised learning"
   ]
  },
  {
   "cell_type": "markdown",
   "metadata": {},
   "source": [
    "The colleges_data_science_programs dataset contains information about dozens of \"data science\" programs across the US."
   ]
  },
  {
   "cell_type": "markdown",
   "metadata": {},
   "source": [
    "## Question 1: (10 pts)\n",
    "\n",
    "This dataset contains many columns that we can use to understand how these data science programs differ from one another."
   ]
  },
  {
   "cell_type": "markdown",
   "metadata": {},
   "source": [
    "## Question 1a (5 pts)\n",
    "Using get_training_filename, read the colleges_data_science_programs.csv data file into a data frame named raw_ds_programs_text_df.  Print the head of the raw_ds_programs_text_df using Pandas, and the shape using spark."
   ]
  },
  {
   "cell_type": "code",
   "execution_count": 3,
   "metadata": {},
   "outputs": [
    {
     "name": "stdout",
     "output_type": "stream",
     "text": [
      " \n",
      " Shape: \n",
      "  (222, 28)\n"
     ]
    },
    {
     "data": {
      "text/html": [
       "<div>\n",
       "<style scoped>\n",
       "    .dataframe tbody tr th:only-of-type {\n",
       "        vertical-align: middle;\n",
       "    }\n",
       "\n",
       "    .dataframe tbody tr th {\n",
       "        vertical-align: top;\n",
       "    }\n",
       "\n",
       "    .dataframe thead th {\n",
       "        text-align: right;\n",
       "    }\n",
       "</style>\n",
       "<table border=\"1\" class=\"dataframe\">\n",
       "  <thead>\n",
       "    <tr style=\"text-align: right;\">\n",
       "      <th></th>\n",
       "      <th>id</th>\n",
       "      <th>name</th>\n",
       "      <th>url</th>\n",
       "      <th>program</th>\n",
       "      <th>degree</th>\n",
       "      <th>country</th>\n",
       "      <th>state</th>\n",
       "      <th>online</th>\n",
       "      <th>oncampus</th>\n",
       "      <th>department</th>\n",
       "      <th>...</th>\n",
       "      <th>cost</th>\n",
       "      <th>visualization</th>\n",
       "      <th>machine learning</th>\n",
       "      <th>business</th>\n",
       "      <th>databases</th>\n",
       "      <th>programminglanguages</th>\n",
       "      <th>capstone</th>\n",
       "      <th>mapreduce</th>\n",
       "      <th>part-time</th>\n",
       "      <th>ethics</th>\n",
       "    </tr>\n",
       "  </thead>\n",
       "  <tbody>\n",
       "    <tr>\n",
       "      <td>0</td>\n",
       "      <td>1</td>\n",
       "      <td>South Dakota State University</td>\n",
       "      <td>http://www.sdstate.edu/mathstat/grad/masters-i...</td>\n",
       "      <td>Data Science</td>\n",
       "      <td>Masters</td>\n",
       "      <td>US</td>\n",
       "      <td>SD</td>\n",
       "      <td>False</td>\n",
       "      <td>True</td>\n",
       "      <td>Mathematics and Statistics</td>\n",
       "      <td>...</td>\n",
       "      <td>None</td>\n",
       "      <td>None</td>\n",
       "      <td>None</td>\n",
       "      <td>None</td>\n",
       "      <td>None</td>\n",
       "      <td>None</td>\n",
       "      <td>None</td>\n",
       "      <td>None</td>\n",
       "      <td>None</td>\n",
       "      <td>None</td>\n",
       "    </tr>\n",
       "    <tr>\n",
       "      <td>1</td>\n",
       "      <td>2</td>\n",
       "      <td>Dakota State University</td>\n",
       "      <td>http://www.dsu.edu/msa/</td>\n",
       "      <td>Analytics</td>\n",
       "      <td>Masters</td>\n",
       "      <td>US</td>\n",
       "      <td>SD</td>\n",
       "      <td>True</td>\n",
       "      <td>True</td>\n",
       "      <td>Business and Information Systems</td>\n",
       "      <td>...</td>\n",
       "      <td>None</td>\n",
       "      <td>None</td>\n",
       "      <td>None</td>\n",
       "      <td>None</td>\n",
       "      <td>None</td>\n",
       "      <td>None</td>\n",
       "      <td>None</td>\n",
       "      <td>None</td>\n",
       "      <td>None</td>\n",
       "      <td>None</td>\n",
       "    </tr>\n",
       "    <tr>\n",
       "      <td>2</td>\n",
       "      <td>3</td>\n",
       "      <td>Lewis University</td>\n",
       "      <td>http://www.lewisu.edu/academics/data-science/i...</td>\n",
       "      <td>Data Science</td>\n",
       "      <td>Masters</td>\n",
       "      <td>US</td>\n",
       "      <td>IL</td>\n",
       "      <td>True</td>\n",
       "      <td>True</td>\n",
       "      <td>Computer Science</td>\n",
       "      <td>...</td>\n",
       "      <td>None</td>\n",
       "      <td>None</td>\n",
       "      <td>None</td>\n",
       "      <td>None</td>\n",
       "      <td>None</td>\n",
       "      <td>None</td>\n",
       "      <td>None</td>\n",
       "      <td>None</td>\n",
       "      <td>None</td>\n",
       "      <td>None</td>\n",
       "    </tr>\n",
       "    <tr>\n",
       "      <td>3</td>\n",
       "      <td>4</td>\n",
       "      <td>Saint Joseph's University</td>\n",
       "      <td>http://online.sju.edu/programs/business-intell...</td>\n",
       "      <td>Business Intelligence &amp; Analytics</td>\n",
       "      <td>Masters</td>\n",
       "      <td>US</td>\n",
       "      <td>PA</td>\n",
       "      <td>True</td>\n",
       "      <td>True</td>\n",
       "      <td>Business</td>\n",
       "      <td>...</td>\n",
       "      <td>None</td>\n",
       "      <td>None</td>\n",
       "      <td>None</td>\n",
       "      <td>None</td>\n",
       "      <td>None</td>\n",
       "      <td>None</td>\n",
       "      <td>None</td>\n",
       "      <td>None</td>\n",
       "      <td>None</td>\n",
       "      <td>None</td>\n",
       "    </tr>\n",
       "    <tr>\n",
       "      <td>4</td>\n",
       "      <td>5</td>\n",
       "      <td>University Of Leeds</td>\n",
       "      <td>http://www.engineering.leeds.ac.uk/computing/p...</td>\n",
       "      <td>Advanced Computer Science(Data Analytics)</td>\n",
       "      <td>Masters</td>\n",
       "      <td>GB</td>\n",
       "      <td>None</td>\n",
       "      <td>False</td>\n",
       "      <td>True</td>\n",
       "      <td>Computer Science</td>\n",
       "      <td>...</td>\n",
       "      <td>None</td>\n",
       "      <td>None</td>\n",
       "      <td>None</td>\n",
       "      <td>None</td>\n",
       "      <td>None</td>\n",
       "      <td>None</td>\n",
       "      <td>None</td>\n",
       "      <td>None</td>\n",
       "      <td>None</td>\n",
       "      <td>None</td>\n",
       "    </tr>\n",
       "  </tbody>\n",
       "</table>\n",
       "<p>5 rows × 28 columns</p>\n",
       "</div>"
      ],
      "text/plain": [
       "   id                           name  \\\n",
       "0   1  South Dakota State University   \n",
       "1   2        Dakota State University   \n",
       "2   3               Lewis University   \n",
       "3   4      Saint Joseph's University   \n",
       "4   5            University Of Leeds   \n",
       "\n",
       "                                                 url  \\\n",
       "0  http://www.sdstate.edu/mathstat/grad/masters-i...   \n",
       "1                            http://www.dsu.edu/msa/   \n",
       "2  http://www.lewisu.edu/academics/data-science/i...   \n",
       "3  http://online.sju.edu/programs/business-intell...   \n",
       "4  http://www.engineering.leeds.ac.uk/computing/p...   \n",
       "\n",
       "                                     program   degree country state  online  \\\n",
       "0                               Data Science  Masters      US    SD   False   \n",
       "1                                  Analytics  Masters      US    SD    True   \n",
       "2                               Data Science  Masters      US    IL    True   \n",
       "3          Business Intelligence & Analytics  Masters      US    PA    True   \n",
       "4  Advanced Computer Science(Data Analytics)  Masters      GB  None   False   \n",
       "\n",
       "   oncampus                        department  ...  cost visualization  \\\n",
       "0      True        Mathematics and Statistics  ...  None          None   \n",
       "1      True  Business and Information Systems  ...  None          None   \n",
       "2      True                  Computer Science  ...  None          None   \n",
       "3      True                          Business  ...  None          None   \n",
       "4      True                  Computer Science  ...  None          None   \n",
       "\n",
       "   machine learning business databases programminglanguages  capstone  \\\n",
       "0              None     None      None                 None      None   \n",
       "1              None     None      None                 None      None   \n",
       "2              None     None      None                 None      None   \n",
       "3              None     None      None                 None      None   \n",
       "4              None     None      None                 None      None   \n",
       "\n",
       "  mapreduce part-time ethics  \n",
       "0      None      None   None  \n",
       "1      None      None   None  \n",
       "2      None      None   None  \n",
       "3      None      None   None  \n",
       "4      None      None   None  \n",
       "\n",
       "[5 rows x 28 columns]"
      ]
     },
     "execution_count": 3,
     "metadata": {},
     "output_type": "execute_result"
    }
   ],
   "source": [
    "# Your code here\n",
    "raw_ds_programs_text_df = spark.read.csv(get_training_filename('colleges_data_science_programs.csv'), header=True, inferSchema=True)\n",
    "print(\" \\n Shape: \\n \",(raw_ds_programs_text_df.count(), len(raw_ds_programs_text_df.columns)))\n",
    "raw_ds_programs_text_df.toPandas().head(5)"
   ]
  },
  {
   "cell_type": "markdown",
   "metadata": {},
   "source": [
    "##### Grading Feedback Cell"
   ]
  },
  {
   "cell_type": "markdown",
   "metadata": {},
   "source": [
    "## Question 1b (5 pts)\n",
    "Starting with `raw_ds_programs_text_df`, create a new dataframe named`ds_programs_text_df` which simply adds a column `text` to the dataframe `raw_ds_programs_df`. This column will have the concatenation of the following columns separated by a space: `program`, `degree` and `department` (find the appropriate function in the `fn` package). <br>\n",
    "\n",
    "An example of the `ds_programs_text_df` should give you:\n",
    "\n",
    "```python\n",
    "ds_programs_text_df.orderBy('id').first().text\n",
    "```\n",
    "\n",
    "```console\n",
    "'Data Science Masters Mathematics and Statistics'\n",
    "```\n",
    "<br>\n",
    "- Print the head of the raw_ds_programs_text_df using Pandas, and the shape using spark.<br>\n",
    "- Print the text column in the first row of the ds_programs_text_df."
   ]
  },
  {
   "cell_type": "code",
   "execution_count": 4,
   "metadata": {
    "deletable": false,
    "nbgrader": {
     "checksum": "cb982914cbab5d8d552cafcab8a6f41b",
     "grade": false,
     "grade_id": "cell-18ebd4f77c37a8e3",
     "locked": false,
     "schema_version": 1,
     "solution": true
    }
   },
   "outputs": [
    {
     "name": "stdout",
     "output_type": "stream",
     "text": [
      "\n",
      " Text column in the first row :\n",
      "  Data Science Masters Mathematics and Statistics\n",
      "\n",
      " Shape: \n",
      " (222, 29)\n"
     ]
    },
    {
     "data": {
      "text/html": [
       "<div>\n",
       "<style scoped>\n",
       "    .dataframe tbody tr th:only-of-type {\n",
       "        vertical-align: middle;\n",
       "    }\n",
       "\n",
       "    .dataframe tbody tr th {\n",
       "        vertical-align: top;\n",
       "    }\n",
       "\n",
       "    .dataframe thead th {\n",
       "        text-align: right;\n",
       "    }\n",
       "</style>\n",
       "<table border=\"1\" class=\"dataframe\">\n",
       "  <thead>\n",
       "    <tr style=\"text-align: right;\">\n",
       "      <th></th>\n",
       "      <th>id</th>\n",
       "      <th>name</th>\n",
       "      <th>url</th>\n",
       "      <th>program</th>\n",
       "      <th>degree</th>\n",
       "      <th>country</th>\n",
       "      <th>state</th>\n",
       "      <th>online</th>\n",
       "      <th>oncampus</th>\n",
       "      <th>department</th>\n",
       "      <th>...</th>\n",
       "      <th>visualization</th>\n",
       "      <th>machine learning</th>\n",
       "      <th>business</th>\n",
       "      <th>databases</th>\n",
       "      <th>programminglanguages</th>\n",
       "      <th>capstone</th>\n",
       "      <th>mapreduce</th>\n",
       "      <th>part-time</th>\n",
       "      <th>ethics</th>\n",
       "      <th>text</th>\n",
       "    </tr>\n",
       "  </thead>\n",
       "  <tbody>\n",
       "    <tr>\n",
       "      <td>0</td>\n",
       "      <td>1</td>\n",
       "      <td>South Dakota State University</td>\n",
       "      <td>http://www.sdstate.edu/mathstat/grad/masters-i...</td>\n",
       "      <td>Data Science</td>\n",
       "      <td>Masters</td>\n",
       "      <td>US</td>\n",
       "      <td>SD</td>\n",
       "      <td>False</td>\n",
       "      <td>True</td>\n",
       "      <td>Mathematics and Statistics</td>\n",
       "      <td>...</td>\n",
       "      <td>None</td>\n",
       "      <td>None</td>\n",
       "      <td>None</td>\n",
       "      <td>None</td>\n",
       "      <td>None</td>\n",
       "      <td>None</td>\n",
       "      <td>None</td>\n",
       "      <td>None</td>\n",
       "      <td>None</td>\n",
       "      <td>Data Science Masters Mathematics and Statistics</td>\n",
       "    </tr>\n",
       "    <tr>\n",
       "      <td>1</td>\n",
       "      <td>2</td>\n",
       "      <td>Dakota State University</td>\n",
       "      <td>http://www.dsu.edu/msa/</td>\n",
       "      <td>Analytics</td>\n",
       "      <td>Masters</td>\n",
       "      <td>US</td>\n",
       "      <td>SD</td>\n",
       "      <td>True</td>\n",
       "      <td>True</td>\n",
       "      <td>Business and Information Systems</td>\n",
       "      <td>...</td>\n",
       "      <td>None</td>\n",
       "      <td>None</td>\n",
       "      <td>None</td>\n",
       "      <td>None</td>\n",
       "      <td>None</td>\n",
       "      <td>None</td>\n",
       "      <td>None</td>\n",
       "      <td>None</td>\n",
       "      <td>None</td>\n",
       "      <td>Analytics Masters Business and Information Sys...</td>\n",
       "    </tr>\n",
       "    <tr>\n",
       "      <td>2</td>\n",
       "      <td>3</td>\n",
       "      <td>Lewis University</td>\n",
       "      <td>http://www.lewisu.edu/academics/data-science/i...</td>\n",
       "      <td>Data Science</td>\n",
       "      <td>Masters</td>\n",
       "      <td>US</td>\n",
       "      <td>IL</td>\n",
       "      <td>True</td>\n",
       "      <td>True</td>\n",
       "      <td>Computer Science</td>\n",
       "      <td>...</td>\n",
       "      <td>None</td>\n",
       "      <td>None</td>\n",
       "      <td>None</td>\n",
       "      <td>None</td>\n",
       "      <td>None</td>\n",
       "      <td>None</td>\n",
       "      <td>None</td>\n",
       "      <td>None</td>\n",
       "      <td>None</td>\n",
       "      <td>Data Science Masters Computer Science</td>\n",
       "    </tr>\n",
       "    <tr>\n",
       "      <td>3</td>\n",
       "      <td>4</td>\n",
       "      <td>Saint Joseph's University</td>\n",
       "      <td>http://online.sju.edu/programs/business-intell...</td>\n",
       "      <td>Business Intelligence &amp; Analytics</td>\n",
       "      <td>Masters</td>\n",
       "      <td>US</td>\n",
       "      <td>PA</td>\n",
       "      <td>True</td>\n",
       "      <td>True</td>\n",
       "      <td>Business</td>\n",
       "      <td>...</td>\n",
       "      <td>None</td>\n",
       "      <td>None</td>\n",
       "      <td>None</td>\n",
       "      <td>None</td>\n",
       "      <td>None</td>\n",
       "      <td>None</td>\n",
       "      <td>None</td>\n",
       "      <td>None</td>\n",
       "      <td>None</td>\n",
       "      <td>Business Intelligence &amp; Analytics Masters Busi...</td>\n",
       "    </tr>\n",
       "    <tr>\n",
       "      <td>4</td>\n",
       "      <td>5</td>\n",
       "      <td>University Of Leeds</td>\n",
       "      <td>http://www.engineering.leeds.ac.uk/computing/p...</td>\n",
       "      <td>Advanced Computer Science(Data Analytics)</td>\n",
       "      <td>Masters</td>\n",
       "      <td>GB</td>\n",
       "      <td>None</td>\n",
       "      <td>False</td>\n",
       "      <td>True</td>\n",
       "      <td>Computer Science</td>\n",
       "      <td>...</td>\n",
       "      <td>None</td>\n",
       "      <td>None</td>\n",
       "      <td>None</td>\n",
       "      <td>None</td>\n",
       "      <td>None</td>\n",
       "      <td>None</td>\n",
       "      <td>None</td>\n",
       "      <td>None</td>\n",
       "      <td>None</td>\n",
       "      <td>Advanced Computer Science(Data Analytics) Mast...</td>\n",
       "    </tr>\n",
       "  </tbody>\n",
       "</table>\n",
       "<p>5 rows × 29 columns</p>\n",
       "</div>"
      ],
      "text/plain": [
       "   id                           name  \\\n",
       "0   1  South Dakota State University   \n",
       "1   2        Dakota State University   \n",
       "2   3               Lewis University   \n",
       "3   4      Saint Joseph's University   \n",
       "4   5            University Of Leeds   \n",
       "\n",
       "                                                 url  \\\n",
       "0  http://www.sdstate.edu/mathstat/grad/masters-i...   \n",
       "1                            http://www.dsu.edu/msa/   \n",
       "2  http://www.lewisu.edu/academics/data-science/i...   \n",
       "3  http://online.sju.edu/programs/business-intell...   \n",
       "4  http://www.engineering.leeds.ac.uk/computing/p...   \n",
       "\n",
       "                                     program   degree country state  online  \\\n",
       "0                               Data Science  Masters      US    SD   False   \n",
       "1                                  Analytics  Masters      US    SD    True   \n",
       "2                               Data Science  Masters      US    IL    True   \n",
       "3          Business Intelligence & Analytics  Masters      US    PA    True   \n",
       "4  Advanced Computer Science(Data Analytics)  Masters      GB  None   False   \n",
       "\n",
       "   oncampus                        department  ... visualization  \\\n",
       "0      True        Mathematics and Statistics  ...          None   \n",
       "1      True  Business and Information Systems  ...          None   \n",
       "2      True                  Computer Science  ...          None   \n",
       "3      True                          Business  ...          None   \n",
       "4      True                  Computer Science  ...          None   \n",
       "\n",
       "  machine learning  business databases programminglanguages capstone  \\\n",
       "0             None      None      None                 None     None   \n",
       "1             None      None      None                 None     None   \n",
       "2             None      None      None                 None     None   \n",
       "3             None      None      None                 None     None   \n",
       "4             None      None      None                 None     None   \n",
       "\n",
       "   mapreduce part-time ethics  \\\n",
       "0       None      None   None   \n",
       "1       None      None   None   \n",
       "2       None      None   None   \n",
       "3       None      None   None   \n",
       "4       None      None   None   \n",
       "\n",
       "                                                text  \n",
       "0    Data Science Masters Mathematics and Statistics  \n",
       "1  Analytics Masters Business and Information Sys...  \n",
       "2              Data Science Masters Computer Science  \n",
       "3  Business Intelligence & Analytics Masters Busi...  \n",
       "4  Advanced Computer Science(Data Analytics) Mast...  \n",
       "\n",
       "[5 rows x 29 columns]"
      ]
     },
     "execution_count": 4,
     "metadata": {},
     "output_type": "execute_result"
    }
   ],
   "source": [
    "# Your code here\n",
    "\n",
    "ds_programs_text_df = raw_ds_programs_text_df.withColumn(\"text\",fn.concat_ws(\"\",fn.col('program'),fn.lit(' '),fn.col('degree'),fn.lit(' '),fn.col('department')))\n",
    "print(\"\\n Text column in the first row :\\n \",ds_programs_text_df.orderBy('id').first().text)\n",
    "print(\"\\n Shape: \\n\",(ds_programs_text_df.count(), len(ds_programs_text_df.columns)))\n",
    "ds_programs_text_df.toPandas().head(5)"
   ]
  },
  {
   "cell_type": "markdown",
   "metadata": {},
   "source": [
    "##### Grading Feedback Cell"
   ]
  },
  {
   "cell_type": "markdown",
   "metadata": {},
   "source": [
    "# Question 2: (10 pts) "
   ]
  },
  {
   "cell_type": "markdown",
   "metadata": {},
   "source": [
    "## Question 2a (5 pts)\n",
    "Create a pipeline named `pipe_features` that creates a new dataframe `ds_features_df`.  The pipe_features pipeline adds a column `features` to `ds_programs_text_df` that contains the `tfidf` of the `text` column.  Print the head of ds_features_df using Pandas and print the shape using spark."
   ]
  },
  {
   "cell_type": "code",
   "execution_count": 5,
   "metadata": {
    "nbgrader": {
     "checksum": "2cb3933b05c489ba7cadcdc1a3abc02d",
     "grade": false,
     "grade_id": "cell-8d401e50a125c6f3",
     "locked": true,
     "schema_version": 1,
     "solution": false
    }
   },
   "outputs": [
    {
     "name": "stdout",
     "output_type": "stream",
     "text": [
      "\n",
      " Shape: \n",
      " (222, 30)\n"
     ]
    },
    {
     "data": {
      "text/html": [
       "<div>\n",
       "<style scoped>\n",
       "    .dataframe tbody tr th:only-of-type {\n",
       "        vertical-align: middle;\n",
       "    }\n",
       "\n",
       "    .dataframe tbody tr th {\n",
       "        vertical-align: top;\n",
       "    }\n",
       "\n",
       "    .dataframe thead th {\n",
       "        text-align: right;\n",
       "    }\n",
       "</style>\n",
       "<table border=\"1\" class=\"dataframe\">\n",
       "  <thead>\n",
       "    <tr style=\"text-align: right;\">\n",
       "      <th></th>\n",
       "      <th>id</th>\n",
       "      <th>name</th>\n",
       "      <th>url</th>\n",
       "      <th>program</th>\n",
       "      <th>degree</th>\n",
       "      <th>country</th>\n",
       "      <th>state</th>\n",
       "      <th>online</th>\n",
       "      <th>oncampus</th>\n",
       "      <th>department</th>\n",
       "      <th>...</th>\n",
       "      <th>machine learning</th>\n",
       "      <th>business</th>\n",
       "      <th>databases</th>\n",
       "      <th>programminglanguages</th>\n",
       "      <th>capstone</th>\n",
       "      <th>mapreduce</th>\n",
       "      <th>part-time</th>\n",
       "      <th>ethics</th>\n",
       "      <th>text</th>\n",
       "      <th>features</th>\n",
       "    </tr>\n",
       "  </thead>\n",
       "  <tbody>\n",
       "    <tr>\n",
       "      <td>0</td>\n",
       "      <td>1</td>\n",
       "      <td>South Dakota State University</td>\n",
       "      <td>http://www.sdstate.edu/mathstat/grad/masters-i...</td>\n",
       "      <td>Data Science</td>\n",
       "      <td>Masters</td>\n",
       "      <td>US</td>\n",
       "      <td>SD</td>\n",
       "      <td>False</td>\n",
       "      <td>True</td>\n",
       "      <td>Mathematics and Statistics</td>\n",
       "      <td>...</td>\n",
       "      <td>None</td>\n",
       "      <td>None</td>\n",
       "      <td>None</td>\n",
       "      <td>None</td>\n",
       "      <td>None</td>\n",
       "      <td>None</td>\n",
       "      <td>None</td>\n",
       "      <td>None</td>\n",
       "      <td>Data Science Masters Mathematics and Statistics</td>\n",
       "      <td>(0.2538801769623398, 0.6622396430968687, 0.0, ...</td>\n",
       "    </tr>\n",
       "    <tr>\n",
       "      <td>1</td>\n",
       "      <td>2</td>\n",
       "      <td>Dakota State University</td>\n",
       "      <td>http://www.dsu.edu/msa/</td>\n",
       "      <td>Analytics</td>\n",
       "      <td>Masters</td>\n",
       "      <td>US</td>\n",
       "      <td>SD</td>\n",
       "      <td>True</td>\n",
       "      <td>True</td>\n",
       "      <td>Business and Information Systems</td>\n",
       "      <td>...</td>\n",
       "      <td>None</td>\n",
       "      <td>None</td>\n",
       "      <td>None</td>\n",
       "      <td>None</td>\n",
       "      <td>None</td>\n",
       "      <td>None</td>\n",
       "      <td>None</td>\n",
       "      <td>None</td>\n",
       "      <td>Analytics Masters Business and Information Sys...</td>\n",
       "      <td>(0.2538801769623398, 0.0, 1.0377239189930973, ...</td>\n",
       "    </tr>\n",
       "    <tr>\n",
       "      <td>2</td>\n",
       "      <td>3</td>\n",
       "      <td>Lewis University</td>\n",
       "      <td>http://www.lewisu.edu/academics/data-science/i...</td>\n",
       "      <td>Data Science</td>\n",
       "      <td>Masters</td>\n",
       "      <td>US</td>\n",
       "      <td>IL</td>\n",
       "      <td>True</td>\n",
       "      <td>True</td>\n",
       "      <td>Computer Science</td>\n",
       "      <td>...</td>\n",
       "      <td>None</td>\n",
       "      <td>None</td>\n",
       "      <td>None</td>\n",
       "      <td>None</td>\n",
       "      <td>None</td>\n",
       "      <td>None</td>\n",
       "      <td>None</td>\n",
       "      <td>None</td>\n",
       "      <td>Data Science Masters Computer Science</td>\n",
       "      <td>(0.2538801769623398, 0.6622396430968687, 0.0, ...</td>\n",
       "    </tr>\n",
       "    <tr>\n",
       "      <td>3</td>\n",
       "      <td>4</td>\n",
       "      <td>Saint Joseph's University</td>\n",
       "      <td>http://online.sju.edu/programs/business-intell...</td>\n",
       "      <td>Business Intelligence &amp; Analytics</td>\n",
       "      <td>Masters</td>\n",
       "      <td>US</td>\n",
       "      <td>PA</td>\n",
       "      <td>True</td>\n",
       "      <td>True</td>\n",
       "      <td>Business</td>\n",
       "      <td>...</td>\n",
       "      <td>None</td>\n",
       "      <td>None</td>\n",
       "      <td>None</td>\n",
       "      <td>None</td>\n",
       "      <td>None</td>\n",
       "      <td>None</td>\n",
       "      <td>None</td>\n",
       "      <td>None</td>\n",
       "      <td>Business Intelligence &amp; Analytics Masters Busi...</td>\n",
       "      <td>(0.2538801769623398, 0.0, 2.0754478379861947, ...</td>\n",
       "    </tr>\n",
       "    <tr>\n",
       "      <td>4</td>\n",
       "      <td>5</td>\n",
       "      <td>University Of Leeds</td>\n",
       "      <td>http://www.engineering.leeds.ac.uk/computing/p...</td>\n",
       "      <td>Advanced Computer Science(Data Analytics)</td>\n",
       "      <td>Masters</td>\n",
       "      <td>GB</td>\n",
       "      <td>None</td>\n",
       "      <td>False</td>\n",
       "      <td>True</td>\n",
       "      <td>Computer Science</td>\n",
       "      <td>...</td>\n",
       "      <td>None</td>\n",
       "      <td>None</td>\n",
       "      <td>None</td>\n",
       "      <td>None</td>\n",
       "      <td>None</td>\n",
       "      <td>None</td>\n",
       "      <td>None</td>\n",
       "      <td>None</td>\n",
       "      <td>Advanced Computer Science(Data Analytics) Mast...</td>\n",
       "      <td>(0.2538801769623398, 0.6622396430968687, 0.0, ...</td>\n",
       "    </tr>\n",
       "  </tbody>\n",
       "</table>\n",
       "<p>5 rows × 30 columns</p>\n",
       "</div>"
      ],
      "text/plain": [
       "   id                           name  \\\n",
       "0   1  South Dakota State University   \n",
       "1   2        Dakota State University   \n",
       "2   3               Lewis University   \n",
       "3   4      Saint Joseph's University   \n",
       "4   5            University Of Leeds   \n",
       "\n",
       "                                                 url  \\\n",
       "0  http://www.sdstate.edu/mathstat/grad/masters-i...   \n",
       "1                            http://www.dsu.edu/msa/   \n",
       "2  http://www.lewisu.edu/academics/data-science/i...   \n",
       "3  http://online.sju.edu/programs/business-intell...   \n",
       "4  http://www.engineering.leeds.ac.uk/computing/p...   \n",
       "\n",
       "                                     program   degree country state  online  \\\n",
       "0                               Data Science  Masters      US    SD   False   \n",
       "1                                  Analytics  Masters      US    SD    True   \n",
       "2                               Data Science  Masters      US    IL    True   \n",
       "3          Business Intelligence & Analytics  Masters      US    PA    True   \n",
       "4  Advanced Computer Science(Data Analytics)  Masters      GB  None   False   \n",
       "\n",
       "   oncampus                        department  ... machine learning business  \\\n",
       "0      True        Mathematics and Statistics  ...             None     None   \n",
       "1      True  Business and Information Systems  ...             None     None   \n",
       "2      True                  Computer Science  ...             None     None   \n",
       "3      True                          Business  ...             None     None   \n",
       "4      True                  Computer Science  ...             None     None   \n",
       "\n",
       "   databases programminglanguages capstone mapreduce  part-time ethics  \\\n",
       "0       None                 None     None      None       None   None   \n",
       "1       None                 None     None      None       None   None   \n",
       "2       None                 None     None      None       None   None   \n",
       "3       None                 None     None      None       None   None   \n",
       "4       None                 None     None      None       None   None   \n",
       "\n",
       "                                                text  \\\n",
       "0    Data Science Masters Mathematics and Statistics   \n",
       "1  Analytics Masters Business and Information Sys...   \n",
       "2              Data Science Masters Computer Science   \n",
       "3  Business Intelligence & Analytics Masters Busi...   \n",
       "4  Advanced Computer Science(Data Analytics) Mast...   \n",
       "\n",
       "                                            features  \n",
       "0  (0.2538801769623398, 0.6622396430968687, 0.0, ...  \n",
       "1  (0.2538801769623398, 0.0, 1.0377239189930973, ...  \n",
       "2  (0.2538801769623398, 0.6622396430968687, 0.0, ...  \n",
       "3  (0.2538801769623398, 0.0, 2.0754478379861947, ...  \n",
       "4  (0.2538801769623398, 0.6622396430968687, 0.0, ...  \n",
       "\n",
       "[5 rows x 30 columns]"
      ]
     },
     "execution_count": 5,
     "metadata": {},
     "output_type": "execute_result"
    }
   ],
   "source": [
    "\n",
    "\n",
    "\n",
    "# Create ds_programs_text_df here\n",
    "tokenizer = feature.RegexTokenizer()\\\n",
    "  .setGaps(False)\\\n",
    "  .setPattern(\"\\\\p{L}+\")\\\n",
    "  .setInputCol(\"text\")\\\n",
    "  .setOutputCol(\"words\")\n",
    "stop_words = requests.get('http://ir.dcs.gla.ac.uk/resources/linguistic_utils/stop_words').text.split()\n",
    "sw_filter = StopWordsRemover()\\\n",
    "  .setStopWords(stop_words)\\\n",
    "  .setCaseSensitive(False)\\\n",
    "  .setInputCol(\"words\")\\\n",
    "  .setOutputCol(\"filtered_text\")\n",
    "cv = feature.CountVectorizer(inputCol='filtered_text', outputCol='tf')\n",
    "idf = feature.IDF(inputCol='tf', outputCol='features')\n",
    "cols = ds_programs_text_df.columns[:]\n",
    "pipe_features = Pipeline(stages=[tokenizer,sw_filter,cv,idf]).fit(ds_programs_text_df)\n",
    "ds_features_df = pipe_features.transform(ds_programs_text_df).select(*cols,'features')\n",
    "print(\"\\n Shape: \\n\",(ds_features_df.count(), len(ds_features_df.columns)))\n",
    "ds_features_df.toPandas().head(5)"
   ]
  },
  {
   "cell_type": "markdown",
   "metadata": {},
   "source": [
    "##### Grading Feedback Cell"
   ]
  },
  {
   "cell_type": "markdown",
   "metadata": {},
   "source": [
    "## Question 2b (5 pts)\n",
    "Create a pipeline model `pipe_pca` that computes the two first principal components of the `features` column as computed by `pipe_features` and creates a column named `scores`. Use that pipeline to create a dataframe `ds_features_df` with the columns `id`, `name`, `url`, and `scores`."
   ]
  },
  {
   "cell_type": "code",
   "execution_count": 6,
   "metadata": {
    "deletable": false,
    "nbgrader": {
     "checksum": "fe5246f975004002ec6318349b882137",
     "grade": false,
     "grade_id": "cell-cab09e882ef8f6d1",
     "locked": false,
     "schema_version": 1,
     "solution": true
    }
   },
   "outputs": [
    {
     "name": "stdout",
     "output_type": "stream",
     "text": [
      "\n",
      " Shape: \n",
      "  (222, 4)\n"
     ]
    },
    {
     "data": {
      "text/html": [
       "<div>\n",
       "<style scoped>\n",
       "    .dataframe tbody tr th:only-of-type {\n",
       "        vertical-align: middle;\n",
       "    }\n",
       "\n",
       "    .dataframe tbody tr th {\n",
       "        vertical-align: top;\n",
       "    }\n",
       "\n",
       "    .dataframe thead th {\n",
       "        text-align: right;\n",
       "    }\n",
       "</style>\n",
       "<table border=\"1\" class=\"dataframe\">\n",
       "  <thead>\n",
       "    <tr style=\"text-align: right;\">\n",
       "      <th></th>\n",
       "      <th>id</th>\n",
       "      <th>name</th>\n",
       "      <th>url</th>\n",
       "      <th>scores</th>\n",
       "    </tr>\n",
       "  </thead>\n",
       "  <tbody>\n",
       "    <tr>\n",
       "      <td>0</td>\n",
       "      <td>1</td>\n",
       "      <td>South Dakota State University</td>\n",
       "      <td>http://www.sdstate.edu/mathstat/grad/masters-i...</td>\n",
       "      <td>[-0.28936530400146304, 1.225874242754145]</td>\n",
       "    </tr>\n",
       "    <tr>\n",
       "      <td>1</td>\n",
       "      <td>2</td>\n",
       "      <td>Dakota State University</td>\n",
       "      <td>http://www.dsu.edu/msa/</td>\n",
       "      <td>[-0.3179830950693028, 0.9026154588118561]</td>\n",
       "    </tr>\n",
       "    <tr>\n",
       "      <td>2</td>\n",
       "      <td>3</td>\n",
       "      <td>Lewis University</td>\n",
       "      <td>http://www.lewisu.edu/academics/data-science/i...</td>\n",
       "      <td>[-0.019973100053756465, 0.21391827433862404]</td>\n",
       "    </tr>\n",
       "    <tr>\n",
       "      <td>3</td>\n",
       "      <td>4</td>\n",
       "      <td>Saint Joseph's University</td>\n",
       "      <td>http://online.sju.edu/programs/business-intell...</td>\n",
       "      <td>[-0.7162195133606062, -1.3984845319290018]</td>\n",
       "    </tr>\n",
       "    <tr>\n",
       "      <td>4</td>\n",
       "      <td>5</td>\n",
       "      <td>University Of Leeds</td>\n",
       "      <td>http://www.engineering.leeds.ac.uk/computing/p...</td>\n",
       "      <td>[-0.10536845675883032, 0.0665491080878871]</td>\n",
       "    </tr>\n",
       "  </tbody>\n",
       "</table>\n",
       "</div>"
      ],
      "text/plain": [
       "   id                           name  \\\n",
       "0   1  South Dakota State University   \n",
       "1   2        Dakota State University   \n",
       "2   3               Lewis University   \n",
       "3   4      Saint Joseph's University   \n",
       "4   5            University Of Leeds   \n",
       "\n",
       "                                                 url  \\\n",
       "0  http://www.sdstate.edu/mathstat/grad/masters-i...   \n",
       "1                            http://www.dsu.edu/msa/   \n",
       "2  http://www.lewisu.edu/academics/data-science/i...   \n",
       "3  http://online.sju.edu/programs/business-intell...   \n",
       "4  http://www.engineering.leeds.ac.uk/computing/p...   \n",
       "\n",
       "                                         scores  \n",
       "0     [-0.28936530400146304, 1.225874242754145]  \n",
       "1     [-0.3179830950693028, 0.9026154588118561]  \n",
       "2  [-0.019973100053756465, 0.21391827433862404]  \n",
       "3    [-0.7162195133606062, -1.3984845319290018]  \n",
       "4    [-0.10536845675883032, 0.0665491080878871]  "
      ]
     },
     "execution_count": 6,
     "metadata": {},
     "output_type": "execute_result"
    }
   ],
   "source": [
    "# create ds_features_df here\n",
    "pipe_pca = Pipeline(stages=[feature.StandardScaler(withMean=True,withStd = False,inputCol='features', outputCol='features1'),\n",
    "                            feature.PCA(k=2, inputCol='features1', outputCol='scores')]).fit(ds_features_df)\n",
    "ds_features_df1 = pipe_pca.transform(ds_features_df).select('id','name','url','scores')\n",
    "print(\"\\n Shape: \\n \",(ds_features_df1.count(), len(ds_features_df1.columns)))\n",
    "ds_features_df1.toPandas().head(5)"
   ]
  },
  {
   "cell_type": "markdown",
   "metadata": {},
   "source": [
    "\n",
    "\n",
    "##### Grading Feedback Cell"
   ]
  },
  {
   "cell_type": "markdown",
   "metadata": {},
   "source": [
    "# Question 3: (10 pts)\n",
    "\n",
    "Create a scatter plot with the x axis containing the first principal component (loading) and the y axis containing the second principal component (loading) of `ds_features_df`"
   ]
  },
  {
   "cell_type": "code",
   "execution_count": 7,
   "metadata": {
    "deletable": false,
    "nbgrader": {
     "checksum": "25f8bfc0359ff722d557a39233e1bfe2",
     "grade": true,
     "grade_id": "cell-cfe761874325794d",
     "locked": false,
     "points": 10,
     "schema_version": 1,
     "solution": true
    },
    "scrolled": false
   },
   "outputs": [
    {
     "data": {
      "image/png": "[encoded data removed]",
      "text/plain": [
       "<Figure size 360x360 with 1 Axes>"
      ]
     },
     "metadata": {
      "needs_background": "light"
     },
     "output_type": "display_data"
    }
   ],
   "source": [
    "# Your code here\n",
    "principal_component_1 = pipe_pca.stages[-1].pc.toArray()[:, 0]\n",
    "principal_component_2 = pipe_pca.stages[-1].pc.toArray()[:, 1]\n",
    "plt.figure(figsize=(5,5))\n",
    "plt.scatter(principal_component_1, principal_component_2)\n",
    "plt.xlabel(\"First Principal Component\")\n",
    "plt.ylabel(\"Second Principal Component\")\n",
    "plt.title(\" 1st vs 2nd Principal Component\")\n",
    "plt.show()"
   ]
  },
  {
   "cell_type": "markdown",
   "metadata": {},
   "source": [
    "##### Grading Feedback Cell"
   ]
  },
  {
   "cell_type": "markdown",
   "metadata": {},
   "source": [
    "\n",
    "\n",
    "\n",
    "\n",
    "# Question 4 (10 pts)\n",
    "\n",
    "Create two Pandas dataframes `pc1_pd` and `pc2_pd` with the columns `word` and `abs_loading` that contain the top 5 words and absolute loadings for the principal components 1 and 2, respetively.  Print both dataframes. Interpret the loadings."
   ]
  },
  {
   "cell_type": "code",
   "execution_count": 8,
   "metadata": {
    "deletable": false,
    "nbgrader": {
     "checksum": "21ba70a5a4393b6c5f5d5ce14bca6f26",
     "grade": false,
     "grade_id": "cell-f9d1641edcc927e5",
     "locked": false,
     "schema_version": 1,
     "solution": true
    }
   },
   "outputs": [
    {
     "name": "stdout",
     "output_type": "stream",
     "text": [
      "loadings for principal component_1:\n",
      "               word  abs_loading\n",
      "18  computational     0.582605\n",
      "14       sciences     0.499972\n",
      "35      astronomy     0.309639\n",
      "36        physics     0.309639\n",
      "22         school     0.285775\n",
      "\n",
      " loadings for principal component_2:\n",
      "             word  abs_loading\n",
      "7   information     0.472225\n",
      "21    computing     0.407430\n",
      "6    statistics     0.325734\n",
      "2      business     0.324424\n",
      "15    doctorate     0.224299\n"
     ]
    }
   ],
   "source": [
    "# your code here (5 pts)\n",
    "vocab = list(pipe_features.stages[2].vocabulary)\n",
    "principal_component_1  = abs(principal_component_1 )\n",
    "principal_component_2  = abs(principal_component_2 )\n",
    "# creating Dictonary\n",
    "pc1 = {'word':vocab,'abs_loading':principal_component_1}\n",
    "pc1_pd = pd.DataFrame(pc1).sort_values('abs_loading',ascending = False).head(5)\n",
    "pc2 = {'word':vocab,'abs_loading':principal_component_2}\n",
    "pc2_pd = pd.DataFrame(pc2).sort_values('abs_loading',ascending = False).head(5)   \n",
    "print(\"loadings for principal component_1:\\n \",pc1_pd)\n",
    "print(\"\\n loadings for principal component_2:\\n \",pc2_pd)"
   ]
  },
  {
   "cell_type": "markdown",
   "metadata": {},
   "source": [
    "##### Grading Feedback Cell"
   ]
  },
  {
   "cell_type": "markdown",
   "metadata": {},
   "source": [
    "Your interpretation here (5 pts):  It shows loadings that are considered the most important for each principal component i.e which variables contribute most strongly to each PC and also captures direction which explains variance along the unit vectors which in this case are words."
   ]
  },
  {
   "cell_type": "markdown",
   "metadata": {},
   "source": [
    "##### Grading Feedback Cell\n",
    "Spark creates loading vectors, not eigenvectors.  Loading vectors are not unit vectors.  Eigenvectors are unit vectors. The loading vector coefficients represent covariance between the words and the loading vector if withStd=False in the standard scaler.  If withStd=True, the loading vector coefficients would represent correlation between the words and the loading vector."
   ]
  },
  {
   "cell_type": "markdown",
   "metadata": {},
   "source": [
    "\n",
    "\n",
    "# Question 5: (10 pts)\n",
    "\n",
    "Create a new pipeline for PCA called `pipe_pca2` where you fit 50 principal components. Extract the `PCAModel` from the stages of this pipeline, and assign to a variable named `explainedVariance` which represents the variance explained by components of the model. Finally, assign to a variable named `best_k` the value $k$ such that ($k+1$)-th component is not able to explain more than 0.01 variance. You can use a for-loop to find such best k.  The value best_k should be be 0 based - in other words present best_k assuming that you started counting at 0."
   ]
  },
  {
   "cell_type": "code",
   "execution_count": 9,
   "metadata": {
    "deletable": false,
    "nbgrader": {
     "checksum": "8f1eb781acb7a61a4176067666602247",
     "grade": false,
     "grade_id": "cell-3c9669871f98d13c",
     "locked": false,
     "schema_version": 1,
     "solution": true
    }
   },
   "outputs": [
    {
     "name": "stdout",
     "output_type": "stream",
     "text": [
      "\n",
      " Number of components:  29\n"
     ]
    }
   ],
   "source": [
    "# your code here\n",
    "scale = feature.StandardScaler(withMean=True, withStd = False, inputCol='features', outputCol='features1')\n",
    "pca2 = feature.PCA(k=50, inputCol='features1', outputCol='scores')\n",
    "pipe_pca2 = Pipeline(stages=[scale, pca2]).fit(ds_features_df)\n",
    "explainedVariance = pipe_pca2.stages[-1].explainedVariance\n",
    "\n",
    "for k,i in enumerate(explainedVariance):\n",
    "    if i<0.01:\n",
    "        best_k = k-1\n",
    "        break\n",
    "print(\"\\n Number of components: \",best_k)        \n"
   ]
  },
  {
   "cell_type": "markdown",
   "metadata": {},
   "source": [
    "##### Grading Feedback Cell"
   ]
  },
  {
   "cell_type": "markdown",
   "metadata": {},
   "source": [
    "\n",
    "\n",
    "\n",
    "# Question 6: (10 pts)\n",
    "\n",
    "Create a new pipeline for PCA called pipe_pca3 (similar to pipe_pca2 above) where you fit the maximum possible number of principal components for this dataset. Create a scree plot and a plot of cumulative variance explained."
   ]
  },
  {
   "cell_type": "code",
   "execution_count": 10,
   "metadata": {
    "scrolled": true
   },
   "outputs": [
    {
     "data": {
      "image/png": "[encoded data removed]",
      "text/plain": [
       "<Figure size 432x288 with 1 Axes>"
      ]
     },
     "metadata": {
      "needs_background": "light"
     },
     "output_type": "display_data"
    }
   ],
   "source": [
    "# your code here\n",
    "pipe_pca3 = Pipeline(stages=[scale,feature.PCA(k=len(pipe_features.stages[2].vocabulary), inputCol='features1', outputCol='scores')]).fit(ds_features_df)\n",
    "explained_Variance = pipe_pca3.stages[-1].explainedVariance\n",
    "plt.plot(np.arange(1, len(explained_Variance)+1), explained_Variance,color = \"green\")\n",
    "plt.title(\"Scree Plot for MS in Data Science Dataset\")\n",
    "plt.xlabel(\"Principal Component\")\n",
    "plt.ylabel(\"Proportion Variance Explained\")\n",
    "plt.show()"
   ]
  },
  {
   "cell_type": "code",
   "execution_count": 11,
   "metadata": {},
   "outputs": [
    {
     "data": {
      "image/png": "[encoded data removed]",
      "text/plain": [
       "<Figure size 432x288 with 1 Axes>"
      ]
     },
     "metadata": {
      "needs_background": "light"
     },
     "output_type": "display_data"
    }
   ],
   "source": [
    "cum_sum = np.cumsum(explained_Variance)\n",
    "plt.figure()\n",
    "plt.plot(np.arange(1, len(explained_Variance)+1), cum_sum,color = \"Orange\")\n",
    "plt.title(\"DS Courses Dataset Cumulative Sum of Variance Explained\")\n",
    "plt.xlabel(\"Cumulative Components\")\n",
    "plt.ylabel(\"Cumulative Sum of Variance Explained\")\n",
    "plt.show()"
   ]
  },
  {
   "cell_type": "markdown",
   "metadata": {},
   "source": [
    "##### Grading Feedback Cell"
   ]
  },
  {
   "cell_type": "markdown",
   "metadata": {},
   "source": [
    "# Question 7: (10 pts)\n",
    "Create a pipeline named pipe_pca4 (similar to pipe_pca3 above) that computes the first 2 principal components.  Add a kmeans objects to the end of pipe_pca4 and compute kmeans with k = 5.  Create a scatter plot PC2 vs. PC1 where each scatter dot is colored by the cluster assignment.  Include a plot legend."
   ]
  },
  {
   "cell_type": "code",
   "execution_count": 12,
   "metadata": {},
   "outputs": [],
   "source": [
    "# your code here\n",
    "center_scale = feature.StandardScaler(withMean=True, withStd=False, inputCol='features', outputCol='centered_feat')\n",
    "pca = feature.PCA(k=2, inputCol='centered_feat', outputCol='pca_feat')\n",
    "norm = feature.Normalizer(inputCol=\"pca_feat\", outputCol=\"norm_feat\", p=2.0)\n",
    "kmeans = clustering.KMeans(k=5, featuresCol='norm_feat', predictionCol='kmeans_feat')\n",
    "pipe_pca4 = Pipeline(stages=[center_scale,pca,norm,kmeans]).fit(ds_features_df)\n",
    "ds_features_df2 = pipe_pca4.transform(ds_features_df).select('pca_feat', 'kmeans_feat')"
   ]
  },
  {
   "cell_type": "code",
   "execution_count": 22,
   "metadata": {},
   "outputs": [],
   "source": [
    "cluster_assign = ds_features_df2.select('kmeans_feat').collect()\n",
    "cluster = [cluster_assign[0].kmeans_feat]\n",
    "for i in range(1,len(cluster_assign)):\n",
    "    cluster.append(cluster_assign[i].kmeans_feat)"
   ]
  },
  {
   "cell_type": "code",
   "execution_count": 14,
   "metadata": {},
   "outputs": [],
   "source": [
    "scores = ds_features_df2.select('pca_feat').collect()"
   ]
  },
  {
   "cell_type": "code",
   "execution_count": 15,
   "metadata": {},
   "outputs": [],
   "source": [
    "pricipal_component_1 = [scores[0].pca_feat[0]]\n",
    "for x in range(1,len(scores)):\n",
    "    pricipal_component_1.append(scores[x].pca_feat[0])\n",
    "\n",
    "pricipal_component_2= [scores[0].pca_feat[1]]\n",
    "for x in range(1,len(scores)):\n",
    "    pricipal_component_2.append(scores[x].pca_feat[1])"
   ]
  },
  {
   "cell_type": "code",
   "execution_count": 16,
   "metadata": {},
   "outputs": [
    {
     "data": {
      "image/png": "[encoded data removed]",
      "text/plain": [
       "<Figure size 432x288 with 1 Axes>"
      ]
     },
     "metadata": {
      "needs_background": "light"
     },
     "output_type": "display_data"
    }
   ],
   "source": [
    "plot = sns.scatterplot(x=pricipal_component_1, y=pricipal_component_2, hue=cluster, style = cluster)\n",
    "plt.title(\"PC1 VS PC2 cluster assignments\")\n",
    "plt.xlabel(\"pricipal_component_1 scores\")\n",
    "plt.ylabel(\"pricipal_component_2 scores\")\n",
    "plot.get_legend().set_title('cluster')\n",
    "plt.show()"
   ]
  },
  {
   "cell_type": "markdown",
   "metadata": {},
   "source": [
    "##### Grading Feedback Cell\n",
    "-1 Incorrect plot title - should be PC2 vs PC1"
   ]
  },
  {
   "cell_type": "markdown",
   "metadata": {},
   "source": [
    "# Question 8: (10 pts)\n",
    "Starting with pipe_pca2, transform the pipeline and save the resulting dataframe to a variable named `pca_fun`.  Extract the output from the standard scaler column from the first row of pca_fun and store in a variable called `z`. Manually compute 10 PCA scores by projecting z onto the first 10 loading vectors. Save the 10 projected pca scores in a varialbe called `projection`.  Extract the first 10 PCA scores from the first row of pca_fun and save them in a variable named `model_scores`.  Print `projection` and `model_scores`.  Compare `projection` to `model_scores` and explain why they are the same or different. "
   ]
  },
  {
   "cell_type": "code",
   "execution_count": 17,
   "metadata": {},
   "outputs": [
    {
     "name": "stdout",
     "output_type": "stream",
     "text": [
      "\n",
      " 10 Manual PCA Projection Scores are:\n",
      " [-0.2893653   1.22587424 -1.32547104 -0.43764664  0.44087571 -1.07801359\n",
      " -1.46592373  0.31262874  0.11687763 -0.33874958]\n",
      "\n",
      " 10 PCA Model Scores are:\n",
      "  [-0.2893653   1.22587424 -1.32547104 -0.43764664  0.44087571 -1.07801359\n",
      " -1.46592373  0.31262874  0.11687763 -0.33874958]\n"
     ]
    }
   ],
   "source": [
    "# your code here (5 pts)\n",
    "pca_fun = pipe_pca2.transform(ds_features_df)\n",
    "z = pca_fun.select('features1').first()['features1']\n",
    "loading = pipe_pca2.stages[-1].pc.toArray()\n",
    "projection = z.dot(loading[:,0:10])\n",
    "print(\"\\n 10 Manual PCA Projection Scores are:\\n\",projection)\n",
    "model_scores = pca_fun.select('scores').first()['scores'][0:10]\n",
    "print(\"\\n 10 PCA Model Scores are:\\n \",model_scores)"
   ]
  },
  {
   "cell_type": "markdown",
   "metadata": {},
   "source": [
    "\n",
    "\n",
    "##### Grading Feedback Cell"
   ]
  },
  {
   "cell_type": "markdown",
   "metadata": {},
   "source": [
    "Your explanation here (5 pts): The manual projection scores and model scores are similar because when loading vectors are multiplied with observations the output is pca scores. "
   ]
  },
  {
   "cell_type": "markdown",
   "metadata": {},
   "source": [
    "##### Grading Feedback Cell"
   ]
  },
  {
   "cell_type": "markdown",
   "metadata": {},
   "source": [
    "# Question 9: (10 pts)\n",
    "Using PCA loading vectors, perform an inverse transform on the `projection` variable and store the result in a variable named inverse.  Print `inverse` and the original `z` data.  Explain why the inverse data is the same as `z` (or really close to `z`), or why it is different than `z`.  "
   ]
  },
  {
   "cell_type": "code",
   "execution_count": 18,
   "metadata": {},
   "outputs": [
    {
     "name": "stdout",
     "output_type": "stream",
     "text": [
      "\n",
      " Inverse z values: \n",
      " [-4.83495740e-02  2.33892334e-01 -6.95768942e-01 -2.11051142e-01\n",
      "  4.43629027e-01 -1.11286816e-02  2.06221089e+00 -3.05377352e-01\n",
      " -3.94267262e-01  2.06421792e-02  2.93995903e-01 -2.17338392e-02\n",
      " -1.18019961e-01  2.30646378e-01 -1.39218843e-01  1.73019535e-01\n",
      " -1.23903945e-01 -1.23903945e-01 -1.24035362e-01 -2.93100088e-01\n",
      " -2.25891791e-01  2.24045211e-01 -3.56968168e-01  1.34432610e-01\n",
      " -1.76785474e-01 -1.70716627e-01  2.60617506e-01  5.60048137e-02\n",
      " -9.88634062e-02  4.93008397e-01  8.67197427e-01 -1.27927114e-02\n",
      " -1.76309997e-02  5.71682415e-02 -1.62187554e-02 -1.17441197e-01\n",
      " -1.17441197e-01  9.69650146e-03 -8.59746768e-02 -4.56008178e-02\n",
      "  1.39346988e-02 -1.70142160e-02  1.57807305e-02 -2.52507703e-04\n",
      " -9.97442876e-02  2.33572736e-01 -4.32366002e-02 -7.42045829e-02\n",
      " -7.56085922e-02  7.68699677e-03  4.99818898e-02  4.25462747e-03\n",
      " -6.37677652e-02 -7.56085922e-02 -2.14251004e-01 -6.10071240e-02\n",
      "  1.32183018e-02 -5.68179399e-02  4.17634062e-03  3.25688297e-04\n",
      " -1.07125502e-01 -4.57541792e-02  4.96452918e-02  4.96452918e-02\n",
      " -5.68179399e-02 -4.70968013e-02 -4.04628459e-02 -7.76375170e-02\n",
      " -3.69697020e-02 -2.86258372e-02 -9.38017644e-03  9.62708163e-02\n",
      " -4.28722936e-02  8.41321911e-03 -7.76375170e-02 -4.57335497e-03\n",
      " -2.74744724e-02 -1.95058891e-02 -7.01987507e-03  3.25688297e-04\n",
      "  9.62708163e-02 -4.57541792e-02 -2.86258372e-02  3.25688297e-04\n",
      " -4.57335497e-03 -6.63275232e-02 -4.70968013e-02  1.65921393e-02\n",
      "  4.89331522e-03  1.69401176e-02 -2.37649919e-02  3.25688297e-04\n",
      " -3.10441343e-03 -3.70698365e-02 -4.60094329e-02 -2.68684703e-02\n",
      " -4.74026451e-02 -3.10441343e-03]\n",
      "\n",
      " Original z values: \n",
      " [0.057180220036563034,0.29830614553912993,-0.500164231226403,-0.36213126221273584,0.8302945209178554,-0.24098572336347818,2.1616056760509887,-0.23897148177448116,-0.21909331387449488,-0.20638446153250645,-0.19968103721300093,-0.2086993319516678,-0.19710492462101953,-0.17021487380635458,-0.17923925133324392,-0.16209679163956386,-0.14479692044321307,-0.14479692044321307,-0.1590514375466797,-0.13984624677775104,-0.13555299543521387,-0.144592215951527,-0.13555299543521387,-0.10492843066874764,-0.10492843066874764,-0.10492843066874764,-0.0935476114163461,-0.09771384600627199,-0.08142820500522666,3.533984097226837,-0.08142820500522666,-0.0684276370995679,-0.0684276370995679,-0.0684276370995679,-0.05433618122081389,-0.05433618122081389,-0.05433618122081389,-0.05433618122081389,-0.05433618122081389,-0.03881585119632441,-0.03881585119632441,-0.03881585119632441,-0.03881585119632441,-0.03881585119632441,-0.03881585119632441,-0.03881585119632441,-0.03881585119632441,-0.03881585119632441,-0.03881585119632441,-0.03881585119632441,-0.03881585119632441,-0.03881585119632441,-0.03881585119632441,-0.03881585119632441,-0.04246869000810967,-0.03881585119632441,-0.021234345004054835,-0.021234345004054835,-0.021234345004054835,-0.021234345004054835,-0.021234345004054835,-0.021234345004054835,-0.021234345004054835,-0.021234345004054835,-0.021234345004054835,-0.021234345004054835,-0.021234345004054835,-0.021234345004054835,-0.021234345004054835,-0.021234345004054835,-0.021234345004054835,-0.021234345004054835,-0.021234345004054835,-0.021234345004054835,-0.021234345004054835,-0.021234345004054835,-0.021234345004054835,-0.021234345004054835,-0.021234345004054835,-0.021234345004054835,-0.021234345004054835,-0.021234345004054835,-0.021234345004054835,-0.021234345004054835,-0.021234345004054835,-0.021234345004054835,-0.021234345004054835,-0.021234345004054835,-0.021234345004054835,-0.021234345004054835,-0.021234345004054835,-0.021234345004054835,-0.021234345004054835,-0.021234345004054835,-0.021234345004054835,-0.021234345004054835,-0.021234345004054835,-0.021234345004054835]\n"
     ]
    }
   ],
   "source": [
    "\n",
    "# your code here (5 pts)\n",
    "inverse = loading[:,:10].dot(projection[:10])\n",
    "print(\"\\n Inverse z values: \\n\", inverse)\n",
    "\n",
    "original = pca_fun.select(\"features1\").first()[0]    \n",
    "print(\"\\n Original z values: \\n\", original)"
   ]
  },
  {
   "cell_type": "markdown",
   "metadata": {},
   "source": [
    "##### Grading Feedback Cell"
   ]
  },
  {
   "cell_type": "markdown",
   "metadata": {},
   "source": [
    "Your explanation here (5 pts):The values differ because we take linear combination i.e projections of only top 10 loading vectors out of 50 loading vectors. Therefore if we include more number of loading vectors we can achieve more similar vaues while inversing data."
   ]
  },
  {
   "cell_type": "markdown",
   "metadata": {},
   "source": [
    "\n",
    "\n",
    "\n",
    "\n",
    "##### Grading Feedbck Cell"
   ]
  },
  {
   "cell_type": "markdown",
   "metadata": {},
   "source": [
    "# Question 10: (10 pts)\n",
    "\n",
    "Think about the cumulative variance and the scree plot from the question above.  If you were building a machine learning model, how many principal components would you pick for your model.  Explain why.  "
   ]
  },
  {
   "cell_type": "code",
   "execution_count": 19,
   "metadata": {},
   "outputs": [
    {
     "data": {
      "text/plain": [
       "0.9230646188857451"
      ]
     },
     "execution_count": 19,
     "metadata": {},
     "output_type": "execute_result"
    }
   ],
   "source": [
    "sum(pipe_pca2.stages[-1].explainedVariance[0:])"
   ]
  },
  {
   "cell_type": "markdown",
   "metadata": {},
   "source": [
    "The scree plot and cumulative variance shows that 80% of cumulative variance is explained between 30 - 35 principal components and only 20% of cumulative variance is explained by the remaining principal components. Therefore the idle number of principal components should be 31.\n"
   ]
  },
  {
   "cell_type": "markdown",
   "metadata": {},
   "source": [
    "##### Grading Feedback Cell"
   ]
  }
 ],
 "metadata": {
  "celltoolbar": "Edit Metadata",
  "kernelspec": {
   "display_name": "Python 3",
   "language": "python",
   "name": "python3"
  },
  "language_info": {
   "codemirror_mode": {
    "name": "ipython",
    "version": 3
   },
   "file_extension": ".py",
   "mimetype": "text/x-python",
   "name": "python",
   "nbconvert_exporter": "python",
   "pygments_lexer": "ipython3",
   "version": "3.7.6"
  }
 },
 "nbformat": 4,
 "nbformat_minor": 2
}
