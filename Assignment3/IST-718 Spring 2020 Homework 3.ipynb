{
 "cells": [
  {
   "cell_type": "markdown",
   "metadata": {},
   "source": [
    "##### Grading Feedback Cell\n",
    "105"
   ]
  },
  {
   "cell_type": "markdown",
   "metadata": {},
   "source": [
    "# IST 718: Big Data Analytics\n",
    "\n",
    "- Professor: Willard Williamson <wewillia@syr.edu>\n",
    "- Faculty Assistant: Yash Pasar <yspasar@syr.edu>\n",
    "## General instructions:\n",
    "\n",
    "- You are welcome to discuss the problems with your classmates but __you are not allowed to copy any part of your answers from your classmates.  Short code snippets are allowed from the internet.  Code from the class text books or class provided code can be copied in its entirety.__\n",
    "- There could be tests in some cells (i.e., `assert` and `np.testing.` statements). These tests (if present) are used to grade your answers. **However, the professor and FAs could use __additional__ test for your answer. Think about cases where your code should run even if it passess all the tests you see.**\n",
    "- Before submitting your work, remember to check for run time errors with the following procedure:\n",
    "`Kernel`$\\rightarrow$`Restart and Run All`.  All runtime errors will result in a minimum penalty of half off.\n",
    "- Data Bricks is the official class runtime environment so you should test your code on Data Bricks before submission.  If there is a runtime problem in the grading environment, we will try your code on Data Bricks before making a final grading decision.\n",
    "- All plots shall include a title, and axis labels.\n",
    "- Grading feedback cells are there for graders to provide feedback to students.  Don't change or remove grading feedback cells.\n",
    "- Don't add or remove files from your git repo.\n",
    "- Do not change file names in your repo.  This also means don't change the title of the ipython notebook.\n",
    "- __Only use spark, spark machine learning, spark data frames, RDD's, and map reduce to solve all problems unless instructed otherwise.__"
   ]
  },
  {
   "cell_type": "code",
   "execution_count": 39,
   "metadata": {
    "deletable": false,
    "editable": false,
    "nbgrader": {
     "checksum": "34b858b2a4dae4c0c6569a235758d7e7",
     "grade": true,
     "grade_id": "cell-16fe9b731c74bdb1",
     "locked": true,
     "points": 5,
     "schema_version": 1,
     "solution": false
    }
   },
   "outputs": [],
   "source": [
    "# read only cell\n",
    "\n",
    "import os\n",
    "\n",
    "# get the databricks runtime version\n",
    "db_env = os.getenv(\"DATABRICKS_RUNTIME_VERSION\")\n",
    "\n",
    "# Define a function to read the data file.  The full path data file name is constructed\n",
    "# by checking runtime environment variables to determine if the runtime environment is \n",
    "# databricks, or a student's personal computer.  The full path file name is then\n",
    "# constructed based on the runtime env.\n",
    "# \n",
    "# Params\n",
    "#   data_file_name: The base name of the data file to load\n",
    "# \n",
    "# Returns the full path file name based on the runtime env\n",
    "#\n",
    "def get_training_filename(data_file_name):    \n",
    "    # if the databricks env var exists\n",
    "    if db_env != None:\n",
    "        # build the full path file name assuming data brick env\n",
    "        full_path_name = \"/FileStore/tables/%s\" % data_file_name\n",
    "    # else the data is assumed to be in the same dir as this notebook\n",
    "    else:\n",
    "        # Assume the student is running on their own computer and load the data\n",
    "        # file from the same dir as this notebook\n",
    "        full_path_name = data_file_name\n",
    "    \n",
    "    # return the full path file name to the caller\n",
    "    return full_path_name"
   ]
  },
  {
   "cell_type": "code",
   "execution_count": 40,
   "metadata": {},
   "outputs": [],
   "source": [
    "# import statements here\n",
    "# create spark and sparkcontext objects\n",
    "from pyspark.sql import SparkSession\n",
    "from pyspark.sql import Row\n",
    "import numpy as np\n",
    "import pandas as pd\n",
    "spark = SparkSession.builder.getOrCreate()\n",
    "sc = spark.sparkContext"
   ]
  },
  {
   "cell_type": "markdown",
   "metadata": {},
   "source": [
    "# Moore's Law\n",
    "The frequently cited “Moore’s Law” originated with a 1965 article in Electronics magazine that said the number of transistors in a given area would double every year."
   ]
  },
  {
   "cell_type": "markdown",
   "metadata": {},
   "source": [
    "### ONLY use spark functions unless the question instructions say otherwise."
   ]
  },
  {
   "cell_type": "markdown",
   "metadata": {},
   "source": [
    "## Question 1 Load the Transistor Data (5 pts)\n",
    "- Read the MooresLaw.txt file into a spark data frame named trans_df using only spark.  The columns should be named as per the header in the txt file.\n",
    "- Print the first 5 rows of trans_df \n",
    "- Print the shape of trans_df (num_rows, num_cols)\n",
    "- Make sure to use the get_training_filename function above to obtain the file name based on your runtime environment"
   ]
  },
  {
   "cell_type": "code",
   "execution_count": 41,
   "metadata": {},
   "outputs": [
    {
     "name": "stdout",
     "output_type": "stream",
     "text": [
      "+---------------+------+-----------+----+----+----+----+\n",
      "|Intel Processor|  Year|Transistors| _c3| _c4| _c5| _c6|\n",
      "+---------------+------+-----------+----+----+----+----+\n",
      "|           4004|1971.9|       2300|null|null|null|null|\n",
      "|           8008|1972.3|       3500|null|null|null|null|\n",
      "|           8080|1974.3|       6000|null|null|null|null|\n",
      "|           8085|1976.3|       6500|null|null|null|null|\n",
      "|           8086|1978.5|      29000|null|null|null|null|\n",
      "+---------------+------+-----------+----+----+----+----+\n",
      "\n",
      "None\n"
     ]
    }
   ],
   "source": [
    "# your code here\n",
    "#trans_df = spark.read.csv('mooresLaw.txt', header=True, delimiter =\"\\t\", inferSchema=True)\n",
    "#display(trans_df.head())\n",
    "\n",
    "trans_df = spark.read.option(\"header\",\"true\")\\\n",
    "           .option(\"delimiter\",\"\\t\")\\\n",
    "           .option(\"inferSchema\",\"true\")\\\n",
    "           .csv('mooresLaw.txt')\n",
    "\n",
    "print(trans_df.limit(5).show())\n"
   ]
  },
  {
   "cell_type": "code",
   "execution_count": 42,
   "metadata": {},
   "outputs": [
    {
     "name": "stdout",
     "output_type": "stream",
     "text": [
      "Shape:  (74, 7)\n"
     ]
    }
   ],
   "source": [
    "print(\"Shape: \",(trans_df.count(), len(trans_df.columns)))"
   ]
  },
  {
   "cell_type": "markdown",
   "metadata": {},
   "source": [
    "##### Grading Feedback Cell"
   ]
  },
  {
   "cell_type": "markdown",
   "metadata": {},
   "source": [
    "## Question 2 Transistor Data Cleanup (5 pts)\n",
    "- Drop all columns in trans_df except the Year and Transistors column.\n",
    "- Drop rows in trans_df that contain NaN vales\n",
    "- Prove that trans_df does not contain NaN values by showing a single integer sum of the number of Nan values in the dataframe (should equal 0)"
   ]
  },
  {
   "cell_type": "code",
   "execution_count": 43,
   "metadata": {},
   "outputs": [],
   "source": [
    "# your code here\n",
    "columns_to_drop = ['Intel Processor', '_c3', '_c4', '_c5', '_c6']\n",
    "\n",
    "trans_df = trans_df.drop(*columns_to_drop)"
   ]
  },
  {
   "cell_type": "code",
   "execution_count": 44,
   "metadata": {},
   "outputs": [
    {
     "name": "stdout",
     "output_type": "stream",
     "text": [
      "root\n",
      " |-- Year: double (nullable = true)\n",
      " |-- Transistors: long (nullable = true)\n",
      "\n"
     ]
    }
   ],
   "source": [
    "trans_df.printSchema()"
   ]
  },
  {
   "cell_type": "code",
   "execution_count": 45,
   "metadata": {},
   "outputs": [],
   "source": [
    "trans_df = trans_df.na.drop()"
   ]
  },
  {
   "cell_type": "code",
   "execution_count": 46,
   "metadata": {},
   "outputs": [
    {
     "name": "stdout",
     "output_type": "stream",
     "text": [
      "+----+-----------+\n",
      "|Year|Transistors|\n",
      "+----+-----------+\n",
      "|   0|          0|\n",
      "+----+-----------+\n",
      "\n"
     ]
    }
   ],
   "source": [
    "from pyspark.sql.functions import col,sum\n",
    "trans_df.select(*(sum(col(c).isNull().cast(\"int\")).alias(c) for c in trans_df.columns)).show()"
   ]
  },
  {
   "cell_type": "markdown",
   "metadata": {},
   "source": [
    "##### Grading Feedback Cell"
   ]
  },
  {
   "cell_type": "markdown",
   "metadata": {},
   "source": [
    "## Question 3 Transistor Data Exploration (10 pts)\n"
   ]
  },
  {
   "cell_type": "markdown",
   "metadata": {},
   "source": [
    "### Question 3a (3 pts) \n",
    "Explore the data in trans_df by plotting transistors vs. year with a scatter plot.  You may use packages outside of spark to perform the task in question 3a."
   ]
  },
  {
   "cell_type": "code",
   "execution_count": 47,
   "metadata": {},
   "outputs": [
    {
     "data": {
      "image/png": "[encoded data removed]",
      "text/plain": [
       "<Figure size 432x288 with 1 Axes>"
      ]
     },
     "metadata": {
      "needs_background": "light"
     },
     "output_type": "display_data"
    }
   ],
   "source": [
    "# Your code here\n",
    "trans_df.select('Year', 'Transistors').toPandas().plot(x='Year', y='Transistors', kind='scatter', title = 'Transistors vs. Year');"
   ]
  },
  {
   "cell_type": "markdown",
   "metadata": {},
   "source": [
    "##### Grading Feedback Cell"
   ]
  },
  {
   "cell_type": "markdown",
   "metadata": {},
   "source": [
    "### Question 3b (3 pts)\n",
    "Compute the correlation between year and number of transistors in the trans_df using spark.  Print the resulting correlation value.  Interpret the correlation in words in the provided markdown cell."
   ]
  },
  {
   "cell_type": "code",
   "execution_count": 48,
   "metadata": {},
   "outputs": [
    {
     "name": "stdout",
     "output_type": "stream",
     "text": [
      "+-----------------------+\n",
      "|corr(Year, Transistors)|\n",
      "+-----------------------+\n",
      "|     0.5434352929286356|\n",
      "+-----------------------+\n",
      "\n"
     ]
    }
   ],
   "source": [
    "# your code here\n",
    "from pyspark.sql import functions as fn\n",
    "trans_df.select(fn.corr('Year', 'Transistors')).show()"
   ]
  },
  {
   "cell_type": "markdown",
   "metadata": {},
   "source": [
    "##### Grading Feedback Cell"
   ]
  },
  {
   "cell_type": "markdown",
   "metadata": {},
   "source": [
    "### Question 3c (4 pts) \n",
    "- Interpret the correlation value computed above in the markdown cell below."
   ]
  },
  {
   "cell_type": "markdown",
   "metadata": {},
   "source": [
    "Your correlation interpretation here: The correlation between Year and Transistors is 0.54, which means that there is a positive relationship between Year and Transistors. As the year progresses, the Transistors keep on increasing. This correlation value agrees with Moore's Law which talks about how the number of transistors double every year\n"
   ]
  },
  {
   "cell_type": "markdown",
   "metadata": {},
   "source": [
    "##### Grading Feedback Cell"
   ]
  },
  {
   "cell_type": "markdown",
   "metadata": {},
   "source": [
    "## Question 4 Transform the Data (10 pts)"
   ]
  },
  {
   "cell_type": "markdown",
   "metadata": {},
   "source": [
    "### Question 4a (5 pts)\n",
    "- Create a new data frame named trans_df_2 that adds a log transform to the transistors col in trans_df.\n",
    "- Print the head of trans_df_2\n",
    "- Print the shape of trans_df_2"
   ]
  },
  {
   "cell_type": "code",
   "execution_count": 49,
   "metadata": {},
   "outputs": [
    {
     "data": {
      "text/plain": [
       "Row(Year=1971.9, Transistors=2300, Log_Transistors=7.7406644019172415)"
      ]
     },
     "execution_count": 49,
     "metadata": {},
     "output_type": "execute_result"
    }
   ],
   "source": [
    "# your code here\n",
    "trans_df_2 = trans_df.select('Year','Transistors',fn.log('Transistors').alias('Log_Transistors'))\n",
    "trans_df_2.head()"
   ]
  },
  {
   "cell_type": "code",
   "execution_count": 50,
   "metadata": {},
   "outputs": [],
   "source": [
    "#trans_df_2 =trans_df_2.selectExpr(\"cast(Year as int) Year\",\"cast(Transistors as int) Transistors\")"
   ]
  },
  {
   "cell_type": "code",
   "execution_count": 51,
   "metadata": {},
   "outputs": [
    {
     "name": "stdout",
     "output_type": "stream",
     "text": [
      "root\n",
      " |-- Year: double (nullable = true)\n",
      " |-- Transistors: long (nullable = true)\n",
      " |-- Log_Transistors: double (nullable = true)\n",
      "\n",
      "Shape: (74, 3)\n"
     ]
    }
   ],
   "source": [
    "trans_df_2.printSchema()\n",
    "print(\"Shape:\",(trans_df_2.count(), len(trans_df_2.columns)))"
   ]
  },
  {
   "cell_type": "markdown",
   "metadata": {},
   "source": [
    "##### Grading Feedback Cell"
   ]
  },
  {
   "cell_type": "markdown",
   "metadata": {},
   "source": [
    "### Question 4b (5 pts)\n",
    "- Using trans_df_2, create a scatter plot of log transistors vs. year.  You may use packages outside of spark for this task."
   ]
  },
  {
   "cell_type": "code",
   "execution_count": 52,
   "metadata": {},
   "outputs": [
    {
     "data": {
      "image/png": "[encoded data removed]",
      "text/plain": [
       "<Figure size 432x288 with 1 Axes>"
      ]
     },
     "metadata": {
      "needs_background": "light"
     },
     "output_type": "display_data"
    }
   ],
   "source": [
    "# Your code here\n",
    "trans_df_2.select('Year','Log_Transistors').toPandas().plot(x='Year', y='Log_Transistors', kind='scatter', title = 'Log Transistors vs. Year');"
   ]
  },
  {
   "cell_type": "markdown",
   "metadata": {},
   "source": [
    "##### Grading Feedback Cell"
   ]
  },
  {
   "cell_type": "markdown",
   "metadata": {},
   "source": [
    "## Question 5 Fit a Linear Regression Pipeline (10 pts)"
   ]
  },
  {
   "cell_type": "markdown",
   "metadata": {},
   "source": [
    "### Question 5a ( 2 pts)\n",
    "- Split trans_df_2 into train and test splits with a 60:40 ratio.  Name the resulting data frames trans_train and trans_test.  Print the shape of of the train and test data frames."
   ]
  },
  {
   "cell_type": "code",
   "execution_count": 53,
   "metadata": {},
   "outputs": [
    {
     "name": "stdout",
     "output_type": "stream",
     "text": [
      "Shape of trans_train: (40, 3)\n",
      "Shape of trans_test: (34, 3)\n"
     ]
    }
   ],
   "source": [
    "# your code here\n",
    "trans_train,trans_test = trans_df_2.randomSplit([0.6, 0.4], )\n",
    "\n",
    "print(\"Shape of trans_train:\",(trans_train.count(), len(trans_df_2.columns)))\n",
    "\n",
    "print(\"Shape of trans_test:\",(trans_test.count(), len(trans_df_2.columns)))\n"
   ]
  },
  {
   "cell_type": "markdown",
   "metadata": {},
   "source": [
    "##### Grading Feedback Cell"
   ]
  },
  {
   "cell_type": "markdown",
   "metadata": {},
   "source": [
    "### Question 5b (6 pts)\n",
    "- Create a spark pipeline named trans_pipe to perform linear regression\n",
    "- Fit the pipeline using the transistors as the targets and year as the features.  Name the resulting fitted pipeline fitted_trans_pipe.\n",
    "- Fit another pipeline using the log transistors column as the targets and year as the features.  Name the resulting fitted pipeline log_fitted_trans_pipe."
   ]
  },
  {
   "cell_type": "code",
   "execution_count": 54,
   "metadata": {},
   "outputs": [],
   "source": [
    "# Functionality for computing features\n",
    "from pyspark.ml import feature\n",
    "# Functionality for regression\n",
    "from pyspark.ml import regression\n",
    "# Funcionality for classification\n",
    "from pyspark.ml import classification\n",
    "# Object for creating sequences of transformations\n",
    "from pyspark.ml import Pipeline"
   ]
  },
  {
   "cell_type": "code",
   "execution_count": 55,
   "metadata": {},
   "outputs": [],
   "source": [
    "# your code here\n",
    "va = feature.VectorAssembler(inputCols=['Year'], outputCol='features')\n",
    "lr = regression.LinearRegression(featuresCol='features', labelCol='Transistors')\n",
    "trans_pipe = Pipeline(stages=[va, lr])\n",
    "fitted_trans_pipe = trans_pipe.fit(trans_train)\n",
    "\n",
    "# your code here\n",
    "va1 = feature.VectorAssembler(inputCols=['Year'], outputCol='features')\n",
    "lr1 = regression.LinearRegression(featuresCol='features', labelCol='Log_Transistors')\n",
    "trans_pipe1 = Pipeline(stages=[va1, lr1])\n",
    "log_fitted_trans_pipe = trans_pipe1.fit(trans_train)"
   ]
  },
  {
   "cell_type": "code",
   "execution_count": 56,
   "metadata": {},
   "outputs": [
    {
     "name": "stdout",
     "output_type": "stream",
     "text": [
      "Target Variable as Transistors:\n",
      "+------+-----------+------------------+--------+--------------------+\n",
      "|  Year|Transistors|   Log_Transistors|features|          prediction|\n",
      "+------+-----------+------------------+--------+--------------------+\n",
      "|1971.9|       2300|7.7406644019172415|[1971.9]|-1.25694592711570...|\n",
      "|1974.3|       6000| 8.699514748210191|[1974.3]|-1.090801442446869E9|\n",
      "|1982.2|     134000|11.805595078933049|[1982.2]|-5.439091804119415E8|\n",
      "|1985.8|     275000|12.524526376648708|[1985.8]|-2.946924534086914E8|\n",
      "|1993.3|    3100000|14.946912669455374|[1993.3]|  2.24509061181427E8|\n",
      "+------+-----------+------------------+--------+--------------------+\n",
      "only showing top 5 rows\n",
      "\n",
      "Target Variable as Log_Transistors:\n",
      "+------+-----------+------------------+--------+------------------+\n",
      "|  Year|Transistors|   Log_Transistors|features|        prediction|\n",
      "+------+-----------+------------------+--------+------------------+\n",
      "|1971.9|       2300|7.7406644019172415|[1971.9]| 8.221641939167512|\n",
      "|1974.3|       6000| 8.699514748210191|[1974.3]| 8.997951782156974|\n",
      "|1982.2|     134000|11.805595078933049|[1982.2]| 11.55330501533092|\n",
      "|1985.8|     275000|12.524526376648708|[1985.8]|12.717769779815171|\n",
      "|1993.3|    3100000|14.946912669455374|[1993.3]|15.143738039157483|\n",
      "+------+-----------+------------------+--------+------------------+\n",
      "only showing top 5 rows\n",
      "\n"
     ]
    }
   ],
   "source": [
    "print(\"Target Variable as Transistors:\")\n",
    "fitted_trans_pipe.transform(trans_train).show(5)\n",
    "\n",
    "print(\"Target Variable as Log_Transistors:\")\n",
    "log_fitted_trans_pipe.transform(trans_train).show(5)"
   ]
  },
  {
   "cell_type": "markdown",
   "metadata": {},
   "source": [
    "##### Grading Feedback Cell"
   ]
  },
  {
   "cell_type": "markdown",
   "metadata": {},
   "source": [
    "### Question 5c (2 pts)\n",
    "- Print the linear regression coefficient in the linear regression object in each fitted model\n",
    "- Print the linear regression Y intercept in the linear regression object in each fitted model"
   ]
  },
  {
   "cell_type": "code",
   "execution_count": 57,
   "metadata": {},
   "outputs": [
    {
     "name": "stdout",
     "output_type": "stream",
     "text": [
      "linear regression coefficient:  [69226868.61201546]\n",
      "linear regression coefficient for Log Transistors:  [0.32346243457897017]\n",
      "linear regression Y intercept:  -137765408143.149\n",
      "linear regression Y intercept for Log Transistors:  -629.6139328071038\n"
     ]
    }
   ],
   "source": [
    "# your code here\n",
    "print(\"linear regression coefficient: \",fitted_trans_pipe.stages[1].coefficients)\n",
    "print(\"linear regression coefficient for Log Transistors: \",log_fitted_trans_pipe.stages[1].coefficients)\n",
    "print(\"linear regression Y intercept: \",fitted_trans_pipe.stages[1].intercept)\n",
    "print(\"linear regression Y intercept for Log Transistors: \",log_fitted_trans_pipe.stages[1].intercept)\n"
   ]
  },
  {
   "cell_type": "markdown",
   "metadata": {},
   "source": [
    "##### Grading Feedback Cell"
   ]
  },
  {
   "cell_type": "markdown",
   "metadata": {},
   "source": [
    "### Question 6 Test the linear regression pipeline (10 pts)"
   ]
  },
  {
   "cell_type": "markdown",
   "metadata": {},
   "source": [
    "### Question 6a (5 pts)\n",
    "- Compute mean squared error (MSE) using the transform method on each fitted model.\n",
    "- Print the resulting MSEs."
   ]
  },
  {
   "cell_type": "code",
   "execution_count": 58,
   "metadata": {},
   "outputs": [
    {
     "name": "stdout",
     "output_type": "stream",
     "text": [
      "--------------MSE for Test DataSet----------\n",
      "MSE for Transistors:\n",
      "+--------------------+\n",
      "|                 mse|\n",
      "+--------------------+\n",
      "|1.158890922259468...|\n",
      "+--------------------+\n",
      "\n",
      "MSE for Log_Transistors:\n",
      "+-------------------+\n",
      "|                mse|\n",
      "+-------------------+\n",
      "|0.43000988430448583|\n",
      "+-------------------+\n",
      "\n"
     ]
    }
   ],
   "source": [
    "# your code here\n",
    "mse = fn.mean((fn.col('Transistors') - fn.col('prediction'))**2).alias('mse')\n",
    "Log_mse = fn.mean((fn.col('Log_Transistors') - fn.col('prediction'))**2).alias('mse')\n",
    "\n",
    "print(\"--------------MSE for Test DataSet----------\")\n",
    "print(\"MSE for Transistors:\")\n",
    "fitted_trans_pipe.transform(trans_test).select(mse).show()\n",
    "print(\"MSE for Log_Transistors:\")\n",
    "log_fitted_trans_pipe.transform(trans_test).select(Log_mse).show()\n"
   ]
  },
  {
   "cell_type": "markdown",
   "metadata": {},
   "source": [
    "##### Grading Feedback Cell"
   ]
  },
  {
   "cell_type": "markdown",
   "metadata": {},
   "source": [
    "### Question 6b (5 pts)\n",
    "- Using log_fitted_trans_pipe and any needed support code, predict and print the number of transistors for the years 1970.0, 1980.0, 1990.0, 2000.0, and 2010.0"
   ]
  },
  {
   "cell_type": "code",
   "execution_count": 59,
   "metadata": {},
   "outputs": [
    {
     "name": "stdout",
     "output_type": "stream",
     "text": [
      "No. of Transistors in year 1970:  2012.3597420395145\n",
      "No. of Transistors in year 1980:  51107.557383433814\n",
      "No. of Transistors in year 1990:  1297969.9241318314\n",
      "No. of Transistors in year 2000:  32964320.938114204\n",
      "No. of Transistors in year 2010:  837189240.4501895\n"
     ]
    }
   ],
   "source": [
    "from math import exp, log10, fabs, atan, log\n",
    "t_1970 = exp(log_fitted_trans_pipe.stages[1].intercept + (log_fitted_trans_pipe.stages[1].coefficients[0])*1970)\n",
    "t_1980 = exp(log_fitted_trans_pipe.stages[1].intercept + (log_fitted_trans_pipe.stages[1].coefficients[0])*1980)\n",
    "t_1990 = exp(log_fitted_trans_pipe.stages[1].intercept + (log_fitted_trans_pipe.stages[1].coefficients[0])*1990)\n",
    "t_2000 = exp(log_fitted_trans_pipe.stages[1].intercept + (log_fitted_trans_pipe.stages[1].coefficients[0])*2000)\n",
    "t_2010 = exp(log_fitted_trans_pipe.stages[1].intercept + (log_fitted_trans_pipe.stages[1].coefficients[0])*2010)\n",
    "print(\"No. of Transistors in year 1970: \",t_1970)\n",
    "print(\"No. of Transistors in year 1980: \",t_1980)\n",
    "print(\"No. of Transistors in year 1990: \",t_1990)\n",
    "print(\"No. of Transistors in year 2000: \",t_2000)\n",
    "print(\"No. of Transistors in year 2010: \",t_2010)\n",
    "\n"
   ]
  },
  {
   "cell_type": "markdown",
   "metadata": {},
   "source": [
    "##### Grading Feedback Cell"
   ]
  },
  {
   "cell_type": "markdown",
   "metadata": {},
   "source": [
    "# Climate Change"
   ]
  },
  {
   "cell_type": "markdown",
   "metadata": {},
   "source": [
    "## Question 7 Load the global warming data (5 pts)\n",
    "- Read the globalWarm.txt file into a spark data frame named global_warm_df using only spark.  The columns should be named as per the header in the txt file.\n",
    "- Print the first 5 rows of global_warm_df \n",
    "- Print the shape of global_warm_df (num_rows, num_cols)\n",
    "- Make sure to use the get_training_filename function above to obtain the file name based on your runtime environment\n",
    "- A data description follows:\n",
    "<ul>\n",
    "<li/>Temp = annual surface temperature measured in 1/100<sup>o</sup> C   over the 1950-1980 mean.  \n",
    "<li/>Solar = annual mean intensity of sunlight piercing the atmosphere\n",
    "<li/>CO2 = annual average fraction CO<sub>2</sub> in atmosphere (#molecules/#molecules of dry air) \n",
    "<li/>IceShelf = sea ice in 1MM square miles  hypothesized to reflect heat\n",
    "<li/>Transmission = volcanic MLO transmission data where eruptions release greenhouse gases but also decrease the temperature\n",
    "</ul>"
   ]
  },
  {
   "cell_type": "code",
   "execution_count": 60,
   "metadata": {},
   "outputs": [
    {
     "name": "stdout",
     "output_type": "stream",
     "text": [
      "+----+----+------+-------+------------+--------+\n",
      "|Year|Temp|   CO2|  Solar|Transmission|IceShelf|\n",
      "+----+----+------+-------+------------+--------+\n",
      "|1979|   8|336.67|1366.43| 0.928466667|     7.2|\n",
      "|1980|  19|338.57|1366.51| 0.929666667|    7.85|\n",
      "|1981|  26|339.92|1366.51| 0.929766667|    7.25|\n",
      "|1982|   4| 341.3|1366.16| 0.853066667|    7.45|\n",
      "|1983|  25|342.71|1366.18| 0.897716667|    7.52|\n",
      "+----+----+------+-------+------------+--------+\n",
      "\n",
      "None\n"
     ]
    }
   ],
   "source": [
    "# your code here\n",
    "global_warm_df = spark.read.option(\"header\",\"true\")\\\n",
    "           .option(\"delimiter\",\"\\t\")\\\n",
    "           .option(\"inferSchema\",\"true\")\\\n",
    "           .csv('globalWarm.txt')\n",
    "\n",
    "print(global_warm_df.limit(5).show())\n"
   ]
  },
  {
   "cell_type": "code",
   "execution_count": 61,
   "metadata": {},
   "outputs": [
    {
     "name": "stdout",
     "output_type": "stream",
     "text": [
      "Shape:  (32, 6)\n"
     ]
    }
   ],
   "source": [
    "print(\"Shape: \",(global_warm_df.count(), len(global_warm_df.columns)))"
   ]
  },
  {
   "cell_type": "markdown",
   "metadata": {},
   "source": [
    "##### Grading Feedback Cell"
   ]
  },
  {
   "cell_type": "markdown",
   "metadata": {},
   "source": [
    "## Question 8 Global Warming Data Exploration (5 pts)\n",
    "- Create a temperature vs. year scatter plot from global_warm_df\n",
    "- You may use packages outside of spark for this question"
   ]
  },
  {
   "cell_type": "code",
   "execution_count": 62,
   "metadata": {},
   "outputs": [
    {
     "data": {
      "image/png": "[encoded data removed]",
      "text/plain": [
       "<Figure size 432x288 with 1 Axes>"
      ]
     },
     "metadata": {
      "needs_background": "light"
     },
     "output_type": "display_data"
    }
   ],
   "source": [
    "# your code here\n",
    "# Your code here\n",
    "global_warm_df.select('Year', 'Temp').toPandas().plot(x='Year', y='Temp', kind='scatter', title = 'Temperature vs. Year');"
   ]
  },
  {
   "cell_type": "markdown",
   "metadata": {},
   "source": [
    "##### Grading Feedback Cell"
   ]
  },
  {
   "cell_type": "markdown",
   "metadata": {},
   "source": [
    "## Question 9 Global Warming Data Exploration (10 pts)\n"
   ]
  },
  {
   "cell_type": "markdown",
   "metadata": {},
   "source": [
    "### Question 9a (5 pts)\n",
    "- Using global_warm_df, create a pair plot of the following variables in a grid:  Temp, CO<sub>2</sub>, Solar, Transmission, and IceShelf.\n",
    "- You may use packages outside of spark for this question"
   ]
  },
  {
   "cell_type": "code",
   "execution_count": 63,
   "metadata": {},
   "outputs": [
    {
     "data": {
      "text/plain": [
       "Text(0.5, 1.01, 'Pair Plot of Temp, CO2, Solar, Transmission, IceShelf')"
      ]
     },
     "execution_count": 63,
     "metadata": {},
     "output_type": "execute_result"
    },
    {
     "data": {
      "image/png": "[encoded data removed]",
      "text/plain": [
       "<Figure size 1080x1080 with 30 Axes>"
      ]
     },
     "metadata": {
      "needs_background": "light"
     },
     "output_type": "display_data"
    }
   ],
   "source": [
    "# your code here\n",
    "import seaborn as sns\n",
    "import matplotlib.pyplot as plt\n",
    "\n",
    "ax = sns.pairplot(global_warm_df.toPandas(), \n",
    "             vars = ['Temp', 'CO2', 'Solar','Transmission','IceShelf'], \n",
    "             diag_kind = 'kde', \n",
    "             plot_kws = {'alpha': 1.0, 's': 80, 'edgecolor': 'k'},\n",
    "             height = 3);\n",
    "\n",
    "ax.fig.suptitle('Pair Plot of Temp, CO2, Solar, Transmission, IceShelf', y=1.01,size=20)\n"
   ]
  },
  {
   "cell_type": "markdown",
   "metadata": {},
   "source": [
    "##### Grading Feedback Cell"
   ]
  },
  {
   "cell_type": "markdown",
   "metadata": {},
   "source": [
    "### Question 9b (5 pts)\n",
    "- Compute a correlation matrix between Temp, CO<sub>2</sub>, Solar, Transmission, and IceShelf using spark.\n",
    "- Print a labeled correlation matrix."
   ]
  },
  {
   "cell_type": "code",
   "execution_count": 64,
   "metadata": {},
   "outputs": [
    {
     "name": "stdout",
     "output_type": "stream",
     "text": [
      "*******CORRELATION MATRIX************\n",
      "                  Temp       CO2     Solar  Transmission  IceShelf\n",
      "Temp          1.000000  0.860927 -0.340342      0.435394 -0.747425\n",
      "CO2           0.860927  1.000000 -0.542822      0.328228 -0.846961\n",
      "Solar        -0.340342 -0.542822  1.000000     -0.205848  0.470690\n",
      "Transmission  0.435394  0.328228 -0.205848      1.000000 -0.302484\n",
      "IceShelf     -0.747425 -0.846961  0.470690     -0.302484  1.000000\n"
     ]
    }
   ],
   "source": [
    "from pyspark.mllib.stat import Statistics\n",
    "columns_to_drop_1 = ['Year']\n",
    "global_warm_df_1 = global_warm_df.drop(*columns_to_drop_1)\n",
    "\n",
    "col_names = global_warm_df_1.columns\n",
    "features = global_warm_df_1.rdd.map(lambda row: row[0:])\n",
    "corr_mat=Statistics.corr(features, method=\"pearson\")\n",
    "corr_df = pd.DataFrame(corr_mat)\n",
    "corr_df.index, corr_df.columns = col_names, col_names\n",
    "print(\"*******CORRELATION MATRIX************\")\n",
    "print(corr_df.to_string())"
   ]
  },
  {
   "cell_type": "markdown",
   "metadata": {},
   "source": [
    "##### Grading Feedback Cell"
   ]
  },
  {
   "cell_type": "markdown",
   "metadata": {},
   "source": [
    "## Question 10 Fit Linear Regression Pipelines (10 pts)"
   ]
  },
  {
   "cell_type": "markdown",
   "metadata": {},
   "source": [
    "### Question 10a (2 pts)\n",
    "Split global_warm_df into train and test splits with a 60:40 ratio.  Name the resulting data frames gw_train and gw_test.  Print the shape of of the train and test data frames.   "
   ]
  },
  {
   "cell_type": "code",
   "execution_count": 65,
   "metadata": {},
   "outputs": [
    {
     "name": "stdout",
     "output_type": "stream",
     "text": [
      "Shape of trans_train: (20, 6)\n",
      "Shape of trans_test: (12, 6)\n"
     ]
    }
   ],
   "source": [
    "# your code here\n",
    "gw_train,gw_test = global_warm_df.randomSplit([0.6, 0.4], )\n",
    "\n",
    "print(\"Shape of trans_train:\",(gw_train.count(), len(global_warm_df.columns)))\n",
    "\n",
    "print(\"Shape of trans_test:\",(gw_test.count(), len(global_warm_df.columns)))"
   ]
  },
  {
   "cell_type": "markdown",
   "metadata": {},
   "source": [
    "##### Grading Feedback Cell"
   ]
  },
  {
   "cell_type": "markdown",
   "metadata": {},
   "source": [
    "### Question 10b (6 pts)\n",
    "- Create a spark pipeline named global_warm_pipe to perform linear regression.\n",
    "- Use the global_warm_df data frame\n",
    "- Fit a pipeline on the temp column as the target and CO2 as the feature.  Name the resulting fitted pipeline fitted_global_warm_pipe.\n",
    "- Fit another pipeline on the temp column as the target and all other columns except year as the features.  Name the resulting fitted pipeline fitted_global_warm_pipe_2."
   ]
  },
  {
   "cell_type": "code",
   "execution_count": 66,
   "metadata": {},
   "outputs": [],
   "source": [
    "# your code here\n",
    "va = feature.VectorAssembler(inputCols=['CO2'], outputCol='features')\n",
    "lr = regression.LinearRegression(featuresCol='features', labelCol='Temp')\n",
    "global_warm_pipe = Pipeline(stages=[va, lr])\n",
    "fitted_global_warm_pipe = global_warm_pipe.fit(gw_train)\n",
    "\n",
    "va1 = feature.VectorAssembler(inputCols=['CO2','Solar','Transmission','IceShelf'], outputCol='features')\n",
    "lr1 = regression.LinearRegression(featuresCol='features', labelCol='Temp')\n",
    "global_warm_pipe1 = Pipeline(stages=[va1, lr1])\n",
    "fitted_global_warm_pipe_2 = global_warm_pipe1.fit(gw_train)"
   ]
  },
  {
   "cell_type": "markdown",
   "metadata": {},
   "source": [
    "##### Grading Feedback Cell"
   ]
  },
  {
   "cell_type": "markdown",
   "metadata": {},
   "source": [
    "### Question 10c (2 pts)\n",
    "- Print the linear regression coefficient(s) in the linear regression object in each fitted model\n",
    "- Print the linear regression Y intercept in the linear regression object in each fitted model"
   ]
  },
  {
   "cell_type": "code",
   "execution_count": 67,
   "metadata": {},
   "outputs": [
    {
     "name": "stdout",
     "output_type": "stream",
     "text": [
      "linear regression coefficient:  [1.0393381283614407]\n",
      "linear regression coefficient for CO2, Solar, Transmission, IceShelf:  [0.9062498471714141,7.892500992285567,139.91890409926916,-3.0537097894219625]\n",
      "linear regression Y intercept:  -343.9318699926861\n",
      "linear regression Y intercept for CO2, Solar, Transmission, IceShelf:  -11184.738114275224\n"
     ]
    }
   ],
   "source": [
    "# your code here\n",
    "print(\"linear regression coefficient: \",fitted_global_warm_pipe.stages[1].coefficients)\n",
    "print(\"linear regression coefficient for CO2, Solar, Transmission, IceShelf: \",fitted_global_warm_pipe_2.stages[1].coefficients)\n",
    "print(\"linear regression Y intercept: \",fitted_global_warm_pipe.stages[1].intercept)\n",
    "print(\"linear regression Y intercept for CO2, Solar, Transmission, IceShelf: \",fitted_global_warm_pipe_2.stages[1].intercept)"
   ]
  },
  {
   "cell_type": "markdown",
   "metadata": {},
   "source": [
    "##### Grading Feedback Cell"
   ]
  },
  {
   "cell_type": "markdown",
   "metadata": {},
   "source": [
    "### Question 11 Test the linear regression pipeline (10 pts)"
   ]
  },
  {
   "cell_type": "markdown",
   "metadata": {},
   "source": [
    "### Question 11a (5 pts)\n",
    "- Compute mean squared error (MSE) using the transform method on each fitted model.\n",
    "- Print the resulting MSEs."
   ]
  },
  {
   "cell_type": "code",
   "execution_count": 68,
   "metadata": {},
   "outputs": [
    {
     "name": "stdout",
     "output_type": "stream",
     "text": [
      "--------------MSE for Test DataSet----------\n",
      "MSE for Temp with CO2:\n",
      "+------------------+\n",
      "|               mse|\n",
      "+------------------+\n",
      "|102.16471108553328|\n",
      "+------------------+\n",
      "\n",
      "MSE for Temp with all other variables except Year:\n",
      "+-----------------+\n",
      "|              mse|\n",
      "+-----------------+\n",
      "|85.10526745335501|\n",
      "+-----------------+\n",
      "\n"
     ]
    }
   ],
   "source": [
    "# your code here\n",
    "gw_mse = fn.mean((fn.col('Temp') - fn.col('prediction'))**2).alias('mse')\n",
    "\n",
    "print(\"--------------MSE for Test DataSet----------\")\n",
    "print(\"MSE for Temp with CO2:\")\n",
    "fitted_global_warm_pipe.transform(gw_test).select(gw_mse).show()\n",
    "print(\"MSE for Temp with all other variables except Year:\")\n",
    "fitted_global_warm_pipe_2.transform(gw_test).select(gw_mse).show()"
   ]
  },
  {
   "cell_type": "markdown",
   "metadata": {},
   "source": [
    "##### Grading Feedback Cell"
   ]
  },
  {
   "cell_type": "markdown",
   "metadata": {},
   "source": [
    "### Question 11b (5 pts)\n",
    "- Which of the 2 models have higher performance.  In the cell below, describe why you think the better performing model made the model perform better."
   ]
  },
  {
   "cell_type": "markdown",
   "metadata": {},
   "source": [
    "The model with all the features is performing better because by increasing the number of features, the variance of the model is increasing and thereby the fit of the model is improving which is reducing the bias and since the predicted values are closer to the actual values, the MSE is also lower for the model with all the features, which is the better performing model."
   ]
  },
  {
   "cell_type": "markdown",
   "metadata": {},
   "source": [
    "### Question 12 Inference (10 pts)"
   ]
  },
  {
   "cell_type": "markdown",
   "metadata": {},
   "source": [
    "### Question 12a Data Scaling (5 pts)\n",
    "Add data scaling to fitted_global_warm_pipe_2 above. Name the resulting fitted model fitted_global_warm_pipe_3.  Print the resulting fitted model coefficients such that each coefficient is clearly labeled with it's corresponding feature name."
   ]
  },
  {
   "cell_type": "code",
   "execution_count": 69,
   "metadata": {},
   "outputs": [
    {
     "name": "stdout",
     "output_type": "stream",
     "text": [
      "Intercept of the model:  31.699999999998596\n",
      "Coefficient of CO2:  15.266045430881134\n",
      "Coefficient of Solar:  3.448568532062011\n",
      "Coefficient of Transmission:  3.087421291455947\n",
      "Coefficient of IceShelf:  -3.302906428654538\n"
     ]
    }
   ],
   "source": [
    "va2 = feature.VectorAssembler(inputCols=['CO2','Solar','Transmission','IceShelf'], outputCol='features')\n",
    "sc = feature.StandardScaler(withMean=True,withStd= True,inputCol='features',outputCol=\"sc_features\")\n",
    "lr2 = regression.LinearRegression(featuresCol='sc_features',labelCol='Temp')\n",
    "scaled_pipe = Pipeline(stages=[va2, sc, lr2])\n",
    "fitted_global_warm_pipe_3 = scaled_pipe.fit(gw_train)\n",
    "print(\"Intercept of the model: \",fitted_global_warm_pipe_3.stages[2].intercept)\n",
    "print(\"Coefficient of CO2: \",fitted_global_warm_pipe_3.stages[2].coefficients[0])\n",
    "print(\"Coefficient of Solar: \",fitted_global_warm_pipe_3.stages[2].coefficients[1])\n",
    "print(\"Coefficient of Transmission: \",fitted_global_warm_pipe_3.stages[2].coefficients[2])\n",
    "print(\"Coefficient of IceShelf: \",fitted_global_warm_pipe_3.stages[2].coefficients[3])\n"
   ]
  },
  {
   "cell_type": "markdown",
   "metadata": {},
   "source": [
    "### Question 12b Inference (5 pts)  \n",
    "Use the coefficients printed above to gain insights into the global warming problem. Describe your inference conclusions in the cell below."
   ]
  },
  {
   "cell_type": "markdown",
   "metadata": {},
   "source": [
    "Coefficient inference conclusions here: The insights that we can obtain from these coefficients are that, CO2, Transmission and solar have a positive impact on temperature, i.e. an increase in CO2 or Transmission or Solar will result in an increase in temperature, whereas on the other hand IceShelf has a negative impact on temperature, i.e. an increase in IceShelf will result in a decrease in temperature. The coefficient of CO2 is 21.35 which indicates that, 1 standard deviation increase in CO2, keeping all the other variables constant will result in 21.35 units increase in temperature. When IceShelf increases by 1 standard deviation the temperature is going to decrease by 0.15 units.When all the variables are 0, the temperature is going to be equal to the intercept."
   ]
  },
  {
   "cell_type": "markdown",
   "metadata": {},
   "source": [
    "##### Grading Feedback Cell"
   ]
  },
  {
   "cell_type": "markdown",
   "metadata": {},
   "source": [
    "# Question 13 Extra Credit (10 pts)\n",
    "This question is optional.  No points will be deducted from your score if you do not attempt this problem.<br>\n",
    "\n",
    "Starting with the rdd class presented in lecture (maintaining all class method names), implement a my_reduce method in the rdd class.  Your implementation shall maintain rdd class immutability.  Your my_reduce method return type should be consistent with the return type in the real Spark reduce method. Do some research and see what the Spark reduce return type would be.  <br>\n",
    "\n",
    "Implement a function named times_3 which returns its input multiplied by 3. Implement a function named is_even that returns true if it's input is even, false otherwise.  Implement a my_sum function that returns the sum of its 2 inputs.  <br>\n",
    "\n",
    "Your overall implementation should not rely on receiving specific data types as inputs.  For example, the plus operator works on more than just ints and floats."
   ]
  },
  {
   "cell_type": "code",
   "execution_count": 70,
   "metadata": {},
   "outputs": [],
   "source": [
    "# your code here\n",
    "def times_3(a):\n",
    "    return a*3\n",
    "def is_even(a):\n",
    "    if a%2 == 0:\n",
    "        return True\n",
    "    else:\n",
    "        return False\n",
    "def my_sum(a,b):\n",
    "    return a + b\n",
    "\n",
    "# defining class\n",
    "class rdd:\n",
    "    def __init__(self,c):\n",
    "        self.array_1 = c\n",
    "        \n",
    "    # map function\n",
    "    def my_map(self,c):\n",
    "        if len(self.array_1) < 1:\n",
    "            raise Exception(\"my_map: len(array_1) < 1\")\n",
    "        \n",
    "        # for storing result as rdd need to be immutable\n",
    "        result_array = np.empty_like(self.array_1,dtype = np.double)\n",
    "        \n",
    "        # applying user defined functions\n",
    "        for i, j in enumerate(self.array_1):\n",
    "            result_array[i]=c(float(self.array_1[i]))\n",
    "            \n",
    "        return rdd(result_array)\n",
    "    \n",
    "    def my_filter(self,c):\n",
    "        filtered = []\n",
    "        for j in self.array_1:\n",
    "            filtered.append(j)\n",
    "            \n",
    "        return rdd(np.array(filtered))\n",
    "    \n",
    "    \n",
    "    def my_reduce(self,c):\n",
    "        if len(self.array_1) < 1:\n",
    "            raise Exception(\"my_map: len(array_1)<1\")\n",
    "            \n",
    "        result_array = np.empty_like(self.array_1, dtype = np.double)\n",
    "        \n",
    "        for i, j in enumerate(self.array_1):\n",
    "            result_array[i]=c((0 if (i==0) else result_array[i-1]),float(self.array_1[i]))\n",
    "        \n",
    "        return rdd(result_array[-1])\n",
    "    \n",
    "    def my_collect(self):\n",
    "        return self.array_1\n",
    "    \n"
   ]
  },
  {
   "cell_type": "code",
   "execution_count": 76,
   "metadata": {
    "scrolled": true
   },
   "outputs": [
    {
     "name": "stdout",
     "output_type": "stream",
     "text": [
      "<class '__main__.rdd'>\n",
      "<__main__.rdd object at 0x1a2665de10>\n"
     ]
    }
   ],
   "source": [
    "# Simple test code\n",
    "test_rdd = rdd(np.arange(100))\n",
    "result = test_rdd.my_map(times_3).my_filter(is_even).my_reduce(my_sum)\n",
    "print(type(result))\n",
    "print(result)\n",
    "# secret grading test code follows\n"
   ]
  },
  {
   "cell_type": "markdown",
   "metadata": {},
   "source": [
    "##### Grading Feedback Cell\n",
    "-5 for not returning an integer"
   ]
  }
 ],
 "metadata": {
  "celltoolbar": "Edit Metadata",
  "kernelspec": {
   "display_name": "Python 3",
   "language": "python",
   "name": "python3"
  },
  "language_info": {
   "codemirror_mode": {
    "name": "ipython",
    "version": 3
   },
   "file_extension": ".py",
   "mimetype": "text/x-python",
   "name": "python",
   "nbconvert_exporter": "python",
   "pygments_lexer": "ipython3",
   "version": "3.7.3"
  }
 },
 "nbformat": 4,
 "nbformat_minor": 2
}
